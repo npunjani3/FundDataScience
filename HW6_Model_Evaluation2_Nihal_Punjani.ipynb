{
 "cells": [
  {
   "cell_type": "markdown",
   "id": "apparent-cookbook",
   "metadata": {},
   "source": [
    "# Homework Assignment 6: Model Evaluation 2\n",
    "As in the previous assignments, in this homework assignment you will continue your exploration of the [SWAN-SF Dataset](https://doi.org/10.7910/DVN/EBCFKM), described in the paper found [here](https://doi.org/10.1038/s41597-020-0548-x).\n",
    "\n",
    "This assignment will continue to utilize a copy of the extracted feature dataset we used in Homework 5. Recall that the dataset has been processed by performing log, z-score and range scaling. We continuing to use more than one partition worth of data, so for the scaling, the mean, standard deviation, minimum, and maximum were calculated using data from both partitions so that a global scaling can be performed on each partition. \n",
    "\n",
    "\n",
    "---"
   ]
  },
  {
   "cell_type": "markdown",
   "id": "animal-portugal",
   "metadata": {},
   "source": [
    "## Step 1: Downloading the Data\n",
    "\n",
    "This assignment will continue to use [Partition 1](https://dataverse.harvard.edu/api/access/datafile/:persistentId?persistentId=doi:10.7910/DVN/EBCFKM/BMXYCB) for a training set and [Partition 2](https://dataverse.harvard.edu/api/access/datafile/:persistentId?persistentId=doi:10.7910/DVN/EBCFKM/TCRPUD) as a testing set. \n",
    "\n",
    "---\n",
    "\n",
    "For this assignment, cleaning, transforming, and normalization of the data has been completed using both partitions to find the various minimum, maximum, standard deviation, and mean values needed to perform these operations. Recall from lecture that we should not perform these operations on each partition individually, but as a whole as there may(will) be different values for these in different partitions. \n",
    "\n",
    "For example, if we perform simple range scaling on each partition individually and we see a range of 0 to 100 in one partition and 0 to 10 in another. After individual scaling the values with 100 in the first would be mapped to 1 just like the values that had 10 in the second. This can cause serious performance problems in your model, so I have made sure that the normalization was treated properly for you. \n",
    "\n",
    "Below you will find the full partitions and `toy` sampled data from each partition, where only 20 samples from each of our 5 classes have been included in the data.  \n",
    "\n",
    "#### Full\n",
    "- [Full Normalized Partition 1 feature dataset](http://dmlab.cs.gsu.edu/solar/data/normalized_partition1ExtractedFeatures.csv)\n",
    "- [Full Normalized Partition 2 feature dataset](http://dmlab.cs.gsu.edu/solar/data/normalized_partition2ExtractedFeatures.csv)\n",
    "\n",
    "#### Toy\n",
    "- [Toy Normalized Partition 1 feature dataset](http://dmlab.cs.gsu.edu/solar/data/toy_normalized_partition1ExtractedFeatures.csv)\n",
    "- [Toy Normalized Partition 2 feature dataset](http://dmlab.cs.gsu.edu/solar/data/toy_normalized_partition2ExtractedFeatures.csv)\n",
    "\n",
    "Now that you have the two files, you should load each into a Pandas DataFrame using the [pandas.read_csv](https://pandas.pydata.org/pandas-docs/stable/reference/api/pandas.read_csv.html) method. \n",
    "\n",
    "---"
   ]
  },
  {
   "cell_type": "markdown",
   "id": "packed-spare",
   "metadata": {},
   "source": [
    "### Evaluation Metric\n",
    "\n",
    "As was done in Homework 5, for each of the models we evaluate in this assignmnet, you will calculate the True Skill Statistic score using the test data from Partition 2 to determine which model performs the best for classifying the positive flaring class.\n",
    "\n",
    "    True skill statistic (TSS) = TPR + TNR - 1 = TPR - (1-TNR) = TPR - FPR\n",
    "\n",
    "Where:\n",
    "\n",
    "    True positive rate (TPR) = TP/(TP+FN) Also known as recall or sensitivity\n",
    "    True negative rate (TNR) = TN/(TN+FP) Also known as specificity or selectivity\n",
    "    False positive rate (FPR) = FP/(FP+TN) = (1-TNR) Also known as fall-out or false alarm ratio\n",
    "\n",
    "\n",
    "**Recall**\n",
    "\n",
    "    True positive (TP)\n",
    "    True negative (TN)\n",
    "    False positive (FP)\n",
    "    False negative (FN)\n",
    "    \n",
    "See [confusion matrix](https://en.wikipedia.org/wiki/Confusion_matrix) for more information.\n",
    "\n",
    "Below is a function implemented to provide your score for each model.\n",
    "\n",
    "---"
   ]
  },
  {
   "cell_type": "code",
   "execution_count": 1,
   "id": "individual-production",
   "metadata": {},
   "outputs": [],
   "source": [
    "%matplotlib inline\n",
    "import os\n",
    "import itertools\n",
    "import pandas as pd\n",
    "from pandas import DataFrame \n",
    "import numpy as np\n",
    "from sklearn.metrics import confusion_matrix\n",
    "from sklearn.feature_selection import SelectKBest\n",
    "from sklearn.feature_selection import f_classif\n",
    "from sklearn.feature_selection import mutual_info_classif\n",
    "from sklearn.feature_selection import chi2\n",
    "from sklearn.feature_selection import SequentialFeatureSelector\n",
    "from sklearn.feature_selection import SelectFromModel\n",
    "from sklearn.linear_model import LassoLars\n",
    "from sklearn.ensemble import ExtraTreesClassifier\n",
    "from sklearn.cluster import KMeans\n",
    "\n",
    "from sklearn.svm import SVC\n",
    "import seaborn as sns\n",
    "import matplotlib.pyplot as plt"
   ]
  },
  {
   "cell_type": "code",
   "execution_count": 2,
   "id": "facial-sleep",
   "metadata": {},
   "outputs": [],
   "source": [
    "def calc_tss(y_true, y_predict):\n",
    "    '''\n",
    "    Calculates the true skill score for binary classification based on the output of the confusion\n",
    "    table function\n",
    "    \n",
    "        Parameters:\n",
    "            y_true   : A vector/list of values that represent the true class label of the data being evaluated.\n",
    "            y_predict: A vector/list of values that represent the predicted class label for the data being evaluated.\n",
    "    \n",
    "        Returns:\n",
    "            tss_value (float): A floating point value (-1.0,1.0) indicating the TSS of the input data\n",
    "    '''\n",
    "    scores = confusion_matrix(y_true, y_predict).ravel()\n",
    "    TN, FP, FN, TP = scores\n",
    "    print('TN={0}\\tFP={1}\\tFN={2}\\tTP={3}'.format(TN, FP, FN, TP))\n",
    "    tp_rate = TP / float(TP + FN) if TP > 0 else 0  \n",
    "    fp_rate = FP / float(FP + TN) if FP > 0 else 0\n",
    "    \n",
    "    return tp_rate - fp_rate"
   ]
  },
  {
   "cell_type": "markdown",
   "id": "5b04d14e",
   "metadata": {},
   "source": [
    "---\n",
    "\n",
    "In addition to the TSS, you will be asked to also calculate the Heidke Skill Score (HSS) to see how much better your model performs than a random forecast.  \n",
    "\n",
    "Below is a function implemented to provide your score fore each model.\n",
    "\n",
    "---"
   ]
  },
  {
   "cell_type": "code",
   "execution_count": 3,
   "id": "1ab05f6a",
   "metadata": {},
   "outputs": [],
   "source": [
    "def calc_hss(y_true, y_predict):\n",
    "    '''\n",
    "    Calculates the Heidke Skill Score for binary classification based on the output of the confusion\n",
    "    table function.\n",
    "    \n",
    "    The HSS measures the fractional improvement of the forecast over the standard forecast.\n",
    "    The \"standard forecast\" is usually the number correct by chance or the proportion \n",
    "    correct by chance.\n",
    "    \n",
    "        Parameters:\n",
    "            y_true   : A vector/list of values that represent the true class label of the data being evaluated.\n",
    "            y_predict: A vector/list of values that represent the predicted class label for the data being evaluated.\n",
    "    \n",
    "        Returns:\n",
    "            hss_value (float): A floating point value (-inf,1.0) indicating the HSS of the input data. \n",
    "                Negative values indicate that the chance forecast is better, 0 means no skill, and a perfect forecast obtains a HSS of 1.\n",
    "    '''\n",
    "    scores = confusion_matrix(y_true, y_predict).ravel()\n",
    "    TN, FP, FN, TP = scores\n",
    "    #print('TN={0}\\tFP={1}\\tFN={2}\\tTP={3}'.format(TN, FP, FN, TP))\n",
    "    P = float(TP + FN)\n",
    "    N = float(FP + TN)\n",
    "    numerator = 2*((TP * TN) - (FN * FP))\n",
    "    denominator = P*(FN + TN) + N*(TP + FP)\n",
    "    \n",
    "    return numerator/denominator"
   ]
  },
  {
   "cell_type": "markdown",
   "id": "secure-alfred",
   "metadata": {},
   "source": [
    "---\n",
    "\n",
    "As in the previous assignment, we will be utilizing a binary classification of our 5 class dataset. So, below is the helper function to change our class labels from the 5 class target feature to the binary target feature. The function is implemented to take a dataframe (e.g. our `abt`) and prepares it for a binary classification by merging the `X`- and `M`-class samples into one group, and the rest (`NF`, `B`, and `C`) into another group, labeled with `1`s and `0`s, respectively.\n",
    "\n",
    "---"
   ]
  },
  {
   "cell_type": "code",
   "execution_count": 4,
   "id": "handled-motor",
   "metadata": {},
   "outputs": [],
   "source": [
    "def dichotomize_X_y(data: pd.DataFrame):\n",
    "    \"\"\"\n",
    "    dichotomizes the dataset and split it into the features (X) and the labels (y).\n",
    "    \n",
    "    :return: two np.ndarray objects X and y.\n",
    "    \"\"\"\n",
    "    data_dich = data.copy()\n",
    "    data_dich['lab'] = data_dich['lab'].map({'NF': 0, 'B': 0, 'C': 0, 'M': 1, 'X': 1})\n",
    "    y = data_dich['lab']\n",
    "    X = data_dich.drop(['lab'], axis=1)\n",
    "    return X.values, y.values"
   ]
  },
  {
   "cell_type": "code",
   "execution_count": 5,
   "id": "viral-productivity",
   "metadata": {},
   "outputs": [],
   "source": [
    "data_dir = '/Users/npunjani/Documents/Fund_Data_Science/data'\n",
    "data_file = \"normalized_partition1ExtractedFeatures.csv\"\n",
    "data_file2 = \"normalized_partition2ExtractedFeatures.csv\""
   ]
  },
  {
   "cell_type": "code",
   "execution_count": 6,
   "id": "infectious-segment",
   "metadata": {},
   "outputs": [],
   "source": [
    "abt = pd.read_csv(os.path.join(data_dir, data_file))\n",
    "abt2 = pd.read_csv(os.path.join(data_dir, data_file2))"
   ]
  },
  {
   "cell_type": "markdown",
   "id": "approximate-manufacturer",
   "metadata": {},
   "source": [
    "---\n",
    "\n",
    "### Reading the partitions"
   ]
  },
  {
   "cell_type": "markdown",
   "id": "f78989fe",
   "metadata": {},
   "source": [
    "---\n",
    "\n",
    "### Run Feature Selection\n",
    "\n",
    "Below you have code to perform feature selction using [SelectKBest](https://scikit-learn.org/stable/modules/generated/sklearn.feature_selection.SelectKBest.html#sklearn.feature_selection.SelectKBest) class from [scikit-learn Univariate Feature Selection](https://scikit-learn.org/stable/modules/feature_selection.html#univariate-feature-selection). The scoring function being used is [scikit-learn f_classif](https://scikit-learn.org/stable/modules/generated/sklearn.feature_selection.f_classif.html#sklearn.feature_selection.f_classif).\n",
    "\n",
    "Once feature selection is done with this one method, a set of training and testing dataframes are constructed by doing the following:\n",
    "\n",
    "* Utilizing the `get_support` function of the feature selection object we get a mask of the features we will select from our original analytics base table DataFrame.  \n",
    "\n",
    "* The mask of selected features is then paired with the `loc` function on our datframe containing only the descriptive features to get our selected featrues on all rows in our feature dataframe.\n",
    "\n",
    "* The set of selected features are concatenated with our labels to construct a training dataset.\n",
    "\n",
    "* This process was then repeated to construct the testing set.\n",
    "\n",
    "---"
   ]
  },
  {
   "cell_type": "code",
   "execution_count": 7,
   "id": "818faa7c",
   "metadata": {},
   "outputs": [],
   "source": [
    "numFeat = 20\n",
    "\n",
    "# Split the target and descriptive features for Partition 1 into two \n",
    "# different DataFrame objects\n",
    "df_labels = abt['lab'].copy()\n",
    "df_feats = abt.copy().drop(['lab'], axis=1)\n",
    "\n",
    "# Split the target and descriptive features for Partition 2 inot two\n",
    "# different DataFrame Objects\n",
    "df_test_labels = abt2['lab'].copy()\n",
    "df_test_feats = abt2.copy().drop(['lab'], axis=1)\n",
    "\n",
    "# Do feature selection\n",
    "feats1 = SelectKBest(f_classif, k=numFeat).fit(df_feats, df_labels)"
   ]
  },
  {
   "cell_type": "code",
   "execution_count": 8,
   "id": "041022de",
   "metadata": {},
   "outputs": [],
   "source": [
    "# Construct a training dataset from Partition 1 with only the selected descriptive \n",
    "# features and the target feature\n",
    "df_selected_feats1 = df_feats.loc[:, feats1.get_support()]\n",
    "df_train_set1 = pd.concat([df_labels, df_selected_feats1], axis=1)\n",
    "\n",
    "# Construct a testing dataset from Partition 2 with only the selected descriptive\n",
    "# features and the target feature\n",
    "df_test_selected_feats1 = df_test_feats.loc[:, feats1.get_support()]\n",
    "df_test_set1 = pd.concat([df_test_labels, df_test_selected_feats1], axis=1)"
   ]
  },
  {
   "cell_type": "code",
   "execution_count": 55,
   "id": "5b37e516",
   "metadata": {},
   "outputs": [
    {
     "data": {
      "text/plain": [
       "307"
      ]
     },
     "metadata": {},
     "output_type": "display_data"
    },
    {
     "data": {
      "text/plain": [
       "0"
      ]
     },
     "metadata": {},
     "output_type": "display_data"
    }
   ],
   "source": [
    "display(abt2.columns.get_loc('R_VALUE_median'))\n",
    "display(abt2.columns.get_loc('lab'))"
   ]
  },
  {
   "cell_type": "markdown",
   "id": "28981223",
   "metadata": {},
   "source": [
    "---\n",
    "### Q1 (5 points)\n",
    "\n",
    "Using the feature selection task above as a template, you will now perform feature selection again to produce a second set of training and testing data. This time you will use the [SelectFromModel](https://scikit-learn.org/stable/modules/generated/sklearn.feature_selection.SelectFromModel.html#sklearn.feature_selection.SelectFromModel) class from [scikit-learn Univariate Feature Selection](https://scikit-learn.org/stable/modules/feature_selection.html#univariate-feature-selection). \n",
    "\n",
    "Instead of using the [LinearSVC](https://scikit-learn.org/stable/modules/generated/sklearn.svm.LinearSVC.html#sklearn.svm.LinearSVC) that is shown in the example documentation linked above, you will be utilizing the [LassoLars](https://scikit-learn.org/stable/modules/generated/sklearn.linear_model.LassoLars.html#sklearn.linear_model.LassoLars) as your `estimator`.  You should also set the `max_features` to the number of features we are going to select (20 features). \n",
    "\n",
    "**Note:** The LassoLars class is a regression model and will not work on our string class lables. So, you need to map the `NF`, `B`, `C`, `M`, `X` labels to a range between `-1` and `1` before you attempt to fit the feature selection model to them. You can try evenly spacing them, or forcing the classes that will be used as the negative class into a tight range and those that will be used as the postive class into another tight range.  Maybe this another location for you to do hyperparameter tuning?"
   ]
  },
  {
   "cell_type": "code",
   "execution_count": 9,
   "id": "a0638036",
   "metadata": {},
   "outputs": [],
   "source": [
    "numFeat = 20"
   ]
  },
  {
   "cell_type": "code",
   "execution_count": 10,
   "id": "dbe2d3f4",
   "metadata": {},
   "outputs": [],
   "source": [
    "abt_dich = abt.copy()\n",
    "abt_dich['lab'] = abt_dich['lab'].map({'NF': -1, 'B': -0.5, 'C': 0, 'M': 0.5, 'X': 1})\n",
    "df_labels2 = abt_dich['lab'].copy()\n",
    "df_feats2 = abt_dich.copy().drop(['lab'], axis=1)\n",
    "\n",
    "# Split the target and descriptive features for Partition 2 inot two\n",
    "# different DataFrame Objects\n",
    "abt_dich2 = abt2.copy()\n",
    "abt_dich2['lab'] = abt_dich2['lab'].map({'NF': -1, 'B': -0.5, 'C': 0, 'M': 0.5, 'X': 1})\n",
    "df_test_labels2 = abt_dich2['lab'].copy()\n",
    "df_test_feats2 = abt_dich2.copy().drop(['lab'], axis=1)\n",
    "\n",
    "lasso = LassoLars(alpha = 0.0005, normalize = False)\n",
    "feats2 = SelectFromModel(estimator= lasso, max_features = numFeat).fit(df_feats2, df_labels2)\n",
    "\n",
    "\n",
    "df_selected_feats2 = df_feats2.loc[:, feats2.get_support()]\n",
    "df_train_set2 = pd.concat([df_labels2, df_selected_feats2], axis=1)\n",
    "\n",
    "# Construct a testing dataset from Partition 2 with only the selected descriptive\n",
    "# features and the target feature\n",
    "df_test_selected_feats2 = df_test_feats2.loc[:, feats2.get_support()]\n",
    "df_test_set2 = pd.concat([df_test_labels2, df_test_selected_feats2], axis=1)\n",
    "    #----------------------------------------------\n",
    "    # TODO: Complete here.\n",
    "    #----------------------------------------------"
   ]
  },
  {
   "cell_type": "code",
   "execution_count": 11,
   "id": "1e2e1b02",
   "metadata": {},
   "outputs": [
    {
     "data": {
      "text/html": [
       "<div>\n",
       "<style scoped>\n",
       "    .dataframe tbody tr th:only-of-type {\n",
       "        vertical-align: middle;\n",
       "    }\n",
       "\n",
       "    .dataframe tbody tr th {\n",
       "        vertical-align: top;\n",
       "    }\n",
       "\n",
       "    .dataframe thead th {\n",
       "        text-align: right;\n",
       "    }\n",
       "</style>\n",
       "<table border=\"1\" class=\"dataframe\">\n",
       "  <thead>\n",
       "    <tr style=\"text-align: right;\">\n",
       "      <th></th>\n",
       "      <th>lab</th>\n",
       "      <th>MEANJZH_no_zero_crossings</th>\n",
       "      <th>MEANJZH_quadratic_weighted_average</th>\n",
       "      <th>MEANJZD_no_zero_crossings</th>\n",
       "      <th>R_VALUE_min</th>\n",
       "      <th>R_VALUE_last_value</th>\n",
       "      <th>TOTUSJH_difference_of_means</th>\n",
       "      <th>TOTUSJH_dderivative_mean</th>\n",
       "      <th>TOTUSJH_last_value</th>\n",
       "      <th>ABSNJZH_stddev</th>\n",
       "      <th>...</th>\n",
       "      <th>ABSNJZH_gderivative_stddev</th>\n",
       "      <th>ABSNJZH_last_value</th>\n",
       "      <th>USFLUX_gderivative_kurtosis</th>\n",
       "      <th>SHRGT45_min</th>\n",
       "      <th>MEANGBH_average_absolute_derivative_change</th>\n",
       "      <th>R_VALUE_difference_of_maxs</th>\n",
       "      <th>R_VALUE_dderivative_kurtosis</th>\n",
       "      <th>R_VALUE_average_absolute_change</th>\n",
       "      <th>id</th>\n",
       "      <th>SAVNCPP_max</th>\n",
       "    </tr>\n",
       "  </thead>\n",
       "  <tbody>\n",
       "    <tr>\n",
       "      <th>0</th>\n",
       "      <td>NF</td>\n",
       "      <td>0.033898</td>\n",
       "      <td>0.545386</td>\n",
       "      <td>0.000000</td>\n",
       "      <td>0.000000</td>\n",
       "      <td>0.371876</td>\n",
       "      <td>0.111319</td>\n",
       "      <td>0.630735</td>\n",
       "      <td>0.271143</td>\n",
       "      <td>0.166475</td>\n",
       "      <td>...</td>\n",
       "      <td>0.166540</td>\n",
       "      <td>0.113146</td>\n",
       "      <td>0.308554</td>\n",
       "      <td>0.212871</td>\n",
       "      <td>0.217918</td>\n",
       "      <td>0.275097</td>\n",
       "      <td>0.360307</td>\n",
       "      <td>0.494019</td>\n",
       "      <td>0.294529</td>\n",
       "      <td>0.073789</td>\n",
       "    </tr>\n",
       "    <tr>\n",
       "      <th>1</th>\n",
       "      <td>NF</td>\n",
       "      <td>0.118644</td>\n",
       "      <td>0.525162</td>\n",
       "      <td>0.186441</td>\n",
       "      <td>0.000000</td>\n",
       "      <td>0.000000</td>\n",
       "      <td>0.127628</td>\n",
       "      <td>0.629853</td>\n",
       "      <td>0.108247</td>\n",
       "      <td>0.122735</td>\n",
       "      <td>...</td>\n",
       "      <td>0.108461</td>\n",
       "      <td>0.008834</td>\n",
       "      <td>0.291073</td>\n",
       "      <td>0.184229</td>\n",
       "      <td>0.259369</td>\n",
       "      <td>0.724886</td>\n",
       "      <td>0.420570</td>\n",
       "      <td>0.401538</td>\n",
       "      <td>0.398784</td>\n",
       "      <td>0.009592</td>\n",
       "    </tr>\n",
       "    <tr>\n",
       "      <th>2</th>\n",
       "      <td>NF</td>\n",
       "      <td>0.000000</td>\n",
       "      <td>0.567049</td>\n",
       "      <td>0.084746</td>\n",
       "      <td>0.000000</td>\n",
       "      <td>0.000000</td>\n",
       "      <td>0.154522</td>\n",
       "      <td>0.627332</td>\n",
       "      <td>0.120471</td>\n",
       "      <td>0.105429</td>\n",
       "      <td>...</td>\n",
       "      <td>0.118634</td>\n",
       "      <td>0.050708</td>\n",
       "      <td>0.269239</td>\n",
       "      <td>0.181194</td>\n",
       "      <td>0.273133</td>\n",
       "      <td>0.000000</td>\n",
       "      <td>0.000000</td>\n",
       "      <td>0.000000</td>\n",
       "      <td>0.280851</td>\n",
       "      <td>0.017374</td>\n",
       "    </tr>\n",
       "    <tr>\n",
       "      <th>3</th>\n",
       "      <td>NF</td>\n",
       "      <td>0.000000</td>\n",
       "      <td>0.549949</td>\n",
       "      <td>0.000000</td>\n",
       "      <td>0.708787</td>\n",
       "      <td>0.697463</td>\n",
       "      <td>0.038392</td>\n",
       "      <td>0.645043</td>\n",
       "      <td>0.320618</td>\n",
       "      <td>0.183616</td>\n",
       "      <td>...</td>\n",
       "      <td>0.167205</td>\n",
       "      <td>0.136556</td>\n",
       "      <td>0.248018</td>\n",
       "      <td>0.457661</td>\n",
       "      <td>0.142390</td>\n",
       "      <td>0.223022</td>\n",
       "      <td>0.221887</td>\n",
       "      <td>0.147631</td>\n",
       "      <td>0.330699</td>\n",
       "      <td>0.037189</td>\n",
       "    </tr>\n",
       "    <tr>\n",
       "      <th>4</th>\n",
       "      <td>NF</td>\n",
       "      <td>0.000000</td>\n",
       "      <td>0.464451</td>\n",
       "      <td>0.000000</td>\n",
       "      <td>0.000000</td>\n",
       "      <td>0.000000</td>\n",
       "      <td>0.056755</td>\n",
       "      <td>0.632399</td>\n",
       "      <td>0.124584</td>\n",
       "      <td>0.103106</td>\n",
       "      <td>...</td>\n",
       "      <td>0.115037</td>\n",
       "      <td>0.095203</td>\n",
       "      <td>0.329569</td>\n",
       "      <td>0.523315</td>\n",
       "      <td>0.241456</td>\n",
       "      <td>0.735209</td>\n",
       "      <td>0.489277</td>\n",
       "      <td>0.367878</td>\n",
       "      <td>0.305167</td>\n",
       "      <td>0.018851</td>\n",
       "    </tr>\n",
       "  </tbody>\n",
       "</table>\n",
       "<p>5 rows × 21 columns</p>\n",
       "</div>"
      ],
      "text/plain": [
       "  lab  MEANJZH_no_zero_crossings  MEANJZH_quadratic_weighted_average  \\\n",
       "0  NF                   0.033898                            0.545386   \n",
       "1  NF                   0.118644                            0.525162   \n",
       "2  NF                   0.000000                            0.567049   \n",
       "3  NF                   0.000000                            0.549949   \n",
       "4  NF                   0.000000                            0.464451   \n",
       "\n",
       "   MEANJZD_no_zero_crossings  R_VALUE_min  R_VALUE_last_value  \\\n",
       "0                   0.000000     0.000000            0.371876   \n",
       "1                   0.186441     0.000000            0.000000   \n",
       "2                   0.084746     0.000000            0.000000   \n",
       "3                   0.000000     0.708787            0.697463   \n",
       "4                   0.000000     0.000000            0.000000   \n",
       "\n",
       "   TOTUSJH_difference_of_means  TOTUSJH_dderivative_mean  TOTUSJH_last_value  \\\n",
       "0                     0.111319                  0.630735            0.271143   \n",
       "1                     0.127628                  0.629853            0.108247   \n",
       "2                     0.154522                  0.627332            0.120471   \n",
       "3                     0.038392                  0.645043            0.320618   \n",
       "4                     0.056755                  0.632399            0.124584   \n",
       "\n",
       "   ABSNJZH_stddev  ...  ABSNJZH_gderivative_stddev  ABSNJZH_last_value  \\\n",
       "0        0.166475  ...                    0.166540            0.113146   \n",
       "1        0.122735  ...                    0.108461            0.008834   \n",
       "2        0.105429  ...                    0.118634            0.050708   \n",
       "3        0.183616  ...                    0.167205            0.136556   \n",
       "4        0.103106  ...                    0.115037            0.095203   \n",
       "\n",
       "   USFLUX_gderivative_kurtosis  SHRGT45_min  \\\n",
       "0                     0.308554     0.212871   \n",
       "1                     0.291073     0.184229   \n",
       "2                     0.269239     0.181194   \n",
       "3                     0.248018     0.457661   \n",
       "4                     0.329569     0.523315   \n",
       "\n",
       "   MEANGBH_average_absolute_derivative_change  R_VALUE_difference_of_maxs  \\\n",
       "0                                    0.217918                    0.275097   \n",
       "1                                    0.259369                    0.724886   \n",
       "2                                    0.273133                    0.000000   \n",
       "3                                    0.142390                    0.223022   \n",
       "4                                    0.241456                    0.735209   \n",
       "\n",
       "   R_VALUE_dderivative_kurtosis  R_VALUE_average_absolute_change        id  \\\n",
       "0                      0.360307                         0.494019  0.294529   \n",
       "1                      0.420570                         0.401538  0.398784   \n",
       "2                      0.000000                         0.000000  0.280851   \n",
       "3                      0.221887                         0.147631  0.330699   \n",
       "4                      0.489277                         0.367878  0.305167   \n",
       "\n",
       "   SAVNCPP_max  \n",
       "0     0.073789  \n",
       "1     0.009592  \n",
       "2     0.017374  \n",
       "3     0.037189  \n",
       "4     0.018851  \n",
       "\n",
       "[5 rows x 21 columns]"
      ]
     },
     "metadata": {},
     "output_type": "display_data"
    },
    {
     "data": {
      "text/html": [
       "<div>\n",
       "<style scoped>\n",
       "    .dataframe tbody tr th:only-of-type {\n",
       "        vertical-align: middle;\n",
       "    }\n",
       "\n",
       "    .dataframe tbody tr th {\n",
       "        vertical-align: top;\n",
       "    }\n",
       "\n",
       "    .dataframe thead th {\n",
       "        text-align: right;\n",
       "    }\n",
       "</style>\n",
       "<table border=\"1\" class=\"dataframe\">\n",
       "  <thead>\n",
       "    <tr style=\"text-align: right;\">\n",
       "      <th></th>\n",
       "      <th>lab</th>\n",
       "      <th>MEANJZH_no_zero_crossings</th>\n",
       "      <th>MEANJZH_quadratic_weighted_average</th>\n",
       "      <th>MEANJZD_no_zero_crossings</th>\n",
       "      <th>R_VALUE_min</th>\n",
       "      <th>R_VALUE_last_value</th>\n",
       "      <th>TOTUSJH_difference_of_means</th>\n",
       "      <th>TOTUSJH_dderivative_mean</th>\n",
       "      <th>TOTUSJH_last_value</th>\n",
       "      <th>ABSNJZH_stddev</th>\n",
       "      <th>...</th>\n",
       "      <th>ABSNJZH_gderivative_stddev</th>\n",
       "      <th>ABSNJZH_last_value</th>\n",
       "      <th>USFLUX_gderivative_kurtosis</th>\n",
       "      <th>SHRGT45_min</th>\n",
       "      <th>MEANGBH_average_absolute_derivative_change</th>\n",
       "      <th>R_VALUE_difference_of_maxs</th>\n",
       "      <th>R_VALUE_dderivative_kurtosis</th>\n",
       "      <th>R_VALUE_average_absolute_change</th>\n",
       "      <th>id</th>\n",
       "      <th>SAVNCPP_max</th>\n",
       "    </tr>\n",
       "  </thead>\n",
       "  <tbody>\n",
       "    <tr>\n",
       "      <th>0</th>\n",
       "      <td>NF</td>\n",
       "      <td>0.000000</td>\n",
       "      <td>0.449428</td>\n",
       "      <td>0.000000</td>\n",
       "      <td>0.000000</td>\n",
       "      <td>0.547147</td>\n",
       "      <td>0.035051</td>\n",
       "      <td>0.641546</td>\n",
       "      <td>0.253303</td>\n",
       "      <td>0.221667</td>\n",
       "      <td>...</td>\n",
       "      <td>0.169989</td>\n",
       "      <td>0.235000</td>\n",
       "      <td>0.264767</td>\n",
       "      <td>0.669936</td>\n",
       "      <td>0.214159</td>\n",
       "      <td>0.166891</td>\n",
       "      <td>0.445880</td>\n",
       "      <td>0.472935</td>\n",
       "      <td>0.578116</td>\n",
       "      <td>0.063282</td>\n",
       "    </tr>\n",
       "    <tr>\n",
       "      <th>1</th>\n",
       "      <td>NF</td>\n",
       "      <td>0.118644</td>\n",
       "      <td>0.523684</td>\n",
       "      <td>0.220339</td>\n",
       "      <td>0.000000</td>\n",
       "      <td>0.000000</td>\n",
       "      <td>0.032760</td>\n",
       "      <td>0.633513</td>\n",
       "      <td>0.152454</td>\n",
       "      <td>0.113363</td>\n",
       "      <td>...</td>\n",
       "      <td>0.118672</td>\n",
       "      <td>0.051744</td>\n",
       "      <td>0.328020</td>\n",
       "      <td>0.165078</td>\n",
       "      <td>0.199313</td>\n",
       "      <td>0.000000</td>\n",
       "      <td>0.000000</td>\n",
       "      <td>0.000000</td>\n",
       "      <td>0.736474</td>\n",
       "      <td>0.011076</td>\n",
       "    </tr>\n",
       "    <tr>\n",
       "      <th>2</th>\n",
       "      <td>NF</td>\n",
       "      <td>0.000000</td>\n",
       "      <td>0.481698</td>\n",
       "      <td>0.000000</td>\n",
       "      <td>0.000000</td>\n",
       "      <td>0.000000</td>\n",
       "      <td>0.075855</td>\n",
       "      <td>0.637211</td>\n",
       "      <td>0.163801</td>\n",
       "      <td>0.158542</td>\n",
       "      <td>...</td>\n",
       "      <td>0.163447</td>\n",
       "      <td>0.116043</td>\n",
       "      <td>0.322359</td>\n",
       "      <td>0.283320</td>\n",
       "      <td>0.292778</td>\n",
       "      <td>0.379079</td>\n",
       "      <td>0.479937</td>\n",
       "      <td>0.363787</td>\n",
       "      <td>0.942857</td>\n",
       "      <td>0.035432</td>\n",
       "    </tr>\n",
       "    <tr>\n",
       "      <th>3</th>\n",
       "      <td>NF</td>\n",
       "      <td>0.000000</td>\n",
       "      <td>0.514006</td>\n",
       "      <td>0.338983</td>\n",
       "      <td>0.705388</td>\n",
       "      <td>0.701873</td>\n",
       "      <td>0.243270</td>\n",
       "      <td>0.609854</td>\n",
       "      <td>0.260010</td>\n",
       "      <td>0.188205</td>\n",
       "      <td>...</td>\n",
       "      <td>0.161562</td>\n",
       "      <td>0.141853</td>\n",
       "      <td>0.246428</td>\n",
       "      <td>0.399548</td>\n",
       "      <td>0.170696</td>\n",
       "      <td>0.144527</td>\n",
       "      <td>0.254740</td>\n",
       "      <td>0.159168</td>\n",
       "      <td>0.858359</td>\n",
       "      <td>0.038205</td>\n",
       "    </tr>\n",
       "    <tr>\n",
       "      <th>4</th>\n",
       "      <td>NF</td>\n",
       "      <td>0.220339</td>\n",
       "      <td>0.526087</td>\n",
       "      <td>0.169492</td>\n",
       "      <td>0.000000</td>\n",
       "      <td>0.310076</td>\n",
       "      <td>0.008333</td>\n",
       "      <td>0.636584</td>\n",
       "      <td>0.094275</td>\n",
       "      <td>0.086037</td>\n",
       "      <td>...</td>\n",
       "      <td>0.092659</td>\n",
       "      <td>0.053446</td>\n",
       "      <td>0.302333</td>\n",
       "      <td>0.299603</td>\n",
       "      <td>0.330313</td>\n",
       "      <td>0.536450</td>\n",
       "      <td>0.580230</td>\n",
       "      <td>0.401050</td>\n",
       "      <td>0.589970</td>\n",
       "      <td>0.008969</td>\n",
       "    </tr>\n",
       "  </tbody>\n",
       "</table>\n",
       "<p>5 rows × 21 columns</p>\n",
       "</div>"
      ],
      "text/plain": [
       "  lab  MEANJZH_no_zero_crossings  MEANJZH_quadratic_weighted_average  \\\n",
       "0  NF                   0.000000                            0.449428   \n",
       "1  NF                   0.118644                            0.523684   \n",
       "2  NF                   0.000000                            0.481698   \n",
       "3  NF                   0.000000                            0.514006   \n",
       "4  NF                   0.220339                            0.526087   \n",
       "\n",
       "   MEANJZD_no_zero_crossings  R_VALUE_min  R_VALUE_last_value  \\\n",
       "0                   0.000000     0.000000            0.547147   \n",
       "1                   0.220339     0.000000            0.000000   \n",
       "2                   0.000000     0.000000            0.000000   \n",
       "3                   0.338983     0.705388            0.701873   \n",
       "4                   0.169492     0.000000            0.310076   \n",
       "\n",
       "   TOTUSJH_difference_of_means  TOTUSJH_dderivative_mean  TOTUSJH_last_value  \\\n",
       "0                     0.035051                  0.641546            0.253303   \n",
       "1                     0.032760                  0.633513            0.152454   \n",
       "2                     0.075855                  0.637211            0.163801   \n",
       "3                     0.243270                  0.609854            0.260010   \n",
       "4                     0.008333                  0.636584            0.094275   \n",
       "\n",
       "   ABSNJZH_stddev  ...  ABSNJZH_gderivative_stddev  ABSNJZH_last_value  \\\n",
       "0        0.221667  ...                    0.169989            0.235000   \n",
       "1        0.113363  ...                    0.118672            0.051744   \n",
       "2        0.158542  ...                    0.163447            0.116043   \n",
       "3        0.188205  ...                    0.161562            0.141853   \n",
       "4        0.086037  ...                    0.092659            0.053446   \n",
       "\n",
       "   USFLUX_gderivative_kurtosis  SHRGT45_min  \\\n",
       "0                     0.264767     0.669936   \n",
       "1                     0.328020     0.165078   \n",
       "2                     0.322359     0.283320   \n",
       "3                     0.246428     0.399548   \n",
       "4                     0.302333     0.299603   \n",
       "\n",
       "   MEANGBH_average_absolute_derivative_change  R_VALUE_difference_of_maxs  \\\n",
       "0                                    0.214159                    0.166891   \n",
       "1                                    0.199313                    0.000000   \n",
       "2                                    0.292778                    0.379079   \n",
       "3                                    0.170696                    0.144527   \n",
       "4                                    0.330313                    0.536450   \n",
       "\n",
       "   R_VALUE_dderivative_kurtosis  R_VALUE_average_absolute_change        id  \\\n",
       "0                      0.445880                         0.472935  0.578116   \n",
       "1                      0.000000                         0.000000  0.736474   \n",
       "2                      0.479937                         0.363787  0.942857   \n",
       "3                      0.254740                         0.159168  0.858359   \n",
       "4                      0.580230                         0.401050  0.589970   \n",
       "\n",
       "   SAVNCPP_max  \n",
       "0     0.063282  \n",
       "1     0.011076  \n",
       "2     0.035432  \n",
       "3     0.038205  \n",
       "4     0.008969  \n",
       "\n",
       "[5 rows x 21 columns]"
      ]
     },
     "metadata": {},
     "output_type": "display_data"
    }
   ],
   "source": [
    "di = {-1: 'NF', -0.5: 'B', 0: 'C', 0.5: 'M', 1: 'X'}\n",
    "df_train_set2.replace({'lab':di}, inplace = True)\n",
    "df_test_set2.replace({'lab':di}, inplace = True)\n",
    "display(df_train_set2.head())\n",
    "display(df_test_set2.head())"
   ]
  },
  {
   "cell_type": "markdown",
   "id": "88a34b6f",
   "metadata": {},
   "source": [
    "---\n",
    "### Q2 (5 points)\n",
    "\n",
    "In this question, you will again perform the feature selection task [SelectFromModel](https://scikit-learn.org/stable/modules/generated/sklearn.feature_selection.SelectFromModel.html#sklearn.feature_selection.SelectFromModel) class from [scikit-learn Univariate Feature Selection](https://scikit-learn.org/stable/modules/feature_selection.html#univariate-feature-selection). However, this time, you will be utililizing a random forest model called [ExtraTreesClassifier](https://scikit-learn.org/stable/modules/generated/sklearn.ensemble.ExtraTreesClassifier.html#sklearn.ensemble.ExtraTreesClassifier) as the `estimator`. \n",
    "\n",
    "You need set the `max_features` of the SelectFromModel object to the number of features we are going to select (20 features). \n",
    "\n",
    "You also need to set the `n_estimators` of the random forest algorithm to `75` when you construct it.\n",
    "\n",
    "**Note:** This method allows you to utilize our string class labels, so you don't need to map the lables to any other values. You can use the labels that were used in the original example above."
   ]
  },
  {
   "cell_type": "code",
   "execution_count": 12,
   "id": "4deb923e",
   "metadata": {},
   "outputs": [],
   "source": [
    "numFeat = 20\n",
    "\n",
    "# Split the target and descriptive features for Partition 1 into two \n",
    "# different DataFrame objects\n",
    "df_labels3 = abt['lab'].copy()\n",
    "df_feats3 = abt.copy().drop(['lab'], axis=1)\n",
    "\n",
    "# Split the target and descriptive features for Partition 2 inot two\n",
    "# different DataFrame Objects\n",
    "df_test_labels3 = abt2['lab'].copy()\n",
    "df_test_feats3 = abt2.copy().drop(['lab'], axis=1)"
   ]
  },
  {
   "cell_type": "code",
   "execution_count": 13,
   "id": "a7e9454a",
   "metadata": {},
   "outputs": [],
   "source": [
    "clf = ExtraTreesClassifier(n_estimators = 75)\n",
    "feats3 = SelectFromModel(estimator= clf, max_features = numFeat).fit(df_feats3, df_labels3)\n",
    "\n",
    "df_selected_feats3 = df_feats3.loc[:, feats3.get_support()]\n",
    "df_train_set3 = pd.concat([df_labels3, df_selected_feats3], axis=1)\n",
    "\n",
    "# Construct a testing dataset from Partition 2 with only the selected descriptive\n",
    "# features and the target feature\n",
    "df_test_selected_feats3 = df_test_feats3.loc[:, feats3.get_support()]\n",
    "df_test_set3 = pd.concat([df_test_labels3, df_test_selected_feats3], axis=1)\n",
    "    \n",
    "    #----------------------------------------------\n",
    "    # TODO: Complete here.\n",
    "    #----------------------------------------------"
   ]
  },
  {
   "cell_type": "code",
   "execution_count": 14,
   "id": "5b768759",
   "metadata": {},
   "outputs": [
    {
     "data": {
      "text/plain": [
       "(73492, 21)"
      ]
     },
     "metadata": {},
     "output_type": "display_data"
    },
    {
     "data": {
      "text/plain": [
       "(88557, 21)"
      ]
     },
     "metadata": {},
     "output_type": "display_data"
    }
   ],
   "source": [
    "display(df_train_set3.shape)\n",
    "display(df_test_set3.shape)"
   ]
  },
  {
   "cell_type": "markdown",
   "id": "39118a80",
   "metadata": {},
   "source": [
    "---\n",
    "### Q3 (5 points)\n",
    "\n",
    "Now that you have three different datasets, you need to convert them each to a binary classification problem datase or dichotomize the training and testing data. Lucky for you, a method has already been provided to do this. All you need to do is apply it to teach of the `DataFrame`s you constructed with the feature selected training and testing data from the exmpale, Q1, and Q2.\n",
    "\n",
    "**Note:** You might want to put the training and testing tuples you get from the call to the dichotomize method into seperate training and testing lists. Then you can loop over them later. "
   ]
  },
  {
   "cell_type": "code",
   "execution_count": 15,
   "id": "67f8b669",
   "metadata": {},
   "outputs": [],
   "source": [
    "train = []\n",
    "test = []\n",
    "\n",
    "X, y = dichotomize_X_y(df_train_set1)\n",
    "train.append(X)\n",
    "train.append(y)\n",
    "\n",
    "X, y = dichotomize_X_y(df_test_set1)\n",
    "test.append(X)\n",
    "test.append(y)\n",
    "\n",
    "X, y = dichotomize_X_y(df_train_set2)\n",
    "train.append(X)\n",
    "train.append(y)\n",
    "\n",
    "X, y = dichotomize_X_y(df_test_set2)\n",
    "test.append(X)\n",
    "test.append(y)\n",
    "\n",
    "X, y = dichotomize_X_y(df_train_set3)\n",
    "train.append(X)\n",
    "train.append(y)\n",
    "\n",
    "X, y = dichotomize_X_y(df_test_set3)\n",
    "test.append(X)\n",
    "test.append(y)"
   ]
  },
  {
   "cell_type": "markdown",
   "id": "d266a5bc",
   "metadata": {},
   "source": [
    "---\n",
    "### Q4 (10 points)\n",
    "\n",
    "Now that you have your data setup, you will be constructing an [SVC](https://scikit-learn.org/stable/modules/generated/sklearn.svm.SVC.html) model on each one of the different datasets. For this exercise default regularization parameter `C` value of 1.0, the default `kernel` type of `rbf`, and the default setting of the kernel coefficient `gamma` for the `rbf` kernel. You should, however, set the `class_weight` to `balanced` when you construct your models. This way the regularization parameter is adjusted for each class in proportion the occurrence of that class in the dataset.\n",
    "\n",
    "You should train the model on your training data, then test it on the testing data with the same set of selected descriptive features. You will then calculate both the TSS and HSS scores and print them out.\n",
    "\n",
    "**Note:** for more information on what the `C` and `gamma` parameters do on the `rbf` kernel see the [RBF SVM parameters](https://scikit-learn.org/stable/auto_examples/svm/plot_rbf_parameters.html) documentation. We won't be tuning these values in this question, but it is genearally accepted that tuning should be done to find the best performing model. "
   ]
  },
  {
   "cell_type": "code",
   "execution_count": 16,
   "id": "6380e199",
   "metadata": {},
   "outputs": [],
   "source": [
    "selected_labels = ['F-Val', 'FromLasso', 'FromForest']"
   ]
  },
  {
   "cell_type": "code",
   "execution_count": 17,
   "id": "4f99430b",
   "metadata": {},
   "outputs": [
    {
     "name": "stdout",
     "output_type": "stream",
     "text": [
      "TN=76129\tFP=11027\tFN=76\tTP=1325\n"
     ]
    },
    {
     "data": {
      "text/plain": [
       "'F-Val:'"
      ]
     },
     "metadata": {},
     "output_type": "display_data"
    },
    {
     "data": {
      "text/plain": [
       "0.8192327710296818"
      ]
     },
     "metadata": {},
     "output_type": "display_data"
    },
    {
     "data": {
      "text/plain": [
       "0.1690723900997794"
      ]
     },
     "metadata": {},
     "output_type": "display_data"
    },
    {
     "name": "stdout",
     "output_type": "stream",
     "text": [
      "TN=86262\tFP=894\tFN=993\tTP=408\n"
     ]
    },
    {
     "data": {
      "text/plain": [
       "'FromLasso:'"
      ]
     },
     "metadata": {},
     "output_type": "display_data"
    },
    {
     "data": {
      "text/plain": [
       "0.28096308737990594"
      ]
     },
     "metadata": {},
     "output_type": "display_data"
    },
    {
     "data": {
      "text/plain": [
       "0.29108225899606294"
      ]
     },
     "metadata": {},
     "output_type": "display_data"
    },
    {
     "name": "stdout",
     "output_type": "stream",
     "text": [
      "TN=83807\tFP=3349\tFN=497\tTP=904\n"
     ]
    },
    {
     "data": {
      "text/plain": [
       "'FromForest:'"
      ]
     },
     "metadata": {},
     "output_type": "display_data"
    },
    {
     "data": {
      "text/plain": [
       "0.6068280381934463"
      ]
     },
     "metadata": {},
     "output_type": "display_data"
    },
    {
     "data": {
      "text/plain": [
       "0.30318921489576595"
      ]
     },
     "metadata": {},
     "output_type": "display_data"
    }
   ],
   "source": [
    "svm_tss = []\n",
    "svm_hss = []\n",
    "i = 0\n",
    "j = 1\n",
    "k = 0\n",
    "while (j < 6):\n",
    "    svm_model = SVC(class_weight = 'balanced')\n",
    "    svm_model = svm_model.fit(train[i], train[j])\n",
    "    y_pred = svm_model.predict(test[i])\n",
    "    model_tss = calc_tss(test[j],y_pred)\n",
    "    svm_tss.append(model_tss)\n",
    "    model_hss = calc_hss(test[j],y_pred)\n",
    "    svm_hss.append(model_hss)\n",
    "    display(selected_labels[k]+':')\n",
    "    display(model_tss)\n",
    "    display(model_hss)\n",
    "    i += 2\n",
    "    j +=2\n",
    "    k += 1\n",
    "    #----------------------------------------------\n",
    "    # TODO: Complete here.\n",
    "    #----------------------------------------------"
   ]
  },
  {
   "cell_type": "markdown",
   "id": "c795526d",
   "metadata": {},
   "source": [
    "---\n",
    "### Q5 (15 points)\n",
    "\n",
    "After training and testing the SVC model on the above dataset, you will likely see that this process is quite time consuming. This is because the algorithm needs evaluate all the instances in the training dataset to find instances that can be used as points in a separating hyperplane between the samples of different classes.  \n",
    "\n",
    "In order to speed this process, lets reduce the number of samples in the dataset through undersampling the classes like we did before. Unlike was done before, where we just pick some random sample of instances in the various classes, we will be performing some data informed under sampling using the [KMeans](https://scikit-learn.org/stable/modules/generated/sklearn.cluster.KMeans.html#sklearn.cluster.KMeans) clustering algorithm.\n",
    "\n",
    "So, what I want you to do is construct a function (I have started it below) that performs the following:\n",
    "\n",
    "* Groups the data by the `lab` column and finds the size of the smallest group.\n",
    "\n",
    "* For every group of samples in the dataset that is not the smallest group, you will use the KMeans algorithm to cluster the samples into `K` clusters. The size of `K` is the size of the smallest group.  **Note:** You need to make sure you are only using the descriptive features when doing this, so drop the label column from each group.\n",
    "\n",
    "* Once you have the `K` clusters, you will get the cluster centers by using the `cluster_centers_` attribute of your Kmeans object. This attribute is a `(n_clusters, n_features)` array of values. These will be the new set of samples of descriptive features for the class you are processing. You should construct a DataFrame with these and add a label column with your class label for each one of these samples.\n",
    "\n",
    "* The samples for the smallest class group from the original dataset will be the samples you return for that class. \n",
    "\n",
    "* You will need to concatenate all of the results into one DataFrame and return it at the end of the function.\n",
    "\n",
    "Once you have completed the function, you need to apply it to each of your three training sets (the ones that have not had the dicotimize process applied, I hope you kept a copy). Then you will apply the dicotomize process to the sampled training sets and place them into a list for use in the next problem.\n",
    "\n",
    "**Note:** By training our models on representations of the real data instead of the acutal measurements, we are building a type of surrogate model. By doing so, we can approximate how our model might behave when trained with the true data, but can test several different settings much faster than what we otherwise would."
   ]
  },
  {
   "cell_type": "code",
   "execution_count": 18,
   "id": "5a8acd49",
   "metadata": {},
   "outputs": [],
   "source": [
    "def perform_under_sample_clust(data:DataFrame)->DataFrame:\n",
    "    df_copy = df_train_set1.copy()\n",
    "    df_count = df_copy['lab'].value_counts()\n",
    "    k = df_count.min()\n",
    "    lab_min = df_count.idxmin()\n",
    "    df_labmin = df_copy[df_copy.lab == lab_min]\n",
    "    df_copy = df_copy[df_copy.lab != lab_min]\n",
    "    df_labmin.reset_index(inplace = True)\n",
    "    df_labmin.drop(columns = ['index'], index = 1, inplace = True)\n",
    "    idx_list = df_count.index.tolist()\n",
    "    idx_list.pop()\n",
    "    df_list = []\n",
    "    for i in range(len(idx_list)):\n",
    "        kmeans = KMeans(n_clusters = k)\n",
    "        df_lab_val = df_copy[df_copy.lab == idx_list[i]]\n",
    "        df_cols = df_copy.drop(['lab'], axis = 1).columns.tolist()\n",
    "        lab_list = [[idx_list[i]]] * (k-1)\n",
    "        df_label = pd.DataFrame(lab_list, columns = ['lab'])\n",
    "        df_feats = df_lab_val.drop(['lab'], axis = 1)\n",
    "        kmeans.fit(df_feats)\n",
    "        clusters = kmeans.cluster_centers_\n",
    "        df = pd.DataFrame(data = clusters, columns = df_cols)\n",
    "        #df.reset_index(drop=True, inplace=True)\n",
    "        #df_label.reset_index(drop=True, inplace=True)\n",
    "        df = df_label.join(df)\n",
    "        #df.fillna(idx_list[i], inplace = True)\n",
    "        df_list.append(df)\n",
    "    df_list.append(df_labmin)\n",
    "    df_sample_cluster = pd.concat(df_list)\n",
    "    df_sample_cluster.reset_index(drop = True, inplace = True)\n",
    "    #df_sample_cluster.drop(columns = ['index'], index = 1, inplace = True)\n",
    "    return df_sample_cluster\n",
    "    #----------------------------------------------\n",
    "    # TODO: Complete here.\n",
    "    #----------------------------------------------"
   ]
  },
  {
   "cell_type": "code",
   "execution_count": 19,
   "id": "7147a815",
   "metadata": {},
   "outputs": [
    {
     "data": {
      "text/plain": [
       "(820, 21)"
      ]
     },
     "metadata": {},
     "output_type": "display_data"
    },
    {
     "data": {
      "text/plain": [
       "NF    164\n",
       "X     164\n",
       "C     164\n",
       "B     164\n",
       "M     164\n",
       "Name: lab, dtype: int64"
      ]
     },
     "metadata": {},
     "output_type": "display_data"
    },
    {
     "data": {
      "text/plain": [
       "(820, 21)"
      ]
     },
     "metadata": {},
     "output_type": "display_data"
    },
    {
     "data": {
      "text/plain": [
       "NF    164\n",
       "X     164\n",
       "C     164\n",
       "B     164\n",
       "M     164\n",
       "Name: lab, dtype: int64"
      ]
     },
     "metadata": {},
     "output_type": "display_data"
    },
    {
     "data": {
      "text/plain": [
       "(820, 21)"
      ]
     },
     "metadata": {},
     "output_type": "display_data"
    },
    {
     "data": {
      "text/plain": [
       "NF    164\n",
       "X     164\n",
       "C     164\n",
       "B     164\n",
       "M     164\n",
       "Name: lab, dtype: int64"
      ]
     },
     "metadata": {},
     "output_type": "display_data"
    }
   ],
   "source": [
    "cluster_train_set1 = perform_under_sample_clust(df_train_set1)\n",
    "display(cluster_train_set1.shape)\n",
    "display(cluster_train_set1.lab.value_counts())\n",
    "\n",
    "cluster_train_set2 = perform_under_sample_clust(df_train_set2)\n",
    "display(cluster_train_set2.shape)\n",
    "display(cluster_train_set2.lab.value_counts())\n",
    "\n",
    "cluster_train_set3 = perform_under_sample_clust(df_train_set3)\n",
    "display(cluster_train_set3.shape)\n",
    "display(cluster_train_set3.lab.value_counts())\n",
    "    #----------------------------------------------\n",
    "    # TODO: Complete here.\n",
    "    #----------------------------------------------"
   ]
  },
  {
   "cell_type": "code",
   "execution_count": 20,
   "id": "169a37ff",
   "metadata": {},
   "outputs": [],
   "source": [
    "clust_train = []\n",
    "\n",
    "X, y = dichotomize_X_y(cluster_train_set1)\n",
    "clust_train.append(X)\n",
    "clust_train.append(y)\n",
    "\n",
    "X, y = dichotomize_X_y(cluster_train_set2)\n",
    "clust_train.append(X)\n",
    "clust_train.append(y)\n",
    "\n",
    "X, y = dichotomize_X_y(cluster_train_set3)\n",
    "clust_train.append(X)\n",
    "clust_train.append(y)"
   ]
  },
  {
   "cell_type": "markdown",
   "id": "7050f3ff",
   "metadata": {},
   "source": [
    "---\n",
    "### 6 (10 points)\n",
    "\n",
    "In question 5 we produced datasets that approxumate what our real data looks like. By training our models on these representations of the real data instead of the acutal measurements, we are building a type of surrogate model. In doing so, we can approximate how our model might behave when trained with the true data, but we obtain a major advantage in that we can test several different settings much faster than what we otherwise would if using the true dataset. We can then use these surrogate results to find a range of the hyperparameters that we might wish to investigate using the true input data.\n",
    "\n",
    "For this question, you will again train your models on the three different feature selected data. However, instead of the full partition 1 training datasets, you will be using the sampling with KMeans training datasets you constructed in Q5. \n",
    "\n",
    "You will again be constructing an [SVC](https://scikit-learn.org/stable/modules/generated/sklearn.svm.SVC.html) model on each one of the different datasets. Like before, you should set the `class_weight` to `balanced` when you construct your models. Unlike the previous question where you traind the models, this time you will be asked to evaluate several different settings for the `kernel`, the regularization parameter `C`, and kernel coefficient `gamma`. **Note:** The `gamma` paramter is only utilized on the ‘rbf’, ‘poly’ and ‘sigmoid’ kernels, so there is no reason to evaluate multiple settings for the `linear` kernel. I have listed the settings of each parameter in a code block below. \n",
    "\n",
    "For each of the settings, you should train the model on your training data, then test it on the testing data with the same set of selected descriptive features. You will then calculate both the TSS and HSS scores and print them out."
   ]
  },
  {
   "cell_type": "code",
   "execution_count": 21,
   "id": "eb95f39d",
   "metadata": {},
   "outputs": [],
   "source": [
    "selected_labels = ['F-Val', 'FromLasso', 'FromForest']"
   ]
  },
  {
   "cell_type": "code",
   "execution_count": 22,
   "id": "38d17f3a",
   "metadata": {},
   "outputs": [],
   "source": [
    "kernel = ['linear', 'poly', 'rbf']\n",
    "c_vals = [ 0.5, 1.0]\n",
    "gamma_vals = [0.5, 1, 10]\n",
    "temp = [kernel, c_vals, gamma_vals]\n",
    "params = list(itertools.product(*temp))"
   ]
  },
  {
   "cell_type": "code",
   "execution_count": 23,
   "id": "6f7f0c3c",
   "metadata": {},
   "outputs": [
    {
     "name": "stdout",
     "output_type": "stream",
     "text": [
      "TN=83825\tFP=3331\tFN=396\tTP=1005\n",
      "F-Val: C = 0.5 Kernel = linear Gamma = 0.5\n"
     ]
    },
    {
     "data": {
      "text/plain": [
       "0.6791259277341974"
      ]
     },
     "metadata": {},
     "output_type": "display_data"
    },
    {
     "data": {
      "text/plain": [
       "0.33444125175069606"
      ]
     },
     "metadata": {},
     "output_type": "display_data"
    },
    {
     "name": "stdout",
     "output_type": "stream",
     "text": [
      "\n",
      "\n",
      "TN=84165\tFP=2991\tFN=453\tTP=948\n",
      "FromLasso: C = 0.5 Kernel = linear Gamma = 0.5\n"
     ]
    },
    {
     "data": {
      "text/plain": [
       "0.6423417538838282"
      ]
     },
     "metadata": {},
     "output_type": "display_data"
    },
    {
     "data": {
      "text/plain": [
       "0.3396438538932096"
      ]
     },
     "metadata": {},
     "output_type": "display_data"
    },
    {
     "name": "stdout",
     "output_type": "stream",
     "text": [
      "\n",
      "\n",
      "TN=54043\tFP=33113\tFN=9\tTP=1392\n",
      "FromForest: C = 0.5 Kernel = linear Gamma = 0.5\n"
     ]
    },
    {
     "data": {
      "text/plain": [
       "0.6136480718371242"
      ]
     },
     "metadata": {},
     "output_type": "display_data"
    },
    {
     "data": {
      "text/plain": [
       "0.04860769008808822"
      ]
     },
     "metadata": {},
     "output_type": "display_data"
    },
    {
     "name": "stdout",
     "output_type": "stream",
     "text": [
      "\n",
      "\n",
      "TN=83825\tFP=3331\tFN=396\tTP=1005\n",
      "F-Val: C = 0.5 Kernel = linear Gamma = 1\n"
     ]
    },
    {
     "data": {
      "text/plain": [
       "0.6791259277341974"
      ]
     },
     "metadata": {},
     "output_type": "display_data"
    },
    {
     "data": {
      "text/plain": [
       "0.33444125175069606"
      ]
     },
     "metadata": {},
     "output_type": "display_data"
    },
    {
     "name": "stdout",
     "output_type": "stream",
     "text": [
      "\n",
      "\n",
      "TN=84165\tFP=2991\tFN=453\tTP=948\n",
      "FromLasso: C = 0.5 Kernel = linear Gamma = 1\n"
     ]
    },
    {
     "data": {
      "text/plain": [
       "0.6423417538838282"
      ]
     },
     "metadata": {},
     "output_type": "display_data"
    },
    {
     "data": {
      "text/plain": [
       "0.3396438538932096"
      ]
     },
     "metadata": {},
     "output_type": "display_data"
    },
    {
     "name": "stdout",
     "output_type": "stream",
     "text": [
      "\n",
      "\n",
      "TN=54043\tFP=33113\tFN=9\tTP=1392\n",
      "FromForest: C = 0.5 Kernel = linear Gamma = 1\n"
     ]
    },
    {
     "data": {
      "text/plain": [
       "0.6136480718371242"
      ]
     },
     "metadata": {},
     "output_type": "display_data"
    },
    {
     "data": {
      "text/plain": [
       "0.04860769008808822"
      ]
     },
     "metadata": {},
     "output_type": "display_data"
    },
    {
     "name": "stdout",
     "output_type": "stream",
     "text": [
      "\n",
      "\n",
      "TN=83825\tFP=3331\tFN=396\tTP=1005\n",
      "F-Val: C = 0.5 Kernel = linear Gamma = 10\n"
     ]
    },
    {
     "data": {
      "text/plain": [
       "0.6791259277341974"
      ]
     },
     "metadata": {},
     "output_type": "display_data"
    },
    {
     "data": {
      "text/plain": [
       "0.33444125175069606"
      ]
     },
     "metadata": {},
     "output_type": "display_data"
    },
    {
     "name": "stdout",
     "output_type": "stream",
     "text": [
      "\n",
      "\n",
      "TN=84165\tFP=2991\tFN=453\tTP=948\n",
      "FromLasso: C = 0.5 Kernel = linear Gamma = 10\n"
     ]
    },
    {
     "data": {
      "text/plain": [
       "0.6423417538838282"
      ]
     },
     "metadata": {},
     "output_type": "display_data"
    },
    {
     "data": {
      "text/plain": [
       "0.3396438538932096"
      ]
     },
     "metadata": {},
     "output_type": "display_data"
    },
    {
     "name": "stdout",
     "output_type": "stream",
     "text": [
      "\n",
      "\n",
      "TN=54043\tFP=33113\tFN=9\tTP=1392\n",
      "FromForest: C = 0.5 Kernel = linear Gamma = 10\n"
     ]
    },
    {
     "data": {
      "text/plain": [
       "0.6136480718371242"
      ]
     },
     "metadata": {},
     "output_type": "display_data"
    },
    {
     "data": {
      "text/plain": [
       "0.04860769008808822"
      ]
     },
     "metadata": {},
     "output_type": "display_data"
    },
    {
     "name": "stdout",
     "output_type": "stream",
     "text": [
      "\n",
      "\n",
      "TN=83743\tFP=3413\tFN=400\tTP=1001\n",
      "F-Val: C = 1.0 Kernel = linear Gamma = 0.5\n"
     ]
    },
    {
     "data": {
      "text/plain": [
       "0.6753299825275764"
      ]
     },
     "metadata": {},
     "output_type": "display_data"
    },
    {
     "data": {
      "text/plain": [
       "0.3281457685367249"
      ]
     },
     "metadata": {},
     "output_type": "display_data"
    },
    {
     "name": "stdout",
     "output_type": "stream",
     "text": [
      "\n",
      "\n",
      "TN=85222\tFP=1934\tFN=624\tTP=777\n",
      "FromLasso: C = 1.0 Kernel = linear Gamma = 0.5\n"
     ]
    },
    {
     "data": {
      "text/plain": [
       "0.532413758469762"
      ]
     },
     "metadata": {},
     "output_type": "display_data"
    },
    {
     "data": {
      "text/plain": [
       "0.364664975246877"
      ]
     },
     "metadata": {},
     "output_type": "display_data"
    },
    {
     "name": "stdout",
     "output_type": "stream",
     "text": [
      "\n",
      "\n",
      "TN=56859\tFP=30297\tFN=11\tTP=1390\n",
      "FromForest: C = 1.0 Kernel = linear Gamma = 0.5\n"
     ]
    },
    {
     "data": {
      "text/plain": [
       "0.644530401221055"
      ]
     },
     "metadata": {},
     "output_type": "display_data"
    },
    {
     "data": {
      "text/plain": [
       "0.0553960033157637"
      ]
     },
     "metadata": {},
     "output_type": "display_data"
    },
    {
     "name": "stdout",
     "output_type": "stream",
     "text": [
      "\n",
      "\n",
      "TN=83743\tFP=3413\tFN=400\tTP=1001\n",
      "F-Val: C = 1.0 Kernel = linear Gamma = 1\n"
     ]
    },
    {
     "data": {
      "text/plain": [
       "0.6753299825275764"
      ]
     },
     "metadata": {},
     "output_type": "display_data"
    },
    {
     "data": {
      "text/plain": [
       "0.3281457685367249"
      ]
     },
     "metadata": {},
     "output_type": "display_data"
    },
    {
     "name": "stdout",
     "output_type": "stream",
     "text": [
      "\n",
      "\n",
      "TN=85222\tFP=1934\tFN=624\tTP=777\n",
      "FromLasso: C = 1.0 Kernel = linear Gamma = 1\n"
     ]
    },
    {
     "data": {
      "text/plain": [
       "0.532413758469762"
      ]
     },
     "metadata": {},
     "output_type": "display_data"
    },
    {
     "data": {
      "text/plain": [
       "0.364664975246877"
      ]
     },
     "metadata": {},
     "output_type": "display_data"
    },
    {
     "name": "stdout",
     "output_type": "stream",
     "text": [
      "\n",
      "\n",
      "TN=56859\tFP=30297\tFN=11\tTP=1390\n",
      "FromForest: C = 1.0 Kernel = linear Gamma = 1\n"
     ]
    },
    {
     "data": {
      "text/plain": [
       "0.644530401221055"
      ]
     },
     "metadata": {},
     "output_type": "display_data"
    },
    {
     "data": {
      "text/plain": [
       "0.0553960033157637"
      ]
     },
     "metadata": {},
     "output_type": "display_data"
    },
    {
     "name": "stdout",
     "output_type": "stream",
     "text": [
      "\n",
      "\n",
      "TN=83743\tFP=3413\tFN=400\tTP=1001\n",
      "F-Val: C = 1.0 Kernel = linear Gamma = 10\n"
     ]
    },
    {
     "data": {
      "text/plain": [
       "0.6753299825275764"
      ]
     },
     "metadata": {},
     "output_type": "display_data"
    },
    {
     "data": {
      "text/plain": [
       "0.3281457685367249"
      ]
     },
     "metadata": {},
     "output_type": "display_data"
    },
    {
     "name": "stdout",
     "output_type": "stream",
     "text": [
      "\n",
      "\n",
      "TN=85222\tFP=1934\tFN=624\tTP=777\n",
      "FromLasso: C = 1.0 Kernel = linear Gamma = 10\n"
     ]
    },
    {
     "data": {
      "text/plain": [
       "0.532413758469762"
      ]
     },
     "metadata": {},
     "output_type": "display_data"
    },
    {
     "data": {
      "text/plain": [
       "0.364664975246877"
      ]
     },
     "metadata": {},
     "output_type": "display_data"
    },
    {
     "name": "stdout",
     "output_type": "stream",
     "text": [
      "\n",
      "\n",
      "TN=56859\tFP=30297\tFN=11\tTP=1390\n",
      "FromForest: C = 1.0 Kernel = linear Gamma = 10\n"
     ]
    },
    {
     "data": {
      "text/plain": [
       "0.644530401221055"
      ]
     },
     "metadata": {},
     "output_type": "display_data"
    },
    {
     "data": {
      "text/plain": [
       "0.0553960033157637"
      ]
     },
     "metadata": {},
     "output_type": "display_data"
    },
    {
     "name": "stdout",
     "output_type": "stream",
     "text": [
      "\n",
      "\n",
      "TN=83890\tFP=3266\tFN=417\tTP=984\n",
      "F-Val: C = 0.5 Kernel = poly Gamma = 0.5\n"
     ]
    },
    {
     "data": {
      "text/plain": [
       "0.6648824235319808"
      ]
     },
     "metadata": {},
     "output_type": "display_data"
    },
    {
     "data": {
      "text/plain": [
       "0.3323698392032113"
      ]
     },
     "metadata": {},
     "output_type": "display_data"
    },
    {
     "name": "stdout",
     "output_type": "stream",
     "text": [
      "\n",
      "\n",
      "TN=87156\tFP=0\tFN=1387\tTP=14\n",
      "FromLasso: C = 0.5 Kernel = poly Gamma = 0.5\n"
     ]
    },
    {
     "data": {
      "text/plain": [
       "0.009992862241256246"
      ]
     },
     "metadata": {},
     "output_type": "display_data"
    },
    {
     "data": {
      "text/plain": [
       "0.01948103219563779"
      ]
     },
     "metadata": {},
     "output_type": "display_data"
    },
    {
     "name": "stdout",
     "output_type": "stream",
     "text": [
      "\n",
      "\n",
      "TN=75161\tFP=11995\tFN=97\tTP=1304\n",
      "FromForest: C = 0.5 Kernel = poly Gamma = 0.5\n"
     ]
    },
    {
     "data": {
      "text/plain": [
       "0.7931369560284383"
      ]
     },
     "metadata": {},
     "output_type": "display_data"
    },
    {
     "data": {
      "text/plain": [
       "0.1531745086500534"
      ]
     },
     "metadata": {},
     "output_type": "display_data"
    },
    {
     "name": "stdout",
     "output_type": "stream",
     "text": [
      "\n",
      "\n",
      "TN=83691\tFP=3465\tFN=392\tTP=1009\n",
      "F-Val: C = 0.5 Kernel = poly Gamma = 1\n"
     ]
    },
    {
     "data": {
      "text/plain": [
       "0.6804435581948458"
      ]
     },
     "metadata": {},
     "output_type": "display_data"
    },
    {
     "data": {
      "text/plain": [
       "0.3272799323023291"
      ]
     },
     "metadata": {},
     "output_type": "display_data"
    },
    {
     "name": "stdout",
     "output_type": "stream",
     "text": [
      "\n",
      "\n",
      "TN=86091\tFP=1065\tFN=1373\tTP=28\n",
      "FromLasso: C = 0.5 Kernel = poly Gamma = 1\n"
     ]
    },
    {
     "data": {
      "text/plain": [
       "0.007766255943341351"
      ]
     },
     "metadata": {},
     "output_type": "display_data"
    },
    {
     "data": {
      "text/plain": [
       "0.008708073623182433"
      ]
     },
     "metadata": {},
     "output_type": "display_data"
    },
    {
     "name": "stdout",
     "output_type": "stream",
     "text": [
      "\n",
      "\n",
      "TN=83615\tFP=3541\tFN=445\tTP=956\n",
      "FromForest: C = 0.5 Kernel = poly Gamma = 1\n"
     ]
    },
    {
     "data": {
      "text/plain": [
       "0.6417414372201049"
      ]
     },
     "metadata": {},
     "output_type": "display_data"
    },
    {
     "data": {
      "text/plain": [
       "0.30747056741786294"
      ]
     },
     "metadata": {},
     "output_type": "display_data"
    },
    {
     "name": "stdout",
     "output_type": "stream",
     "text": [
      "\n",
      "\n",
      "TN=83402\tFP=3754\tFN=442\tTP=959\n",
      "F-Val: C = 0.5 Kernel = poly Gamma = 10\n"
     ]
    },
    {
     "data": {
      "text/plain": [
       "0.641438871135397"
      ]
     },
     "metadata": {},
     "output_type": "display_data"
    },
    {
     "data": {
      "text/plain": [
       "0.296548859720778"
      ]
     },
     "metadata": {},
     "output_type": "display_data"
    },
    {
     "name": "stdout",
     "output_type": "stream",
     "text": [
      "\n",
      "\n",
      "TN=3280\tFP=83876\tFN=7\tTP=1394\n",
      "FromLasso: C = 0.5 Kernel = poly Gamma = 10\n"
     ]
    },
    {
     "data": {
      "text/plain": [
       "0.032637237244143136"
      ]
     },
     "metadata": {},
     "output_type": "display_data"
    },
    {
     "data": {
      "text/plain": [
       "0.0010718061149957612"
      ]
     },
     "metadata": {},
     "output_type": "display_data"
    },
    {
     "name": "stdout",
     "output_type": "stream",
     "text": [
      "\n",
      "\n",
      "TN=24451\tFP=62705\tFN=462\tTP=939\n",
      "FromForest: C = 0.5 Kernel = poly Gamma = 10\n"
     ]
    },
    {
     "data": {
      "text/plain": [
       "-0.049221519453218066"
      ]
     },
     "metadata": {},
     "output_type": "display_data"
    },
    {
     "data": {
      "text/plain": [
       "-0.002153483410713182"
      ]
     },
     "metadata": {},
     "output_type": "display_data"
    },
    {
     "name": "stdout",
     "output_type": "stream",
     "text": [
      "\n",
      "\n",
      "TN=83838\tFP=3318\tFN=412\tTP=989\n",
      "F-Val: C = 1.0 Kernel = poly Gamma = 0.5\n"
     ]
    },
    {
     "data": {
      "text/plain": [
       "0.6678546715761238"
      ]
     },
     "metadata": {},
     "output_type": "display_data"
    },
    {
     "data": {
      "text/plain": [
       "0.3305482911183135"
      ]
     },
     "metadata": {},
     "output_type": "display_data"
    },
    {
     "name": "stdout",
     "output_type": "stream",
     "text": [
      "\n",
      "\n",
      "TN=87146\tFP=10\tFN=1398\tTP=3\n",
      "FromLasso: C = 1.0 Kernel = poly Gamma = 0.5\n"
     ]
    },
    {
     "data": {
      "text/plain": [
       "0.002026590829331304"
      ]
     },
     "metadata": {},
     "output_type": "display_data"
    },
    {
     "data": {
      "text/plain": [
       "0.003953534585303526"
      ]
     },
     "metadata": {},
     "output_type": "display_data"
    },
    {
     "name": "stdout",
     "output_type": "stream",
     "text": [
      "\n",
      "\n",
      "TN=81764\tFP=5392\tFN=270\tTP=1131\n",
      "FromForest: C = 1.0 Kernel = poly Gamma = 0.5\n"
     ]
    },
    {
     "data": {
      "text/plain": [
       "0.7454144347043471"
      ]
     },
     "metadata": {},
     "output_type": "display_data"
    },
    {
     "data": {
      "text/plain": [
       "0.2663530054512308"
      ]
     },
     "metadata": {},
     "output_type": "display_data"
    },
    {
     "name": "stdout",
     "output_type": "stream",
     "text": [
      "\n",
      "\n",
      "TN=83763\tFP=3393\tFN=402\tTP=999\n",
      "F-Val: C = 1.0 Kernel = poly Gamma = 1\n"
     ]
    },
    {
     "data": {
      "text/plain": [
       "0.6741319043664156"
      ]
     },
     "metadata": {},
     "output_type": "display_data"
    },
    {
     "data": {
      "text/plain": [
       "0.3287978481719382"
      ]
     },
     "metadata": {},
     "output_type": "display_data"
    },
    {
     "name": "stdout",
     "output_type": "stream",
     "text": [
      "\n",
      "\n",
      "TN=83450\tFP=3706\tFN=1305\tTP=96\n",
      "FromLasso: C = 1.0 Kernel = poly Gamma = 1\n"
     ]
    },
    {
     "data": {
      "text/plain": [
       "0.02600102815960316"
      ]
     },
     "metadata": {},
     "output_type": "display_data"
    },
    {
     "data": {
      "text/plain": [
       "0.01410712044470788"
      ]
     },
     "metadata": {},
     "output_type": "display_data"
    },
    {
     "name": "stdout",
     "output_type": "stream",
     "text": [
      "\n",
      "\n",
      "TN=82795\tFP=4361\tFN=398\tTP=1003\n",
      "FromForest: C = 1.0 Kernel = poly Gamma = 1\n"
     ]
    },
    {
     "data": {
      "text/plain": [
       "0.6658804862245581"
      ]
     },
     "metadata": {},
     "output_type": "display_data"
    },
    {
     "data": {
      "text/plain": [
       "0.2784233153540799"
      ]
     },
     "metadata": {},
     "output_type": "display_data"
    },
    {
     "name": "stdout",
     "output_type": "stream",
     "text": [
      "\n",
      "\n",
      "TN=83193\tFP=3963\tFN=444\tTP=957\n",
      "F-Val: C = 1.0 Kernel = poly Gamma = 10\n"
     ]
    },
    {
     "data": {
      "text/plain": [
       "0.6376133203963299"
      ]
     },
     "metadata": {},
     "output_type": "display_data"
    },
    {
     "data": {
      "text/plain": [
       "0.28519618790957973"
      ]
     },
     "metadata": {},
     "output_type": "display_data"
    },
    {
     "name": "stdout",
     "output_type": "stream",
     "text": [
      "\n",
      "\n",
      "TN=1417\tFP=85739\tFN=2\tTP=1399\n",
      "FromLasso: C = 1.0 Kernel = poly Gamma = 10\n"
     ]
    },
    {
     "data": {
      "text/plain": [
       "0.0148306519320055"
      ]
     },
     "metadata": {},
     "output_type": "display_data"
    },
    {
     "data": {
      "text/plain": [
       "0.00047676801953402145"
      ]
     },
     "metadata": {},
     "output_type": "display_data"
    },
    {
     "name": "stdout",
     "output_type": "stream",
     "text": [
      "\n",
      "\n",
      "TN=13475\tFP=73681\tFN=147\tTP=1254\n",
      "FromForest: C = 1.0 Kernel = poly Gamma = 10\n"
     ]
    },
    {
     "data": {
      "text/plain": [
       "0.049682776105618"
      ]
     },
     "metadata": {},
     "output_type": "display_data"
    },
    {
     "data": {
      "text/plain": [
       "0.0018523458089293465"
      ]
     },
     "metadata": {},
     "output_type": "display_data"
    },
    {
     "name": "stdout",
     "output_type": "stream",
     "text": [
      "\n",
      "\n",
      "TN=82840\tFP=4316\tFN=269\tTP=1132\n",
      "F-Val: C = 0.5 Kernel = rbf Gamma = 0.5\n"
     ]
    },
    {
     "data": {
      "text/plain": [
       "0.7584738895910683"
      ]
     },
     "metadata": {},
     "output_type": "display_data"
    },
    {
     "data": {
      "text/plain": [
       "0.3132754654451201"
      ]
     },
     "metadata": {},
     "output_type": "display_data"
    },
    {
     "name": "stdout",
     "output_type": "stream",
     "text": [
      "\n",
      "\n",
      "TN=79203\tFP=7953\tFN=143\tTP=1258\n",
      "FromLasso: C = 0.5 Kernel = rbf Gamma = 0.5\n"
     ]
    },
    {
     "data": {
      "text/plain": [
       "0.8066798778591205"
      ]
     },
     "metadata": {},
     "output_type": "display_data"
    },
    {
     "data": {
      "text/plain": [
       "0.21554629737323652"
      ]
     },
     "metadata": {},
     "output_type": "display_data"
    },
    {
     "name": "stdout",
     "output_type": "stream",
     "text": [
      "\n",
      "\n",
      "TN=50246\tFP=36910\tFN=9\tTP=1392\n",
      "FromForest: C = 0.5 Kernel = rbf Gamma = 0.5\n"
     ]
    },
    {
     "data": {
      "text/plain": [
       "0.5700825112331498"
      ]
     },
     "metadata": {},
     "output_type": "display_data"
    },
    {
     "data": {
      "text/plain": [
       "0.04084321474814126"
      ]
     },
     "metadata": {},
     "output_type": "display_data"
    },
    {
     "name": "stdout",
     "output_type": "stream",
     "text": [
      "\n",
      "\n",
      "TN=82697\tFP=4459\tFN=266\tTP=1135\n",
      "F-Val: C = 0.5 Kernel = rbf Gamma = 1\n"
     ]
    },
    {
     "data": {
      "text/plain": [
       "0.7589744810629256"
      ]
     },
     "metadata": {},
     "output_type": "display_data"
    },
    {
     "data": {
      "text/plain": [
       "0.306981750214221"
      ]
     },
     "metadata": {},
     "output_type": "display_data"
    },
    {
     "name": "stdout",
     "output_type": "stream",
     "text": [
      "\n",
      "\n",
      "TN=56301\tFP=30855\tFN=13\tTP=1388\n",
      "FromLasso: C = 0.5 Kernel = rbf Gamma = 1\n"
     ]
    },
    {
     "data": {
      "text/plain": [
       "0.6367005363785412"
      ]
     },
     "metadata": {},
     "output_type": "display_data"
    },
    {
     "data": {
      "text/plain": [
       "0.053819920264897216"
      ]
     },
     "metadata": {},
     "output_type": "display_data"
    },
    {
     "name": "stdout",
     "output_type": "stream",
     "text": [
      "\n",
      "\n",
      "TN=3350\tFP=83806\tFN=0\tTP=1401\n",
      "FromForest: C = 0.5 Kernel = rbf Gamma = 1\n"
     ]
    },
    {
     "data": {
      "text/plain": [
       "0.03843682592133646"
      ]
     },
     "metadata": {},
     "output_type": "display_data"
    },
    {
     "data": {
      "text/plain": [
       "0.0012631821784591726"
      ]
     },
     "metadata": {},
     "output_type": "display_data"
    },
    {
     "name": "stdout",
     "output_type": "stream",
     "text": [
      "\n",
      "\n",
      "TN=83000\tFP=4156\tFN=341\tTP=1060\n",
      "F-Val: C = 0.5 Kernel = rbf Gamma = 10\n"
     ]
    },
    {
     "data": {
      "text/plain": [
       "0.7089178153367567"
      ]
     },
     "metadata": {},
     "output_type": "display_data"
    },
    {
     "data": {
      "text/plain": [
       "0.30300276108097685"
      ]
     },
     "metadata": {},
     "output_type": "display_data"
    },
    {
     "name": "stdout",
     "output_type": "stream",
     "text": [
      "\n",
      "\n",
      "TN=0\tFP=87156\tFN=0\tTP=1401\n",
      "FromLasso: C = 0.5 Kernel = rbf Gamma = 10\n"
     ]
    },
    {
     "data": {
      "text/plain": [
       "0.0"
      ]
     },
     "metadata": {},
     "output_type": "display_data"
    },
    {
     "data": {
      "text/plain": [
       "0.0"
      ]
     },
     "metadata": {},
     "output_type": "display_data"
    },
    {
     "name": "stdout",
     "output_type": "stream",
     "text": [
      "\n",
      "\n",
      "TN=0\tFP=87156\tFN=0\tTP=1401\n",
      "FromForest: C = 0.5 Kernel = rbf Gamma = 10\n"
     ]
    },
    {
     "data": {
      "text/plain": [
       "0.0"
      ]
     },
     "metadata": {},
     "output_type": "display_data"
    },
    {
     "data": {
      "text/plain": [
       "0.0"
      ]
     },
     "metadata": {},
     "output_type": "display_data"
    },
    {
     "name": "stdout",
     "output_type": "stream",
     "text": [
      "\n",
      "\n",
      "TN=82867\tFP=4289\tFN=282\tTP=1119\n",
      "F-Val: C = 1.0 Kernel = rbf Gamma = 0.5\n"
     ]
    },
    {
     "data": {
      "text/plain": [
       "0.7495045925674341"
      ]
     },
     "metadata": {},
     "output_type": "display_data"
    },
    {
     "data": {
      "text/plain": [
       "0.3113772944659504"
      ]
     },
     "metadata": {},
     "output_type": "display_data"
    },
    {
     "name": "stdout",
     "output_type": "stream",
     "text": [
      "\n",
      "\n",
      "TN=82369\tFP=4787\tFN=284\tTP=1117\n",
      "FromLasso: C = 1.0 Kernel = rbf Gamma = 0.5\n"
     ]
    },
    {
     "data": {
      "text/plain": [
       "0.7423631484876904"
      ]
     },
     "metadata": {},
     "output_type": "display_data"
    },
    {
     "data": {
      "text/plain": [
       "0.28760016462629684"
      ]
     },
     "metadata": {},
     "output_type": "display_data"
    },
    {
     "name": "stdout",
     "output_type": "stream",
     "text": [
      "\n",
      "\n",
      "TN=54612\tFP=32544\tFN=9\tTP=1392\n",
      "FromForest: C = 1.0 Kernel = rbf Gamma = 0.5\n"
     ]
    },
    {
     "data": {
      "text/plain": [
       "0.6201765954040617"
      ]
     },
     "metadata": {},
     "output_type": "display_data"
    },
    {
     "data": {
      "text/plain": [
       "0.04991481062969499"
      ]
     },
     "metadata": {},
     "output_type": "display_data"
    },
    {
     "name": "stdout",
     "output_type": "stream",
     "text": [
      "\n",
      "\n",
      "TN=82655\tFP=4501\tFN=284\tTP=1117\n",
      "F-Val: C = 1.0 Kernel = rbf Gamma = 1\n"
     ]
    },
    {
     "data": {
      "text/plain": [
       "0.7456446207902283"
      ]
     },
     "metadata": {},
     "output_type": "display_data"
    },
    {
     "data": {
      "text/plain": [
       "0.3005656904958101"
      ]
     },
     "metadata": {},
     "output_type": "display_data"
    },
    {
     "name": "stdout",
     "output_type": "stream",
     "text": [
      "\n",
      "\n",
      "TN=70712\tFP=16444\tFN=45\tTP=1356\n",
      "FromLasso: C = 1.0 Kernel = rbf Gamma = 1\n"
     ]
    },
    {
     "data": {
      "text/plain": [
       "0.7792069019365506"
      ]
     },
     "metadata": {},
     "output_type": "display_data"
    },
    {
     "data": {
      "text/plain": [
       "0.11529241793013105"
      ]
     },
     "metadata": {},
     "output_type": "display_data"
    },
    {
     "name": "stdout",
     "output_type": "stream",
     "text": [
      "\n",
      "\n",
      "TN=49728\tFP=37428\tFN=9\tTP=1392\n",
      "FromForest: C = 1.0 Kernel = rbf Gamma = 1\n"
     ]
    },
    {
     "data": {
      "text/plain": [
       "0.564139145314567"
      ]
     },
     "metadata": {},
     "output_type": "display_data"
    },
    {
     "data": {
      "text/plain": [
       "0.039897468190502855"
      ]
     },
     "metadata": {},
     "output_type": "display_data"
    },
    {
     "name": "stdout",
     "output_type": "stream",
     "text": [
      "\n",
      "\n",
      "TN=83152\tFP=4004\tFN=392\tTP=1009\n",
      "F-Val: C = 1.0 Kernel = rbf Gamma = 10\n"
     ]
    },
    {
     "data": {
      "text/plain": [
       "0.6742592450092935"
      ]
     },
     "metadata": {},
     "output_type": "display_data"
    },
    {
     "data": {
      "text/plain": [
       "0.2972455472685039"
      ]
     },
     "metadata": {},
     "output_type": "display_data"
    },
    {
     "name": "stdout",
     "output_type": "stream",
     "text": [
      "\n",
      "\n",
      "TN=0\tFP=87156\tFN=0\tTP=1401\n",
      "FromLasso: C = 1.0 Kernel = rbf Gamma = 10\n"
     ]
    },
    {
     "data": {
      "text/plain": [
       "0.0"
      ]
     },
     "metadata": {},
     "output_type": "display_data"
    },
    {
     "data": {
      "text/plain": [
       "0.0"
      ]
     },
     "metadata": {},
     "output_type": "display_data"
    },
    {
     "name": "stdout",
     "output_type": "stream",
     "text": [
      "\n",
      "\n",
      "TN=0\tFP=87156\tFN=0\tTP=1401\n",
      "FromForest: C = 1.0 Kernel = rbf Gamma = 10\n"
     ]
    },
    {
     "data": {
      "text/plain": [
       "0.0"
      ]
     },
     "metadata": {},
     "output_type": "display_data"
    },
    {
     "data": {
      "text/plain": [
       "0.0"
      ]
     },
     "metadata": {},
     "output_type": "display_data"
    },
    {
     "name": "stdout",
     "output_type": "stream",
     "text": [
      "\n",
      "\n"
     ]
    }
   ],
   "source": [
    "svm_tss = []\n",
    "svm_hss = []\n",
    "tr_idx = [0,2,4]\n",
    "tt_idx = [1,3,5]\n",
    "lb_idx = [0,1,2]\n",
    "\n",
    "for i in range(18):\n",
    "    for j in range(1):\n",
    "        k = j + 1\n",
    "        l = k + 1\n",
    "        svm_model = SVC(C = params[i][k], kernel = params[i][j], gamma = params[i][l], class_weight = 'balanced')\n",
    "        for a,b,c in zip(tr_idx, tt_idx, lb_idx):\n",
    "            svm_model = svm_model.fit(clust_train[a], clust_train[b])\n",
    "            y_pred = svm_model.predict(test[a])\n",
    "            model_tss = calc_tss(test[b],y_pred)\n",
    "            svm_tss.append(model_tss)\n",
    "            model_hss = calc_hss(test[b],y_pred)\n",
    "            svm_hss.append(model_hss)\n",
    "            print(selected_labels[c]+':'+' C =',params[i][k],'Kernel =',params[i][j],'Gamma =',params[i][l])\n",
    "            display(model_tss)\n",
    "            display(model_hss)\n",
    "            print('\\n')"
   ]
  },
  {
   "cell_type": "markdown",
   "id": "49462023",
   "metadata": {},
   "source": [
    "---\n",
    "### 7 (10 points)\n",
    "\n",
    "Results above were able to find some combinations of hyperparamters and datasets that work fairly well for our problem. But the question remains, can we do better?\n",
    "\n",
    "Maybe one way to improve our results would be to elinate the easy to classify instances from our dataset and only focus our efforts on the more difficult ones. If you recall from our data preparation there was a feature in our dataset that we could use to easily distinguish between a rather large percentage of `flare` and `non-flare` data. This feature was `R_VALUE_median`, but we don't know what value to use to filter off part of our data.\n",
    "\n",
    "So, for this question, let's plot and see where a good cutoff might be. To do this, let's use the seaborn [ecdfplot](https://seaborn.pydata.org/generated/seaborn.ecdfplot.html#seaborn.ecdfplot) or the cumulative distribution function plot.  Your input will be the original analytics base table of partition one.  You should set the `x` axis to `R_VALUE_median`, and set the `hue` to `lab`.\n",
    "\n",
    "After plotting this, you will see that around 0.5 we begin to see some instances of the `M` and around 0.7 we begin to see some instances of the `X` class flares in our dataset. So, use 0.5 as a threshold value to filter out all of the instances that fall below this threshold from our training data. Construct a copy of the original partition 1 data with this applied.\n",
    "\n",
    "You can then verify this using the seaborn [kdeplot](https://seaborn.pydata.org/generated/seaborn.kdeplot.html#seaborn.kdeplot) using the new filtered data as input, setting `x` to `R_VALUE_median` again, and setting `hue` to `lab` again.  "
   ]
  },
  {
   "cell_type": "code",
   "execution_count": 24,
   "id": "da16e776",
   "metadata": {},
   "outputs": [
    {
     "data": {
      "text/plain": [
       "<AxesSubplot:xlabel='R_VALUE_median', ylabel='Proportion'>"
      ]
     },
     "execution_count": 24,
     "metadata": {},
     "output_type": "execute_result"
    },
    {
     "data": {
      "image/png": "[encoded data removed]",
      "text/plain": [
       "<Figure size 432x288 with 1 Axes>"
      ]
     },
     "metadata": {
      "needs_background": "light"
     },
     "output_type": "display_data"
    }
   ],
   "source": [
    "abt_copy = abt.copy()\n",
    "sns.ecdfplot(data = abt_copy, x = 'R_VALUE_median', hue = 'lab')\n",
    "    #----------------------------------------------\n",
    "    # TODO: Complete here.\n",
    "    #----------------------------------------------"
   ]
  },
  {
   "cell_type": "code",
   "execution_count": 25,
   "id": "c9c167bc",
   "metadata": {},
   "outputs": [
    {
     "data": {
      "text/plain": [
       "<AxesSubplot:xlabel='R_VALUE_median', ylabel='Density'>"
      ]
     },
     "execution_count": 25,
     "metadata": {},
     "output_type": "execute_result"
    },
    {
     "data": {
      "image/png": "[encoded data removed]",
      "text/plain": [
       "<Figure size 432x288 with 1 Axes>"
      ]
     },
     "metadata": {
      "needs_background": "light"
     },
     "output_type": "display_data"
    }
   ],
   "source": [
    "abt_copy2 = abt_copy[abt_copy.R_VALUE_median >= 0.5]\n",
    "sns.kdeplot(data = abt_copy2, x = 'R_VALUE_median', hue = 'lab')"
   ]
  },
  {
   "cell_type": "markdown",
   "id": "33c0dba1",
   "metadata": {},
   "source": [
    "---\n",
    "### 8 (10 points)\n",
    "\n",
    "For this question, you will utilize the filtered analytics base table you constructed in the previous question.  You should:\n",
    "\n",
    "* Repeat the feature selection I did for you in the  example using the [SelectKBest](https://scikit-learn.org/stable/modules/generated/sklearn.feature_selection.SelectKBest.html#sklearn.feature_selection.SelectKBest) class from [scikit-learn Univariate Feature Selection](https://scikit-learn.org/stable/modules/feature_selection.html#univariate-feature-selection), and scoring function [scikit-learn f_classif](https://scikit-learn.org/stable/modules/generated/sklearn.feature_selection.f_classif.html#sklearn.feature_selection.f_classif).\n",
    "\n",
    "* Repeat the feature selection from Q1 using the [SelectFromModel](https://scikit-learn.org/stable/modules/generated/sklearn.feature_selection.SelectFromModel.html#sklearn.feature_selection.SelectFromModel) class from [scikit-learn Univariate Feature Selection](https://scikit-learn.org/stable/modules/feature_selection.html#univariate-feature-selection), and utilizing the [LassoLars](https://scikit-learn.org/stable/modules/generated/sklearn.linear_model.LassoLars.html#sklearn.linear_model.LassoLars) as your `estimator`.  You should also set the `max_features` to the number of features we are going to select (20 features).\n",
    "\n",
    "* Repeat the feature selection from Q2 using [SelectFromModel](https://scikit-learn.org/stable/modules/generated/sklearn.feature_selection.SelectFromModel.html#sklearn.feature_selection.SelectFromModel) class from [scikit-learn Univariate Feature Selection](https://scikit-learn.org/stable/modules/feature_selection.html#univariate-feature-selection). With a random forest model called [ExtraTressClssifier](https://scikit-learn.org/stable/modules/generated/sklearn.ensemble.ExtraTreesClassifier.html#sklearn.ensemble.ExtraTreesClassifier) as the `estimator`. The `n_estimators` of the random forest algorithm should be set to `75` when you construct it. The `max_features` of the SelectFromModel should be set to the number of features we are going to select (20 features)."
   ]
  },
  {
   "cell_type": "code",
   "execution_count": 26,
   "id": "15d0f0b0",
   "metadata": {},
   "outputs": [],
   "source": [
    "numFeat = 20\n",
    "\n",
    "# Split the target and descriptive features for Partition 1 into two \n",
    "# different DataFrame objects\n",
    "df_labels = abt_copy2['lab'].copy()\n",
    "df_feats = abt_copy2.copy().drop(['lab'], axis=1)\n",
    "\n",
    "# Split the target and descriptive features for Partition 2 inot two\n",
    "# different DataFrame Objects\n",
    "df_test_labels = abt2['lab'].copy()\n",
    "df_test_feats = abt2.copy().drop(['lab'], axis=1)\n",
    "\n",
    "# Do feature selection\n",
    "feats1 = SelectKBest(f_classif, k=numFeat).fit(df_feats, df_labels)\n",
    "\n",
    "# Construct a training dataset from Partition 1 with only the selected descriptive \n",
    "# features and the target feature\n",
    "df_selected_feats1 = df_feats.loc[:, feats1.get_support()]\n",
    "df_train_set1 = pd.concat([df_labels, df_selected_feats1], axis=1)\n",
    "\n",
    "# Construct a testing dataset from Partition 2 with only the selected descriptive\n",
    "# features and the target feature\n",
    "df_test_selected_feats1 = df_test_feats.loc[:, feats1.get_support()]\n",
    "df_test_set1 = pd.concat([df_test_labels, df_test_selected_feats1], axis=1)\n",
    "    \n",
    "    #----------------------------------------------\n",
    "    # TODO: Complete here.\n",
    "    #----------------------------------------------"
   ]
  },
  {
   "cell_type": "code",
   "execution_count": 27,
   "id": "a44932c9",
   "metadata": {},
   "outputs": [
    {
     "data": {
      "text/html": [
       "<div>\n",
       "<style scoped>\n",
       "    .dataframe tbody tr th:only-of-type {\n",
       "        vertical-align: middle;\n",
       "    }\n",
       "\n",
       "    .dataframe tbody tr th {\n",
       "        vertical-align: top;\n",
       "    }\n",
       "\n",
       "    .dataframe thead th {\n",
       "        text-align: right;\n",
       "    }\n",
       "</style>\n",
       "<table border=\"1\" class=\"dataframe\">\n",
       "  <thead>\n",
       "    <tr style=\"text-align: right;\">\n",
       "      <th></th>\n",
       "      <th>lab</th>\n",
       "      <th>ABSNJZH_difference_of_vars</th>\n",
       "      <th>EPSZ_min</th>\n",
       "      <th>MEANGAM_dderivative_mean</th>\n",
       "      <th>MEANGAM_last_value</th>\n",
       "      <th>MEANGBH_last_value</th>\n",
       "      <th>MEANJZH_quadratic_weighted_average</th>\n",
       "      <th>EPSY_min</th>\n",
       "      <th>EPSX_mean</th>\n",
       "      <th>R_VALUE_max</th>\n",
       "      <th>...</th>\n",
       "      <th>R_VALUE_last_value</th>\n",
       "      <th>TOTUSJH_difference_of_maxs</th>\n",
       "      <th>TOTUSJH_dderivative_mean</th>\n",
       "      <th>TOTUSJH_last_value</th>\n",
       "      <th>ABSNJZH_stddev</th>\n",
       "      <th>ABSNJZH_gderivative_stddev</th>\n",
       "      <th>MEANJZH_difference_of_means</th>\n",
       "      <th>id</th>\n",
       "      <th>SAVNCPP_max</th>\n",
       "      <th>USFLUX_dderivative_stddev</th>\n",
       "    </tr>\n",
       "  </thead>\n",
       "  <tbody>\n",
       "    <tr>\n",
       "      <th>3</th>\n",
       "      <td>NF</td>\n",
       "      <td>0.541510</td>\n",
       "      <td>0.548592</td>\n",
       "      <td>0.575901</td>\n",
       "      <td>0.394181</td>\n",
       "      <td>0.172192</td>\n",
       "      <td>0.549949</td>\n",
       "      <td>0.643737</td>\n",
       "      <td>0.321491</td>\n",
       "      <td>0.781378</td>\n",
       "      <td>...</td>\n",
       "      <td>0.697463</td>\n",
       "      <td>0.072251</td>\n",
       "      <td>0.645043</td>\n",
       "      <td>0.320618</td>\n",
       "      <td>0.183616</td>\n",
       "      <td>0.167205</td>\n",
       "      <td>0.058204</td>\n",
       "      <td>0.330699</td>\n",
       "      <td>0.037189</td>\n",
       "      <td>0.038252</td>\n",
       "    </tr>\n",
       "    <tr>\n",
       "      <th>5</th>\n",
       "      <td>NF</td>\n",
       "      <td>0.544238</td>\n",
       "      <td>0.374455</td>\n",
       "      <td>0.594358</td>\n",
       "      <td>0.271286</td>\n",
       "      <td>0.185402</td>\n",
       "      <td>0.620606</td>\n",
       "      <td>0.658417</td>\n",
       "      <td>0.246732</td>\n",
       "      <td>0.627809</td>\n",
       "      <td>...</td>\n",
       "      <td>0.555311</td>\n",
       "      <td>0.158839</td>\n",
       "      <td>0.653967</td>\n",
       "      <td>0.217153</td>\n",
       "      <td>0.223975</td>\n",
       "      <td>0.146057</td>\n",
       "      <td>0.135140</td>\n",
       "      <td>0.134347</td>\n",
       "      <td>0.061863</td>\n",
       "      <td>0.026413</td>\n",
       "    </tr>\n",
       "    <tr>\n",
       "      <th>6</th>\n",
       "      <td>B</td>\n",
       "      <td>0.405916</td>\n",
       "      <td>0.485106</td>\n",
       "      <td>0.570973</td>\n",
       "      <td>0.440073</td>\n",
       "      <td>0.282287</td>\n",
       "      <td>0.578843</td>\n",
       "      <td>0.858607</td>\n",
       "      <td>0.649618</td>\n",
       "      <td>0.555383</td>\n",
       "      <td>...</td>\n",
       "      <td>0.509722</td>\n",
       "      <td>0.058437</td>\n",
       "      <td>0.633828</td>\n",
       "      <td>0.097898</td>\n",
       "      <td>0.104032</td>\n",
       "      <td>0.122364</td>\n",
       "      <td>0.037308</td>\n",
       "      <td>0.003343</td>\n",
       "      <td>0.021249</td>\n",
       "      <td>0.010600</td>\n",
       "    </tr>\n",
       "    <tr>\n",
       "      <th>8</th>\n",
       "      <td>C</td>\n",
       "      <td>0.394022</td>\n",
       "      <td>0.724143</td>\n",
       "      <td>0.595478</td>\n",
       "      <td>0.597823</td>\n",
       "      <td>0.275570</td>\n",
       "      <td>0.535361</td>\n",
       "      <td>0.531851</td>\n",
       "      <td>0.373223</td>\n",
       "      <td>0.712990</td>\n",
       "      <td>...</td>\n",
       "      <td>0.624201</td>\n",
       "      <td>0.063162</td>\n",
       "      <td>0.650486</td>\n",
       "      <td>0.370805</td>\n",
       "      <td>0.195072</td>\n",
       "      <td>0.194688</td>\n",
       "      <td>0.097494</td>\n",
       "      <td>0.337994</td>\n",
       "      <td>0.047057</td>\n",
       "      <td>0.046260</td>\n",
       "    </tr>\n",
       "    <tr>\n",
       "      <th>11</th>\n",
       "      <td>C</td>\n",
       "      <td>0.450110</td>\n",
       "      <td>0.433918</td>\n",
       "      <td>0.587317</td>\n",
       "      <td>0.415631</td>\n",
       "      <td>0.301325</td>\n",
       "      <td>0.493713</td>\n",
       "      <td>0.334273</td>\n",
       "      <td>0.314015</td>\n",
       "      <td>0.578372</td>\n",
       "      <td>...</td>\n",
       "      <td>0.480978</td>\n",
       "      <td>0.042450</td>\n",
       "      <td>0.634457</td>\n",
       "      <td>0.192273</td>\n",
       "      <td>0.160237</td>\n",
       "      <td>0.145945</td>\n",
       "      <td>0.167582</td>\n",
       "      <td>0.386018</td>\n",
       "      <td>0.020799</td>\n",
       "      <td>0.016169</td>\n",
       "    </tr>\n",
       "  </tbody>\n",
       "</table>\n",
       "<p>5 rows × 21 columns</p>\n",
       "</div>"
      ],
      "text/plain": [
       "   lab  ABSNJZH_difference_of_vars  EPSZ_min  MEANGAM_dderivative_mean  \\\n",
       "3   NF                    0.541510  0.548592                  0.575901   \n",
       "5   NF                    0.544238  0.374455                  0.594358   \n",
       "6    B                    0.405916  0.485106                  0.570973   \n",
       "8    C                    0.394022  0.724143                  0.595478   \n",
       "11   C                    0.450110  0.433918                  0.587317   \n",
       "\n",
       "    MEANGAM_last_value  MEANGBH_last_value  \\\n",
       "3             0.394181            0.172192   \n",
       "5             0.271286            0.185402   \n",
       "6             0.440073            0.282287   \n",
       "8             0.597823            0.275570   \n",
       "11            0.415631            0.301325   \n",
       "\n",
       "    MEANJZH_quadratic_weighted_average  EPSY_min  EPSX_mean  R_VALUE_max  ...  \\\n",
       "3                             0.549949  0.643737   0.321491     0.781378  ...   \n",
       "5                             0.620606  0.658417   0.246732     0.627809  ...   \n",
       "6                             0.578843  0.858607   0.649618     0.555383  ...   \n",
       "8                             0.535361  0.531851   0.373223     0.712990  ...   \n",
       "11                            0.493713  0.334273   0.314015     0.578372  ...   \n",
       "\n",
       "    R_VALUE_last_value  TOTUSJH_difference_of_maxs  TOTUSJH_dderivative_mean  \\\n",
       "3             0.697463                    0.072251                  0.645043   \n",
       "5             0.555311                    0.158839                  0.653967   \n",
       "6             0.509722                    0.058437                  0.633828   \n",
       "8             0.624201                    0.063162                  0.650486   \n",
       "11            0.480978                    0.042450                  0.634457   \n",
       "\n",
       "    TOTUSJH_last_value  ABSNJZH_stddev  ABSNJZH_gderivative_stddev  \\\n",
       "3             0.320618        0.183616                    0.167205   \n",
       "5             0.217153        0.223975                    0.146057   \n",
       "6             0.097898        0.104032                    0.122364   \n",
       "8             0.370805        0.195072                    0.194688   \n",
       "11            0.192273        0.160237                    0.145945   \n",
       "\n",
       "    MEANJZH_difference_of_means        id  SAVNCPP_max  \\\n",
       "3                      0.058204  0.330699     0.037189   \n",
       "5                      0.135140  0.134347     0.061863   \n",
       "6                      0.037308  0.003343     0.021249   \n",
       "8                      0.097494  0.337994     0.047057   \n",
       "11                     0.167582  0.386018     0.020799   \n",
       "\n",
       "    USFLUX_dderivative_stddev  \n",
       "3                    0.038252  \n",
       "5                    0.026413  \n",
       "6                    0.010600  \n",
       "8                    0.046260  \n",
       "11                   0.016169  \n",
       "\n",
       "[5 rows x 21 columns]"
      ]
     },
     "metadata": {},
     "output_type": "display_data"
    },
    {
     "data": {
      "text/html": [
       "<div>\n",
       "<style scoped>\n",
       "    .dataframe tbody tr th:only-of-type {\n",
       "        vertical-align: middle;\n",
       "    }\n",
       "\n",
       "    .dataframe tbody tr th {\n",
       "        vertical-align: top;\n",
       "    }\n",
       "\n",
       "    .dataframe thead th {\n",
       "        text-align: right;\n",
       "    }\n",
       "</style>\n",
       "<table border=\"1\" class=\"dataframe\">\n",
       "  <thead>\n",
       "    <tr style=\"text-align: right;\">\n",
       "      <th></th>\n",
       "      <th>lab</th>\n",
       "      <th>ABSNJZH_difference_of_vars</th>\n",
       "      <th>EPSZ_min</th>\n",
       "      <th>MEANGAM_dderivative_mean</th>\n",
       "      <th>MEANGAM_last_value</th>\n",
       "      <th>MEANGBH_last_value</th>\n",
       "      <th>MEANJZH_quadratic_weighted_average</th>\n",
       "      <th>EPSY_min</th>\n",
       "      <th>EPSX_mean</th>\n",
       "      <th>R_VALUE_max</th>\n",
       "      <th>...</th>\n",
       "      <th>R_VALUE_last_value</th>\n",
       "      <th>TOTUSJH_difference_of_maxs</th>\n",
       "      <th>TOTUSJH_dderivative_mean</th>\n",
       "      <th>TOTUSJH_last_value</th>\n",
       "      <th>ABSNJZH_stddev</th>\n",
       "      <th>ABSNJZH_gderivative_stddev</th>\n",
       "      <th>MEANJZH_difference_of_means</th>\n",
       "      <th>id</th>\n",
       "      <th>SAVNCPP_max</th>\n",
       "      <th>USFLUX_dderivative_stddev</th>\n",
       "    </tr>\n",
       "  </thead>\n",
       "  <tbody>\n",
       "    <tr>\n",
       "      <th>0</th>\n",
       "      <td>NF</td>\n",
       "      <td>0.653443</td>\n",
       "      <td>0.834495</td>\n",
       "      <td>0.591456</td>\n",
       "      <td>0.690903</td>\n",
       "      <td>0.329528</td>\n",
       "      <td>0.449428</td>\n",
       "      <td>0.513366</td>\n",
       "      <td>0.500123</td>\n",
       "      <td>0.640959</td>\n",
       "      <td>...</td>\n",
       "      <td>0.547147</td>\n",
       "      <td>0.066288</td>\n",
       "      <td>0.641546</td>\n",
       "      <td>0.253303</td>\n",
       "      <td>0.221667</td>\n",
       "      <td>0.169989</td>\n",
       "      <td>0.124625</td>\n",
       "      <td>0.578116</td>\n",
       "      <td>0.063282</td>\n",
       "      <td>0.021700</td>\n",
       "    </tr>\n",
       "    <tr>\n",
       "      <th>1</th>\n",
       "      <td>NF</td>\n",
       "      <td>0.397282</td>\n",
       "      <td>0.311753</td>\n",
       "      <td>0.599158</td>\n",
       "      <td>0.265455</td>\n",
       "      <td>0.154474</td>\n",
       "      <td>0.523684</td>\n",
       "      <td>0.252114</td>\n",
       "      <td>0.330874</td>\n",
       "      <td>0.000000</td>\n",
       "      <td>...</td>\n",
       "      <td>0.000000</td>\n",
       "      <td>0.068844</td>\n",
       "      <td>0.633513</td>\n",
       "      <td>0.152454</td>\n",
       "      <td>0.113363</td>\n",
       "      <td>0.118672</td>\n",
       "      <td>0.071472</td>\n",
       "      <td>0.736474</td>\n",
       "      <td>0.011076</td>\n",
       "      <td>0.023395</td>\n",
       "    </tr>\n",
       "    <tr>\n",
       "      <th>2</th>\n",
       "      <td>NF</td>\n",
       "      <td>0.553983</td>\n",
       "      <td>0.522126</td>\n",
       "      <td>0.559000</td>\n",
       "      <td>0.414133</td>\n",
       "      <td>0.354117</td>\n",
       "      <td>0.481698</td>\n",
       "      <td>0.422393</td>\n",
       "      <td>0.513643</td>\n",
       "      <td>0.405487</td>\n",
       "      <td>...</td>\n",
       "      <td>0.000000</td>\n",
       "      <td>0.006665</td>\n",
       "      <td>0.637211</td>\n",
       "      <td>0.163801</td>\n",
       "      <td>0.158542</td>\n",
       "      <td>0.163447</td>\n",
       "      <td>0.124787</td>\n",
       "      <td>0.942857</td>\n",
       "      <td>0.035432</td>\n",
       "      <td>0.020475</td>\n",
       "    </tr>\n",
       "    <tr>\n",
       "      <th>3</th>\n",
       "      <td>NF</td>\n",
       "      <td>0.521641</td>\n",
       "      <td>0.490272</td>\n",
       "      <td>0.526643</td>\n",
       "      <td>0.343640</td>\n",
       "      <td>0.176155</td>\n",
       "      <td>0.514006</td>\n",
       "      <td>0.562950</td>\n",
       "      <td>0.753106</td>\n",
       "      <td>0.736653</td>\n",
       "      <td>...</td>\n",
       "      <td>0.701873</td>\n",
       "      <td>0.193596</td>\n",
       "      <td>0.609854</td>\n",
       "      <td>0.260010</td>\n",
       "      <td>0.188205</td>\n",
       "      <td>0.161562</td>\n",
       "      <td>0.087579</td>\n",
       "      <td>0.858359</td>\n",
       "      <td>0.038205</td>\n",
       "      <td>0.027255</td>\n",
       "    </tr>\n",
       "    <tr>\n",
       "      <th>4</th>\n",
       "      <td>NF</td>\n",
       "      <td>0.366337</td>\n",
       "      <td>0.474023</td>\n",
       "      <td>0.474713</td>\n",
       "      <td>0.355561</td>\n",
       "      <td>0.327292</td>\n",
       "      <td>0.526087</td>\n",
       "      <td>0.513346</td>\n",
       "      <td>0.770718</td>\n",
       "      <td>0.529716</td>\n",
       "      <td>...</td>\n",
       "      <td>0.310076</td>\n",
       "      <td>0.051622</td>\n",
       "      <td>0.636584</td>\n",
       "      <td>0.094275</td>\n",
       "      <td>0.086037</td>\n",
       "      <td>0.092659</td>\n",
       "      <td>0.177954</td>\n",
       "      <td>0.589970</td>\n",
       "      <td>0.008969</td>\n",
       "      <td>0.006728</td>\n",
       "    </tr>\n",
       "  </tbody>\n",
       "</table>\n",
       "<p>5 rows × 21 columns</p>\n",
       "</div>"
      ],
      "text/plain": [
       "  lab  ABSNJZH_difference_of_vars  EPSZ_min  MEANGAM_dderivative_mean  \\\n",
       "0  NF                    0.653443  0.834495                  0.591456   \n",
       "1  NF                    0.397282  0.311753                  0.599158   \n",
       "2  NF                    0.553983  0.522126                  0.559000   \n",
       "3  NF                    0.521641  0.490272                  0.526643   \n",
       "4  NF                    0.366337  0.474023                  0.474713   \n",
       "\n",
       "   MEANGAM_last_value  MEANGBH_last_value  MEANJZH_quadratic_weighted_average  \\\n",
       "0            0.690903            0.329528                            0.449428   \n",
       "1            0.265455            0.154474                            0.523684   \n",
       "2            0.414133            0.354117                            0.481698   \n",
       "3            0.343640            0.176155                            0.514006   \n",
       "4            0.355561            0.327292                            0.526087   \n",
       "\n",
       "   EPSY_min  EPSX_mean  R_VALUE_max  ...  R_VALUE_last_value  \\\n",
       "0  0.513366   0.500123     0.640959  ...            0.547147   \n",
       "1  0.252114   0.330874     0.000000  ...            0.000000   \n",
       "2  0.422393   0.513643     0.405487  ...            0.000000   \n",
       "3  0.562950   0.753106     0.736653  ...            0.701873   \n",
       "4  0.513346   0.770718     0.529716  ...            0.310076   \n",
       "\n",
       "   TOTUSJH_difference_of_maxs  TOTUSJH_dderivative_mean  TOTUSJH_last_value  \\\n",
       "0                    0.066288                  0.641546            0.253303   \n",
       "1                    0.068844                  0.633513            0.152454   \n",
       "2                    0.006665                  0.637211            0.163801   \n",
       "3                    0.193596                  0.609854            0.260010   \n",
       "4                    0.051622                  0.636584            0.094275   \n",
       "\n",
       "   ABSNJZH_stddev  ABSNJZH_gderivative_stddev  MEANJZH_difference_of_means  \\\n",
       "0        0.221667                    0.169989                     0.124625   \n",
       "1        0.113363                    0.118672                     0.071472   \n",
       "2        0.158542                    0.163447                     0.124787   \n",
       "3        0.188205                    0.161562                     0.087579   \n",
       "4        0.086037                    0.092659                     0.177954   \n",
       "\n",
       "         id  SAVNCPP_max  USFLUX_dderivative_stddev  \n",
       "0  0.578116     0.063282                   0.021700  \n",
       "1  0.736474     0.011076                   0.023395  \n",
       "2  0.942857     0.035432                   0.020475  \n",
       "3  0.858359     0.038205                   0.027255  \n",
       "4  0.589970     0.008969                   0.006728  \n",
       "\n",
       "[5 rows x 21 columns]"
      ]
     },
     "metadata": {},
     "output_type": "display_data"
    }
   ],
   "source": [
    "abt_dich = abt_copy2.copy()\n",
    "abt_dich['lab'] = abt_dich['lab'].map({'NF': -1, 'B': -0.5, 'C': 0, 'M': 0.5, 'X': 1})\n",
    "df_labels2 = abt_dich['lab'].copy()\n",
    "df_feats2 = abt_dich.copy().drop(['lab'], axis=1)\n",
    "\n",
    "# Split the target and descriptive features for Partition 2 inot two\n",
    "# different DataFrame Objects\n",
    "abt_dich2 = abt2.copy()\n",
    "abt_dich2['lab'] = abt_dich2['lab'].map({'NF': -1, 'B': -0.5, 'C': 0, 'M': 0.5, 'X': 1})\n",
    "df_test_labels2 = abt_dich2['lab'].copy()\n",
    "df_test_feats2 = abt_dich2.copy().drop(['lab'], axis=1)\n",
    "\n",
    "lasso = LassoLars(alpha = 0.0005, normalize = False)\n",
    "feats2 = SelectFromModel(estimator= lasso, max_features = numFeat).fit(df_feats2, df_labels2)\n",
    "\n",
    "\n",
    "df_selected_feats2 = df_feats2.loc[:, feats2.get_support()]\n",
    "df_train_set2 = pd.concat([df_labels2, df_selected_feats2], axis=1)\n",
    "\n",
    "# Construct a testing dataset from Partition 2 with only the selected descriptive\n",
    "# features and the target feature\n",
    "df_test_selected_feats2 = df_test_feats2.loc[:, feats2.get_support()]\n",
    "df_test_set2 = pd.concat([df_test_labels2, df_test_selected_feats2], axis=1)\n",
    "\n",
    "di = {-1: 'NF', -0.5: 'B', 0: 'C', 0.5: 'M', 1: 'X'}\n",
    "df_train_set2.replace({'lab':di}, inplace = True)\n",
    "df_test_set2.replace({'lab':di}, inplace = True)\n",
    "display(df_train_set2.head())\n",
    "display(df_test_set2.head())"
   ]
  },
  {
   "cell_type": "code",
   "execution_count": 28,
   "id": "e2b0af42",
   "metadata": {},
   "outputs": [
    {
     "data": {
      "text/plain": [
       "(24916, 21)"
      ]
     },
     "metadata": {},
     "output_type": "display_data"
    },
    {
     "data": {
      "text/plain": [
       "(88557, 21)"
      ]
     },
     "metadata": {},
     "output_type": "display_data"
    }
   ],
   "source": [
    "# Split the target and descriptive features for Partition 1 into two \n",
    "# different DataFrame objects\n",
    "df_labels3 = abt_copy2['lab'].copy()\n",
    "df_feats3 = abt_copy2.copy().drop(['lab'], axis=1)\n",
    "\n",
    "# Split the target and descriptive features for Partition 2 inot two\n",
    "# different DataFrame Objects\n",
    "df_test_labels3 = abt2['lab'].copy()\n",
    "df_test_feats3 = abt2.copy().drop(['lab'], axis=1)\n",
    "\n",
    "clf = ExtraTreesClassifier(n_estimators = 75)\n",
    "feats3 = SelectFromModel(estimator= clf, max_features = numFeat).fit(df_feats3, df_labels3)\n",
    "\n",
    "df_selected_feats3 = df_feats3.loc[:, feats3.get_support()]\n",
    "df_train_set3 = pd.concat([df_labels3, df_selected_feats3], axis=1)\n",
    "\n",
    "# Construct a testing dataset from Partition 2 with only the selected descriptive\n",
    "# features and the target feature\n",
    "df_test_selected_feats3 = df_test_feats3.loc[:, feats3.get_support()]\n",
    "df_test_set3 = pd.concat([df_test_labels3, df_test_selected_feats3], axis=1)\n",
    "\n",
    "display(df_train_set3.shape)\n",
    "display(df_test_set3.shape)"
   ]
  },
  {
   "cell_type": "markdown",
   "id": "5dbd0bc8",
   "metadata": {},
   "source": [
    "---\n",
    "### Q9 (10 points)\n",
    "\n",
    "Using the training and testing datsets you constructed in the previous question after performing feature selection on the filtered partition 1 analytics base table. You now need to perform the sampling on the training data using the function you made in Q5.\n",
    "\n",
    "Then you should convert each of the new training and testing datasets to a binary classification problem datase or dichotomize the training and testing data like you did in Q3. Lucky for you, a method has already been provided to do this. All you need to do is apply it to teach of the `DataFrame`s you constructed with the feature selected training and testing data.\n",
    "\n",
    "**Note:** You might want to put the training and testing tuples you get from the call to the dichotomize method into seperate training and testing lists. Then you can loop over them later. \n"
   ]
  },
  {
   "cell_type": "code",
   "execution_count": 29,
   "id": "8469f596",
   "metadata": {},
   "outputs": [
    {
     "data": {
      "text/plain": [
       "(820, 21)"
      ]
     },
     "metadata": {},
     "output_type": "display_data"
    },
    {
     "data": {
      "text/plain": [
       "NF    164\n",
       "X     164\n",
       "C     164\n",
       "B     164\n",
       "M     164\n",
       "Name: lab, dtype: int64"
      ]
     },
     "metadata": {},
     "output_type": "display_data"
    },
    {
     "data": {
      "text/plain": [
       "(820, 21)"
      ]
     },
     "metadata": {},
     "output_type": "display_data"
    },
    {
     "data": {
      "text/plain": [
       "NF    164\n",
       "X     164\n",
       "C     164\n",
       "B     164\n",
       "M     164\n",
       "Name: lab, dtype: int64"
      ]
     },
     "metadata": {},
     "output_type": "display_data"
    },
    {
     "data": {
      "text/plain": [
       "(820, 21)"
      ]
     },
     "metadata": {},
     "output_type": "display_data"
    },
    {
     "data": {
      "text/plain": [
       "NF    164\n",
       "X     164\n",
       "C     164\n",
       "B     164\n",
       "M     164\n",
       "Name: lab, dtype: int64"
      ]
     },
     "metadata": {},
     "output_type": "display_data"
    },
    {
     "data": {
      "text/plain": [
       "(820, 21)"
      ]
     },
     "metadata": {},
     "output_type": "display_data"
    },
    {
     "data": {
      "text/plain": [
       "NF    164\n",
       "X     164\n",
       "C     164\n",
       "B     164\n",
       "M     164\n",
       "Name: lab, dtype: int64"
      ]
     },
     "metadata": {},
     "output_type": "display_data"
    },
    {
     "data": {
      "text/plain": [
       "(820, 21)"
      ]
     },
     "metadata": {},
     "output_type": "display_data"
    },
    {
     "data": {
      "text/plain": [
       "NF    164\n",
       "X     164\n",
       "C     164\n",
       "B     164\n",
       "M     164\n",
       "Name: lab, dtype: int64"
      ]
     },
     "metadata": {},
     "output_type": "display_data"
    },
    {
     "data": {
      "text/plain": [
       "(820, 21)"
      ]
     },
     "metadata": {},
     "output_type": "display_data"
    },
    {
     "data": {
      "text/plain": [
       "NF    164\n",
       "X     164\n",
       "C     164\n",
       "B     164\n",
       "M     164\n",
       "Name: lab, dtype: int64"
      ]
     },
     "metadata": {},
     "output_type": "display_data"
    }
   ],
   "source": [
    "cluster_train_set1 = perform_under_sample_clust(df_train_set1)\n",
    "display(cluster_train_set1.shape)\n",
    "display(cluster_train_set1.lab.value_counts())\n",
    "\n",
    "cluster_train_set2 = perform_under_sample_clust(df_train_set2)\n",
    "display(cluster_train_set2.shape)\n",
    "display(cluster_train_set2.lab.value_counts())\n",
    "\n",
    "cluster_train_set3 = perform_under_sample_clust(df_train_set3)\n",
    "display(cluster_train_set3.shape)\n",
    "display(cluster_train_set3.lab.value_counts())\n",
    "\n",
    "cluster_test_set1 = perform_under_sample_clust(df_test_set1)\n",
    "display(cluster_test_set1.shape)\n",
    "display(cluster_test_set1.lab.value_counts())\n",
    "\n",
    "cluster_test_set2 = perform_under_sample_clust(df_test_set2)\n",
    "display(cluster_test_set2.shape)\n",
    "display(cluster_test_set2.lab.value_counts())\n",
    "\n",
    "cluster_test_set3 = perform_under_sample_clust(df_test_set3)\n",
    "display(cluster_test_set3.shape)\n",
    "display(cluster_test_set3.lab.value_counts())\n",
    "\n"
   ]
  },
  {
   "cell_type": "code",
   "execution_count": 30,
   "id": "6916581a",
   "metadata": {},
   "outputs": [],
   "source": [
    "clust_train = []\n",
    "\n",
    "X, y = dichotomize_X_y(cluster_train_set1)\n",
    "clust_train.append(X)\n",
    "clust_train.append(y)\n",
    "\n",
    "X, y = dichotomize_X_y(cluster_train_set2)\n",
    "clust_train.append(X)\n",
    "clust_train.append(y)\n",
    "\n",
    "X, y = dichotomize_X_y(cluster_train_set3)\n",
    "clust_train.append(X)\n",
    "clust_train.append(y)"
   ]
  },
  {
   "cell_type": "code",
   "execution_count": 31,
   "id": "d32a2af6",
   "metadata": {},
   "outputs": [],
   "source": [
    "test = []\n",
    "\n",
    "X, y = dichotomize_X_y(df_test_set1)\n",
    "test.append(X)\n",
    "test.append(y)\n",
    "\n",
    "X, y = dichotomize_X_y(df_test_set2)\n",
    "test.append(X)\n",
    "test.append(y)\n",
    "\n",
    "X, y = dichotomize_X_y(df_test_set3)\n",
    "test.append(X)\n",
    "test.append(y)\n",
    "    #----------------------------------------------\n",
    "    # TODO: Complete here.\n",
    "    #----------------------------------------------"
   ]
  },
  {
   "cell_type": "markdown",
   "id": "33dab10a",
   "metadata": {},
   "source": [
    "---\n",
    "### Q10 (20 points)\n",
    "\n",
    "Like in Q6, this question will be utilizing the filtered and sampled datasets constructed in the previous question. For this question, you will again train your models on the three different feature selected data that had the instances below our thrshold filtered out and then had sampling by clustering performed on them. \n",
    "\n",
    "You will again be constructing an [SVC](https://scikit-learn.org/stable/modules/generated/sklearn.svm.SVC.html) model on each one of the different datasets. Like before, you should set the `class_weight` to `balanced` when you construct your models. You will again evaluate several different settings for the `kernel`, the regularization parameter `C`, and kernel coefficient `gamma`. **Note:** The `gamma` paramter is only utilized on the ‘rbf’, ‘poly’ and ‘sigmoid’ kernels, so there is no reason to evaluate multiple settings for the `linear` kernel. I have listed the settings of each parameter in a code block below. \n",
    "\n",
    "For each of the settings, you should train the model on your training data, then test it on the testing data with the same set of selected descriptive features. You will then calculate both the TSS and HSS scores and print them out. **Note:** The testing data has the samples in it that are below our threshold value, so you will first need to filter those out of the data you plan to pass to your model for testing. However, you still want those instances included in the calculation of the TSS and HSSS. So, your groud truth `lab` data should include all the instances in partition 2. You will need to concatenate a vector with all zeros in it to the match the labels you partitioned from the model testing data. \n",
    "\n",
    "Let's give you a representation of that:\n",
    "    \n",
    "    labels_from_data = [labels for samples > threshold] + [labels for samples <= threshold]\n",
    "    predict_labels = [labels from the model on > thrshold samples] + [0s the length of samples <= threshold]\n",
    "\n"
   ]
  },
  {
   "cell_type": "code",
   "execution_count": 37,
   "id": "6bb4c0d6",
   "metadata": {},
   "outputs": [],
   "source": [
    "thresh = 0.5\n",
    "\n",
    "kernel = ['linear', 'poly', 'rbf']\n",
    "c_vals = [ 0.5, 1.0]\n",
    "gamma_vals = [0.5, 1, 10]\n",
    "temp = [kernel, c_vals, gamma_vals]\n",
    "params = list(itertools.product(*temp))"
   ]
  },
  {
   "cell_type": "code",
   "execution_count": 101,
   "id": "a5dba667",
   "metadata": {},
   "outputs": [
    {
     "data": {
      "text/plain": [
       "array([False, False, False, False, False, False, False, False, False,\n",
       "       False, False, False, False, False,  True, False, False, False,\n",
       "       False, False])"
      ]
     },
     "metadata": {},
     "output_type": "display_data"
    }
   ],
   "source": [
    "sample = test[0]\n",
    "sample = np.greater(sample[306], 0.5)\n",
    "display(sample)"
   ]
  },
  {
   "cell_type": "code",
   "execution_count": 92,
   "id": "22707ff9",
   "metadata": {},
   "outputs": [
    {
     "name": "stdout",
     "output_type": "stream",
     "text": [
      "TN=84308\tFP=2848\tFN=463\tTP=938\n",
      "F-Val: C = 0.5 Kernel = linear Gamma = 0.5\n"
     ]
    },
    {
     "data": {
      "text/plain": [
       "0.6368447312913428"
      ]
     },
     "metadata": {},
     "output_type": "display_data"
    },
    {
     "data": {
      "text/plain": [
       "0.3465830404495007"
      ]
     },
     "metadata": {},
     "output_type": "display_data"
    },
    {
     "name": "stdout",
     "output_type": "stream",
     "text": [
      "\n",
      "\n",
      "TN=59860\tFP=27296\tFN=42\tTP=1359\n",
      "FromLasso: C = 0.5 Kernel = linear Gamma = 0.5\n"
     ]
    },
    {
     "data": {
      "text/plain": [
       "0.6568358609333059"
      ]
     },
     "metadata": {},
     "output_type": "display_data"
    },
    {
     "data": {
      "text/plain": [
       "0.062139920357464344"
      ]
     },
     "metadata": {},
     "output_type": "display_data"
    },
    {
     "name": "stdout",
     "output_type": "stream",
     "text": [
      "\n",
      "\n",
      "TN=1769\tFP=85387\tFN=0\tTP=1401\n",
      "FromForest: C = 0.5 Kernel = linear Gamma = 0.5\n"
     ]
    },
    {
     "data": {
      "text/plain": [
       "0.020296938822341515"
      ]
     },
     "metadata": {},
     "output_type": "display_data"
    },
    {
     "data": {
      "text/plain": [
       "0.0006550835900797063"
      ]
     },
     "metadata": {},
     "output_type": "display_data"
    },
    {
     "name": "stdout",
     "output_type": "stream",
     "text": [
      "\n",
      "\n",
      "TN=84308\tFP=2848\tFN=463\tTP=938\n",
      "F-Val: C = 0.5 Kernel = linear Gamma = 1\n"
     ]
    },
    {
     "data": {
      "text/plain": [
       "0.6368447312913428"
      ]
     },
     "metadata": {},
     "output_type": "display_data"
    },
    {
     "data": {
      "text/plain": [
       "0.3465830404495007"
      ]
     },
     "metadata": {},
     "output_type": "display_data"
    },
    {
     "name": "stdout",
     "output_type": "stream",
     "text": [
      "\n",
      "\n",
      "TN=59860\tFP=27296\tFN=42\tTP=1359\n",
      "FromLasso: C = 0.5 Kernel = linear Gamma = 1\n"
     ]
    },
    {
     "data": {
      "text/plain": [
       "0.6568358609333059"
      ]
     },
     "metadata": {},
     "output_type": "display_data"
    },
    {
     "data": {
      "text/plain": [
       "0.062139920357464344"
      ]
     },
     "metadata": {},
     "output_type": "display_data"
    },
    {
     "name": "stdout",
     "output_type": "stream",
     "text": [
      "\n",
      "\n",
      "TN=1769\tFP=85387\tFN=0\tTP=1401\n",
      "FromForest: C = 0.5 Kernel = linear Gamma = 1\n"
     ]
    },
    {
     "data": {
      "text/plain": [
       "0.020296938822341515"
      ]
     },
     "metadata": {},
     "output_type": "display_data"
    },
    {
     "data": {
      "text/plain": [
       "0.0006550835900797063"
      ]
     },
     "metadata": {},
     "output_type": "display_data"
    },
    {
     "name": "stdout",
     "output_type": "stream",
     "text": [
      "\n",
      "\n",
      "TN=84308\tFP=2848\tFN=463\tTP=938\n",
      "F-Val: C = 0.5 Kernel = linear Gamma = 10\n"
     ]
    },
    {
     "data": {
      "text/plain": [
       "0.6368447312913428"
      ]
     },
     "metadata": {},
     "output_type": "display_data"
    },
    {
     "data": {
      "text/plain": [
       "0.3465830404495007"
      ]
     },
     "metadata": {},
     "output_type": "display_data"
    },
    {
     "name": "stdout",
     "output_type": "stream",
     "text": [
      "\n",
      "\n",
      "TN=59860\tFP=27296\tFN=42\tTP=1359\n",
      "FromLasso: C = 0.5 Kernel = linear Gamma = 10\n"
     ]
    },
    {
     "data": {
      "text/plain": [
       "0.6568358609333059"
      ]
     },
     "metadata": {},
     "output_type": "display_data"
    },
    {
     "data": {
      "text/plain": [
       "0.062139920357464344"
      ]
     },
     "metadata": {},
     "output_type": "display_data"
    },
    {
     "name": "stdout",
     "output_type": "stream",
     "text": [
      "\n",
      "\n",
      "TN=1769\tFP=85387\tFN=0\tTP=1401\n",
      "FromForest: C = 0.5 Kernel = linear Gamma = 10\n"
     ]
    },
    {
     "data": {
      "text/plain": [
       "0.020296938822341515"
      ]
     },
     "metadata": {},
     "output_type": "display_data"
    },
    {
     "data": {
      "text/plain": [
       "0.0006550835900797063"
      ]
     },
     "metadata": {},
     "output_type": "display_data"
    },
    {
     "name": "stdout",
     "output_type": "stream",
     "text": [
      "\n",
      "\n",
      "TN=84191\tFP=2965\tFN=450\tTP=951\n",
      "F-Val: C = 1.0 Kernel = linear Gamma = 0.5\n"
     ]
    },
    {
     "data": {
      "text/plain": [
       "0.6447813971708216"
      ]
     },
     "metadata": {},
     "output_type": "display_data"
    },
    {
     "data": {
      "text/plain": [
       "0.3423960415559338"
      ]
     },
     "metadata": {},
     "output_type": "display_data"
    },
    {
     "name": "stdout",
     "output_type": "stream",
     "text": [
      "\n",
      "\n",
      "TN=64255\tFP=22901\tFN=54\tTP=1347\n",
      "FromLasso: C = 1.0 Kernel = linear Gamma = 0.5\n"
     ]
    },
    {
     "data": {
      "text/plain": [
       "0.6986973713137181"
      ]
     },
     "metadata": {},
     "output_type": "display_data"
    },
    {
     "data": {
      "text/plain": [
       "0.07743730449223116"
      ]
     },
     "metadata": {},
     "output_type": "display_data"
    },
    {
     "name": "stdout",
     "output_type": "stream",
     "text": [
      "\n",
      "\n",
      "TN=1868\tFP=85288\tFN=0\tTP=1401\n",
      "FromForest: C = 1.0 Kernel = linear Gamma = 0.5\n"
     ]
    },
    {
     "data": {
      "text/plain": [
       "0.021432833080912372"
      ]
     },
     "metadata": {},
     "output_type": "display_data"
    },
    {
     "data": {
      "text/plain": [
       "0.0006925215848685554"
      ]
     },
     "metadata": {},
     "output_type": "display_data"
    },
    {
     "name": "stdout",
     "output_type": "stream",
     "text": [
      "\n",
      "\n",
      "TN=84191\tFP=2965\tFN=450\tTP=951\n",
      "F-Val: C = 1.0 Kernel = linear Gamma = 1\n"
     ]
    },
    {
     "data": {
      "text/plain": [
       "0.6447813971708216"
      ]
     },
     "metadata": {},
     "output_type": "display_data"
    },
    {
     "data": {
      "text/plain": [
       "0.3423960415559338"
      ]
     },
     "metadata": {},
     "output_type": "display_data"
    },
    {
     "name": "stdout",
     "output_type": "stream",
     "text": [
      "\n",
      "\n",
      "TN=64255\tFP=22901\tFN=54\tTP=1347\n",
      "FromLasso: C = 1.0 Kernel = linear Gamma = 1\n"
     ]
    },
    {
     "data": {
      "text/plain": [
       "0.6986973713137181"
      ]
     },
     "metadata": {},
     "output_type": "display_data"
    },
    {
     "data": {
      "text/plain": [
       "0.07743730449223116"
      ]
     },
     "metadata": {},
     "output_type": "display_data"
    },
    {
     "name": "stdout",
     "output_type": "stream",
     "text": [
      "\n",
      "\n",
      "TN=1868\tFP=85288\tFN=0\tTP=1401\n",
      "FromForest: C = 1.0 Kernel = linear Gamma = 1\n"
     ]
    },
    {
     "data": {
      "text/plain": [
       "0.021432833080912372"
      ]
     },
     "metadata": {},
     "output_type": "display_data"
    },
    {
     "data": {
      "text/plain": [
       "0.0006925215848685554"
      ]
     },
     "metadata": {},
     "output_type": "display_data"
    },
    {
     "name": "stdout",
     "output_type": "stream",
     "text": [
      "\n",
      "\n",
      "TN=84191\tFP=2965\tFN=450\tTP=951\n",
      "F-Val: C = 1.0 Kernel = linear Gamma = 10\n"
     ]
    },
    {
     "data": {
      "text/plain": [
       "0.6447813971708216"
      ]
     },
     "metadata": {},
     "output_type": "display_data"
    },
    {
     "data": {
      "text/plain": [
       "0.3423960415559338"
      ]
     },
     "metadata": {},
     "output_type": "display_data"
    },
    {
     "name": "stdout",
     "output_type": "stream",
     "text": [
      "\n",
      "\n",
      "TN=64255\tFP=22901\tFN=54\tTP=1347\n",
      "FromLasso: C = 1.0 Kernel = linear Gamma = 10\n"
     ]
    },
    {
     "data": {
      "text/plain": [
       "0.6986973713137181"
      ]
     },
     "metadata": {},
     "output_type": "display_data"
    },
    {
     "data": {
      "text/plain": [
       "0.07743730449223116"
      ]
     },
     "metadata": {},
     "output_type": "display_data"
    },
    {
     "name": "stdout",
     "output_type": "stream",
     "text": [
      "\n",
      "\n",
      "TN=1868\tFP=85288\tFN=0\tTP=1401\n",
      "FromForest: C = 1.0 Kernel = linear Gamma = 10\n"
     ]
    },
    {
     "data": {
      "text/plain": [
       "0.021432833080912372"
      ]
     },
     "metadata": {},
     "output_type": "display_data"
    },
    {
     "data": {
      "text/plain": [
       "0.0006925215848685554"
      ]
     },
     "metadata": {},
     "output_type": "display_data"
    },
    {
     "name": "stdout",
     "output_type": "stream",
     "text": [
      "\n",
      "\n",
      "TN=84259\tFP=2897\tFN=467\tTP=934\n",
      "F-Val: C = 0.5 Kernel = poly Gamma = 0.5\n"
     ]
    },
    {
     "data": {
      "text/plain": [
       "0.6334274175042452"
      ]
     },
     "metadata": {},
     "output_type": "display_data"
    },
    {
     "data": {
      "text/plain": [
       "0.3417840532055181"
      ]
     },
     "metadata": {},
     "output_type": "display_data"
    },
    {
     "name": "stdout",
     "output_type": "stream",
     "text": [
      "\n",
      "\n",
      "TN=84778\tFP=2378\tFN=714\tTP=687\n",
      "FromLasso: C = 0.5 Kernel = poly Gamma = 0.5\n"
     ]
    },
    {
     "data": {
      "text/plain": [
       "0.4630796161314723"
      ]
     },
     "metadata": {},
     "output_type": "display_data"
    },
    {
     "data": {
      "text/plain": [
       "0.29229003799544484"
      ]
     },
     "metadata": {},
     "output_type": "display_data"
    },
    {
     "name": "stdout",
     "output_type": "stream",
     "text": [
      "\n",
      "\n",
      "TN=79484\tFP=7672\tFN=126\tTP=1275\n",
      "FromForest: C = 0.5 Kernel = poly Gamma = 0.5\n"
     ]
    },
    {
     "data": {
      "text/plain": [
       "0.8220381716291435"
      ]
     },
     "metadata": {},
     "output_type": "display_data"
    },
    {
     "data": {
      "text/plain": [
       "0.22522913143416495"
      ]
     },
     "metadata": {},
     "output_type": "display_data"
    },
    {
     "name": "stdout",
     "output_type": "stream",
     "text": [
      "\n",
      "\n",
      "TN=84378\tFP=2778\tFN=525\tTP=876\n",
      "F-Val: C = 0.5 Kernel = poly Gamma = 1\n"
     ]
    },
    {
     "data": {
      "text/plain": [
       "0.5933937846366303"
      ]
     },
     "metadata": {},
     "output_type": "display_data"
    },
    {
     "data": {
      "text/plain": [
       "0.3312932828988198"
      ]
     },
     "metadata": {},
     "output_type": "display_data"
    },
    {
     "name": "stdout",
     "output_type": "stream",
     "text": [
      "\n",
      "\n",
      "TN=76803\tFP=10353\tFN=1088\tTP=313\n",
      "FromLasso: C = 0.5 Kernel = poly Gamma = 1\n"
     ]
    },
    {
     "data": {
      "text/plain": [
       "0.10462484606351574"
      ]
     },
     "metadata": {},
     "output_type": "display_data"
    },
    {
     "data": {
      "text/plain": [
       "0.02459784621832097"
      ]
     },
     "metadata": {},
     "output_type": "display_data"
    },
    {
     "name": "stdout",
     "output_type": "stream",
     "text": [
      "\n",
      "\n",
      "TN=87146\tFP=10\tFN=1388\tTP=13\n",
      "FromForest: C = 0.5 Kernel = poly Gamma = 1\n"
     ]
    },
    {
     "data": {
      "text/plain": [
       "0.009164349573085765"
      ]
     },
     "metadata": {},
     "output_type": "display_data"
    },
    {
     "data": {
      "text/plain": [
       "0.01775645176009068"
      ]
     },
     "metadata": {},
     "output_type": "display_data"
    },
    {
     "name": "stdout",
     "output_type": "stream",
     "text": [
      "\n",
      "\n",
      "TN=81628\tFP=5528\tFN=556\tTP=845\n",
      "F-Val: C = 0.5 Kernel = poly Gamma = 10\n"
     ]
    },
    {
     "data": {
      "text/plain": [
       "0.539714114237357"
      ]
     },
     "metadata": {},
     "output_type": "display_data"
    },
    {
     "data": {
      "text/plain": [
       "0.19655105542687287"
      ]
     },
     "metadata": {},
     "output_type": "display_data"
    },
    {
     "name": "stdout",
     "output_type": "stream",
     "text": [
      "\n",
      "\n",
      "TN=80230\tFP=6926\tFN=1401\tTP=0\n",
      "FromLasso: C = 0.5 Kernel = poly Gamma = 10\n"
     ]
    },
    {
     "data": {
      "text/plain": [
       "-0.07946670338244068"
      ]
     },
     "metadata": {},
     "output_type": "display_data"
    },
    {
     "data": {
      "text/plain": [
       "-0.027028481389637656"
      ]
     },
     "metadata": {},
     "output_type": "display_data"
    },
    {
     "name": "stdout",
     "output_type": "stream",
     "text": [
      "\n",
      "\n",
      "TN=2530\tFP=84626\tFN=187\tTP=1214\n",
      "FromForest: C = 0.5 Kernel = poly Gamma = 10\n"
     ]
    },
    {
     "data": {
      "text/plain": [
       "-0.10444767967806479"
      ]
     },
     "metadata": {},
     "output_type": "display_data"
    },
    {
     "data": {
      "text/plain": [
       "-0.003407660411489535"
      ]
     },
     "metadata": {},
     "output_type": "display_data"
    },
    {
     "name": "stdout",
     "output_type": "stream",
     "text": [
      "\n",
      "\n",
      "TN=84187\tFP=2969\tFN=473\tTP=928\n",
      "F-Val: C = 1.0 Kernel = poly Gamma = 0.5\n"
     ]
    },
    {
     "data": {
      "text/plain": [
       "0.6283186573426683"
      ]
     },
     "metadata": {},
     "output_type": "display_data"
    },
    {
     "data": {
      "text/plain": [
       "0.33484020856203756"
      ]
     },
     "metadata": {},
     "output_type": "display_data"
    },
    {
     "name": "stdout",
     "output_type": "stream",
     "text": [
      "\n",
      "\n",
      "TN=85216\tFP=1940\tFN=927\tTP=474\n",
      "FromLasso: C = 1.0 Kernel = poly Gamma = 0.5\n"
     ]
    },
    {
     "data": {
      "text/plain": [
       "0.31607082645772483"
      ]
     },
     "metadata": {},
     "output_type": "display_data"
    },
    {
     "data": {
      "text/plain": [
       "0.2331393979696088"
      ]
     },
     "metadata": {},
     "output_type": "display_data"
    },
    {
     "name": "stdout",
     "output_type": "stream",
     "text": [
      "\n",
      "\n",
      "TN=86012\tFP=1144\tFN=801\tTP=600\n",
      "FromForest: C = 1.0 Kernel = poly Gamma = 0.5\n"
     ]
    },
    {
     "data": {
      "text/plain": [
       "0.4151396354151158"
      ]
     },
     "metadata": {},
     "output_type": "display_data"
    },
    {
     "data": {
      "text/plain": [
       "0.37051323333204583"
      ]
     },
     "metadata": {},
     "output_type": "display_data"
    },
    {
     "name": "stdout",
     "output_type": "stream",
     "text": [
      "\n",
      "\n",
      "TN=84429\tFP=2727\tFN=524\tTP=877\n",
      "F-Val: C = 1.0 Kernel = poly Gamma = 1\n"
     ]
    },
    {
     "data": {
      "text/plain": [
       "0.5946927181593604"
      ]
     },
     "metadata": {},
     "output_type": "display_data"
    },
    {
     "data": {
      "text/plain": [
       "0.33530528685427863"
      ]
     },
     "metadata": {},
     "output_type": "display_data"
    },
    {
     "name": "stdout",
     "output_type": "stream",
     "text": [
      "\n",
      "\n",
      "TN=55889\tFP=31267\tFN=970\tTP=431\n",
      "FromLasso: C = 1.0 Kernel = poly Gamma = 1\n"
     ]
    },
    {
     "data": {
      "text/plain": [
       "-0.051110131303116146"
      ]
     },
     "metadata": {},
     "output_type": "display_data"
    },
    {
     "data": {
      "text/plain": [
       "-0.004391348110952003"
      ]
     },
     "metadata": {},
     "output_type": "display_data"
    },
    {
     "name": "stdout",
     "output_type": "stream",
     "text": [
      "\n",
      "\n",
      "TN=87150\tFP=6\tFN=1401\tTP=0\n",
      "FromForest: C = 1.0 Kernel = poly Gamma = 1\n"
     ]
    },
    {
     "data": {
      "text/plain": [
       "-6.884207627702051e-05"
      ]
     },
     "metadata": {},
     "output_type": "display_data"
    },
    {
     "data": {
      "text/plain": [
       "-0.00013494630285779138"
      ]
     },
     "metadata": {},
     "output_type": "display_data"
    },
    {
     "name": "stdout",
     "output_type": "stream",
     "text": [
      "\n",
      "\n",
      "TN=81566\tFP=5590\tFN=523\tTP=878\n",
      "F-Val: C = 1.0 Kernel = poly Gamma = 10\n"
     ]
    },
    {
     "data": {
      "text/plain": [
       "0.5625573499702176"
      ]
     },
     "metadata": {},
     "output_type": "display_data"
    },
    {
     "data": {
      "text/plain": [
       "0.20241099186502262"
      ]
     },
     "metadata": {},
     "output_type": "display_data"
    },
    {
     "name": "stdout",
     "output_type": "stream",
     "text": [
      "\n",
      "\n",
      "TN=80357\tFP=6799\tFN=1401\tTP=0\n",
      "FromLasso: C = 1.0 Kernel = poly Gamma = 10\n"
     ]
    },
    {
     "data": {
      "text/plain": [
       "-0.07800954610124375"
      ]
     },
     "metadata": {},
     "output_type": "display_data"
    },
    {
     "data": {
      "text/plain": [
       "-0.026941522722160608"
      ]
     },
     "metadata": {},
     "output_type": "display_data"
    },
    {
     "name": "stdout",
     "output_type": "stream",
     "text": [
      "\n",
      "\n",
      "TN=1478\tFP=85678\tFN=44\tTP=1357\n",
      "FromForest: C = 1.0 Kernel = poly Gamma = 10\n"
     ]
    },
    {
     "data": {
      "text/plain": [
       "-0.014448040349613556"
      ]
     },
     "metadata": {},
     "output_type": "display_data"
    },
    {
     "data": {
      "text/plain": [
       "-0.0004650087017005553"
      ]
     },
     "metadata": {},
     "output_type": "display_data"
    },
    {
     "name": "stdout",
     "output_type": "stream",
     "text": [
      "\n",
      "\n",
      "TN=83767\tFP=3389\tFN=382\tTP=1019\n",
      "F-Val: C = 0.5 Kernel = rbf Gamma = 0.5\n"
     ]
    },
    {
     "data": {
      "text/plain": [
       "0.6884533165714425"
      ]
     },
     "metadata": {},
     "output_type": "display_data"
    },
    {
     "data": {
      "text/plain": [
       "0.33486527350139506"
      ]
     },
     "metadata": {},
     "output_type": "display_data"
    },
    {
     "name": "stdout",
     "output_type": "stream",
     "text": [
      "\n",
      "\n",
      "TN=51834\tFP=35322\tFN=20\tTP=1381\n",
      "FromLasso: C = 0.5 Kernel = rbf Gamma = 0.5\n"
     ]
    },
    {
     "data": {
      "text/plain": [
       "0.5804511794696714"
      ]
     },
     "metadata": {},
     "output_type": "display_data"
    },
    {
     "data": {
      "text/plain": [
       "0.04332909965595645"
      ]
     },
     "metadata": {},
     "output_type": "display_data"
    },
    {
     "name": "stdout",
     "output_type": "stream",
     "text": [
      "\n",
      "\n",
      "TN=1416\tFP=85740\tFN=0\tTP=1401\n",
      "FromForest: C = 0.5 Kernel = rbf Gamma = 0.5\n"
     ]
    },
    {
     "data": {
      "text/plain": [
       "0.016246730001376886"
      ]
     },
     "metadata": {},
     "output_type": "display_data"
    },
    {
     "data": {
      "text/plain": [
       "0.0005222736673168203"
      ]
     },
     "metadata": {},
     "output_type": "display_data"
    },
    {
     "name": "stdout",
     "output_type": "stream",
     "text": [
      "\n",
      "\n",
      "TN=83620\tFP=3536\tFN=388\tTP=1013\n",
      "F-Val: C = 0.5 Kernel = rbf Gamma = 1\n"
     ]
    },
    {
     "data": {
      "text/plain": [
       "0.6824840304564028"
      ]
     },
     "metadata": {},
     "output_type": "display_data"
    },
    {
     "data": {
      "text/plain": [
       "0.3241552021420429"
      ]
     },
     "metadata": {},
     "output_type": "display_data"
    },
    {
     "name": "stdout",
     "output_type": "stream",
     "text": [
      "\n",
      "\n",
      "TN=24963\tFP=62193\tFN=3\tTP=1398\n",
      "FromLasso: C = 0.5 Kernel = rbf Gamma = 1\n"
     ]
    },
    {
     "data": {
      "text/plain": [
       "0.28427613072741753"
      ]
     },
     "metadata": {},
     "output_type": "display_data"
    },
    {
     "data": {
      "text/plain": [
       "0.012447458221740515"
      ]
     },
     "metadata": {},
     "output_type": "display_data"
    },
    {
     "name": "stdout",
     "output_type": "stream",
     "text": [
      "\n",
      "\n",
      "TN=0\tFP=87156\tFN=0\tTP=1401\n",
      "FromForest: C = 0.5 Kernel = rbf Gamma = 1\n"
     ]
    },
    {
     "data": {
      "text/plain": [
       "0.0"
      ]
     },
     "metadata": {},
     "output_type": "display_data"
    },
    {
     "data": {
      "text/plain": [
       "0.0"
      ]
     },
     "metadata": {},
     "output_type": "display_data"
    },
    {
     "name": "stdout",
     "output_type": "stream",
     "text": [
      "\n",
      "\n",
      "TN=82493\tFP=4663\tFN=432\tTP=969\n",
      "F-Val: C = 0.5 Kernel = rbf Gamma = 10\n"
     ]
    },
    {
     "data": {
      "text/plain": [
       "0.6381470553231828"
      ]
     },
     "metadata": {},
     "output_type": "display_data"
    },
    {
     "data": {
      "text/plain": [
       "0.2567252063670735"
      ]
     },
     "metadata": {},
     "output_type": "display_data"
    },
    {
     "name": "stdout",
     "output_type": "stream",
     "text": [
      "\n",
      "\n",
      "TN=0\tFP=87156\tFN=0\tTP=1401\n",
      "FromLasso: C = 0.5 Kernel = rbf Gamma = 10\n"
     ]
    },
    {
     "data": {
      "text/plain": [
       "0.0"
      ]
     },
     "metadata": {},
     "output_type": "display_data"
    },
    {
     "data": {
      "text/plain": [
       "0.0"
      ]
     },
     "metadata": {},
     "output_type": "display_data"
    },
    {
     "name": "stdout",
     "output_type": "stream",
     "text": [
      "\n",
      "\n",
      "TN=0\tFP=87156\tFN=0\tTP=1401\n",
      "FromForest: C = 0.5 Kernel = rbf Gamma = 10\n"
     ]
    },
    {
     "data": {
      "text/plain": [
       "0.0"
      ]
     },
     "metadata": {},
     "output_type": "display_data"
    },
    {
     "data": {
      "text/plain": [
       "0.0"
      ]
     },
     "metadata": {},
     "output_type": "display_data"
    },
    {
     "name": "stdout",
     "output_type": "stream",
     "text": [
      "\n",
      "\n",
      "TN=83721\tFP=3435\tFN=398\tTP=1003\n",
      "F-Val: C = 1.0 Kernel = rbf Gamma = 0.5\n"
     ]
    },
    {
     "data": {
      "text/plain": [
       "0.6765051133299782"
      ]
     },
     "metadata": {},
     "output_type": "display_data"
    },
    {
     "data": {
      "text/plain": [
       "0.32737615771223283"
      ]
     },
     "metadata": {},
     "output_type": "display_data"
    },
    {
     "name": "stdout",
     "output_type": "stream",
     "text": [
      "\n",
      "\n",
      "TN=60163\tFP=26993\tFN=43\tTP=1358\n",
      "FromLasso: C = 1.0 Kernel = rbf Gamma = 0.5\n"
     ]
    },
    {
     "data": {
      "text/plain": [
       "0.6595986099109199"
      ]
     },
     "metadata": {},
     "output_type": "display_data"
    },
    {
     "data": {
      "text/plain": [
       "0.06303791448243223"
      ]
     },
     "metadata": {},
     "output_type": "display_data"
    },
    {
     "name": "stdout",
     "output_type": "stream",
     "text": [
      "\n",
      "\n",
      "TN=2824\tFP=84332\tFN=0\tTP=1401\n",
      "FromForest: C = 1.0 Kernel = rbf Gamma = 0.5\n"
     ]
    },
    {
     "data": {
      "text/plain": [
       "0.0324016705677177"
      ]
     },
     "metadata": {},
     "output_type": "display_data"
    },
    {
     "data": {
      "text/plain": [
       "0.0010584189784087386"
      ]
     },
     "metadata": {},
     "output_type": "display_data"
    },
    {
     "name": "stdout",
     "output_type": "stream",
     "text": [
      "\n",
      "\n",
      "TN=83657\tFP=3499\tFN=414\tTP=987\n",
      "F-Val: C = 1.0 Kernel = rbf Gamma = 1\n"
     ]
    },
    {
     "data": {
      "text/plain": [
       "0.6643503838596828"
      ]
     },
     "metadata": {},
     "output_type": "display_data"
    },
    {
     "data": {
      "text/plain": [
       "0.3188931126898994"
      ]
     },
     "metadata": {},
     "output_type": "display_data"
    },
    {
     "name": "stdout",
     "output_type": "stream",
     "text": [
      "\n",
      "\n",
      "TN=30922\tFP=56234\tFN=16\tTP=1385\n",
      "FromLasso: C = 1.0 Kernel = rbf Gamma = 1\n"
     ]
    },
    {
     "data": {
      "text/plain": [
       "0.34336869978299756"
      ]
     },
     "metadata": {},
     "output_type": "display_data"
    },
    {
     "data": {
      "text/plain": [
       "0.016555059761558175"
      ]
     },
     "metadata": {},
     "output_type": "display_data"
    },
    {
     "name": "stdout",
     "output_type": "stream",
     "text": [
      "\n",
      "\n",
      "TN=53\tFP=87103\tFN=0\tTP=1401\n",
      "FromForest: C = 1.0 Kernel = rbf Gamma = 1\n"
     ]
    },
    {
     "data": {
      "text/plain": [
       "0.000608105007113724"
      ]
     },
     "metadata": {},
     "output_type": "display_data"
    },
    {
     "data": {
      "text/plain": [
       "1.925216744949383e-05"
      ]
     },
     "metadata": {},
     "output_type": "display_data"
    },
    {
     "name": "stdout",
     "output_type": "stream",
     "text": [
      "\n",
      "\n",
      "TN=82938\tFP=4218\tFN=457\tTP=944\n",
      "F-Val: C = 1.0 Kernel = rbf Gamma = 10\n"
     ]
    },
    {
     "data": {
      "text/plain": [
       "0.6254084457876757"
      ]
     },
     "metadata": {},
     "output_type": "display_data"
    },
    {
     "data": {
      "text/plain": [
       "0.269493700314436"
      ]
     },
     "metadata": {},
     "output_type": "display_data"
    },
    {
     "name": "stdout",
     "output_type": "stream",
     "text": [
      "\n",
      "\n",
      "TN=0\tFP=87156\tFN=0\tTP=1401\n",
      "FromLasso: C = 1.0 Kernel = rbf Gamma = 10\n"
     ]
    },
    {
     "data": {
      "text/plain": [
       "0.0"
      ]
     },
     "metadata": {},
     "output_type": "display_data"
    },
    {
     "data": {
      "text/plain": [
       "0.0"
      ]
     },
     "metadata": {},
     "output_type": "display_data"
    },
    {
     "name": "stdout",
     "output_type": "stream",
     "text": [
      "\n",
      "\n",
      "TN=0\tFP=87156\tFN=0\tTP=1401\n",
      "FromForest: C = 1.0 Kernel = rbf Gamma = 10\n"
     ]
    },
    {
     "data": {
      "text/plain": [
       "0.0"
      ]
     },
     "metadata": {},
     "output_type": "display_data"
    },
    {
     "data": {
      "text/plain": [
       "0.0"
      ]
     },
     "metadata": {},
     "output_type": "display_data"
    },
    {
     "name": "stdout",
     "output_type": "stream",
     "text": [
      "\n",
      "\n"
     ]
    }
   ],
   "source": [
    "svm_tss = []\n",
    "svm_hss = []\n",
    "\n",
    "for i in range(18):\n",
    "    for j in range(1):\n",
    "        k = j + 1\n",
    "        l = k + 1\n",
    "        svm_model = SVC(C = params[i][k], kernel = params[i][j], gamma = params[i][l], class_weight = 'balanced')\n",
    "        for a,b,c in zip(tr_idx, tt_idx, lb_idx):\n",
    "            svm_model = svm_model.fit(clust_train[a], clust_train[b])\n",
    "            #labels_from_data = [test[a].R_VALUE_median > 0.5] + [test[a].R_VALUE_median <= 0.5]\n",
    "            #zero = [0] * len(test[a])\n",
    "            #pred = test[a][test[a] > 0.5]\n",
    "            y_pred = svm_model.predict(test[a])\n",
    "            #predict_labels = y_pred + \n",
    "            model_tss = calc_tss(test[b],y_pred)\n",
    "            svm_tss.append(model_tss)\n",
    "            model_hss = calc_hss(test[b],y_pred)\n",
    "            svm_hss.append(model_hss)\n",
    "            print(selected_labels[c]+':'+' C =',params[i][k],'Kernel =',params[i][j],'Gamma =',params[i][l])\n",
    "            display(model_tss)\n",
    "            display(model_hss)\n",
    "            print('\\n')    \n",
    "    #----------------------------------------------\n",
    "    # TODO: Complete here.\n",
    "    #----------------------------------------------"
   ]
  },
  {
   "cell_type": "markdown",
   "id": "6ee068b2",
   "metadata": {},
   "source": [
    "All of these results are getting unruely, we should maybe be saving them to do analysis on them too? Maybe I'll ask you to do that for the extra credit assignment."
   ]
  }
 ],
 "metadata": {
  "kernelspec": {
   "display_name": "Python 3",
   "language": "python",
   "name": "python3"
  },
  "language_info": {
   "codemirror_mode": {
    "name": "ipython",
    "version": 3
   },
   "file_extension": ".py",
   "mimetype": "text/x-python",
   "name": "python",
   "nbconvert_exporter": "python",
   "pygments_lexer": "ipython3",
   "version": "3.8.8"
  }
 },
 "nbformat": 4,
 "nbformat_minor": 5
}
