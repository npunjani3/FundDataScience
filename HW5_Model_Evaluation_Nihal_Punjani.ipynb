{
 "cells": [
  {
   "cell_type": "markdown",
   "id": "verified-pulse",
   "metadata": {},
   "source": [
    "# Homework Assignment 5: Model Evaluation\n",
    "As in the previous assignments, in this homework assignment you will continue your exploration of the [SWAN-SF Dataset](https://doi.org/10.7910/DVN/EBCFKM), described in the paper found [here](https://doi.org/10.1038/s41597-020-0548-x).\n",
    "\n",
    "\n",
    "This assignment will utilize a copy of the extracted feature dataset we have been working with. The dataset has been processed by performing outlier clipping, z-score and range scaling, and forward feature selection to select 20 features. We are now going to utilize more than one partition worth of data, so for the z-score and range scaling, the mean, standard deviation, minimum, and maximum were calculated using data from both partitions so that a global scaling can be performed on each partition. \n",
    "\n",
    "---"
   ]
  },
  {
   "cell_type": "markdown",
   "id": "respiratory-photography",
   "metadata": {},
   "source": [
    "## Step 1: Downloading the Data\n",
    "\n",
    "This assignment will continue to only use [Partition 1](https://dataverse.harvard.edu/api/access/datafile/:persistentId?persistentId=doi:10.7910/DVN/EBCFKM/BMXYCB) and will add the use of [Partition 2](https://dataverse.harvard.edu/api/access/datafile/:persistentId?persistentId=doi:10.7910/DVN/EBCFKM/TCRPUD) as a testing set. \n",
    "\n",
    "---\n",
    "\n",
    "For this assignment, cleaning, transforming, and normalization of the data has been completed using both partitions to find the various minimum, maximum, standard deviation, and mean values needed to perform these operations. Recall from lecture that we should not perform these operations on each partition individually, but as a whole as there may(will) be different values for these in different partitions. \n",
    "\n",
    "For example, if we perform simple range scaling on each partition individually and we see a range of 0 to 100 in one partition and 0 to 10 in another. After individual scaling the values with 100 in the first would be mapped to 1 just like the values that had 10 in the second. This can cause serious performance problems in your model, so I have made sure that the normalization was treated properly for you. \n",
    "\n",
    "Below you will find the full partitions and `toy` sampled data from each partition, where only 20 samples from each of our 5 classes have been included in the data.  \n",
    "\n",
    "#### Full\n",
    "- [Full Normalized Partition 1 feature dataset](http://dmlab.cs.gsu.edu/solar/data/normalized_partition1ExtractedFeatures.csv)\n",
    "- [Full Normalized Partition 2 feature dataset](http://dmlab.cs.gsu.edu/solar/data/normalized_partition2ExtractedFeatures.csv)\n",
    "\n",
    "#### Toy\n",
    "- [Toy Normalized Partition 1 feature dataset](http://dmlab.cs.gsu.edu/solar/data/toy_normalized_partition1ExtractedFeatures.csv)\n",
    "- [Toy Normalized Partition 2 feature dataset](http://dmlab.cs.gsu.edu/solar/data/toy_normalized_partition2ExtractedFeatures.csv)\n",
    "\n",
    "Now that you have the two files, you should load each into a Pandas DataFrame using the [pandas.read_csv](https://pandas.pydata.org/pandas-docs/stable/reference/api/pandas.read_csv.html) method. \n",
    "\n",
    "---"
   ]
  },
  {
   "cell_type": "markdown",
   "id": "stuck-gather",
   "metadata": {},
   "source": [
    "### Evaluation Metric\n",
    "\n",
    "For each of the models we evaluate in this assignmnet, you will calculate the True Skill Statistic score using the test data from Partition 2 to determine which model performs the best for classifying the positive flaring class.\n",
    "\n",
    "    True skill statistic (TSS) = TPR + TNR - 1 = TPR - (1-TNR) = TPR - FPR\n",
    "\n",
    "Where:\n",
    "\n",
    "    True positive rate (TPR) = TP/(TP+FN) Also known as recall or sensitivity\n",
    "    True negative rate (TNR) = TN/(TN+FP) Also known as specificity or selectivity\n",
    "    False positive rate (FPR) = FP/(FP+TN) = (1-TNR) Also known as fall-out or false alarm ratio\n",
    "\n",
    "\n",
    "**Recall**\n",
    "\n",
    "    True positive (TP)\n",
    "    True negative (TN)\n",
    "    False positive (FP)\n",
    "    False negative (FN)\n",
    "    \n",
    "See [confusion matrix](https://en.wikipedia.org/wiki/Confusion_matrix) for more information.\n",
    "\n",
    "Below is a function implemented to provide your score for each model."
   ]
  },
  {
   "cell_type": "code",
   "execution_count": 16,
   "id": "educated-radical",
   "metadata": {},
   "outputs": [],
   "source": [
    "import os\n",
    "import itertools\n",
    "import pandas as pd\n",
    "from pandas import DataFrame \n",
    "import numpy as np\n",
    "from sklearn.metrics import confusion_matrix\n",
    "from sklearn.feature_selection import SelectKBest\n",
    "from sklearn.feature_selection import f_classif\n",
    "from sklearn.feature_selection import mutual_info_classif\n",
    "from sklearn.feature_selection import chi2\n",
    "\n",
    "from sklearn.neighbors import KNeighborsClassifier as kNN\n",
    "from sklearn.tree import DecisionTreeClassifier\n",
    "from sklearn.naive_bayes import GaussianNB"
   ]
  },
  {
   "cell_type": "code",
   "execution_count": 2,
   "id": "eastern-monaco",
   "metadata": {},
   "outputs": [],
   "source": [
    "def calc_tss(y_true=None, y_predict=None):\n",
    "    \"\"\"\n",
    "    Calculates the true skill score for binary classification based on the output of the confusion\n",
    "    table function\n",
    "    \"\"\"\n",
    "    scores = confusion_matrix(y_true, y_predict).ravel()\n",
    "    TN, FP, FN, TP = scores\n",
    "    print('TN={0}\\tFP={1}\\tFN={2}\\tTP={3}'.format(TN, FP, FN, TP))\n",
    "    tp_rate = TP / float(TP + FN) if TP > 0 else 0  \n",
    "    fp_rate = FP / float(FP + TN) if FP > 0 else 0\n",
    "    \n",
    "    return tp_rate - fp_rate"
   ]
  },
  {
   "cell_type": "markdown",
   "id": "3e1d9080",
   "metadata": {},
   "source": [
    "As in the previous assignment, we will be utilizing a binary classification of our 5 class dataset. So, below is the helper function to change our class labels from the 5 class target feature to the binary target feature. The function is implemented to take a dataframe (e.g. our `abt`) and prepares it for a binary classification by merging the `X`- and `M`-class samples into one group, and the rest (`NF`, `B`, and `C`) into another group, labeled with `1`s and `0`s, respectively."
   ]
  },
  {
   "cell_type": "code",
   "execution_count": 3,
   "id": "d974d987",
   "metadata": {},
   "outputs": [],
   "source": [
    "def dichotomize_X_y(data: pd.DataFrame):\n",
    "    \"\"\"\n",
    "    dichotomizes the dataset and split it into the features (X) and the labels (y).\n",
    "    \n",
    "    :return: two np.ndarray objects X and y.\n",
    "    \"\"\"\n",
    "    data_dich = data.copy()\n",
    "    data_dich['lab'] = data_dich['lab'].map({'NF': 0, 'B': 0, 'C': 0, 'M': 1, 'X': 1})\n",
    "    y = data_dich['lab']\n",
    "    X = data_dich.drop(['lab'], axis=1)\n",
    "    return X.values, y.values"
   ]
  },
  {
   "cell_type": "code",
   "execution_count": 4,
   "id": "stable-madonna",
   "metadata": {},
   "outputs": [],
   "source": [
    "data_dir = '/Users/npunj/Documents/Fund_Data_Science/Hw5'\n",
    "data_file = \"normalized_partition1ExtractedFeatures.csv\"\n",
    "data_file2 = \"normalized_partition2ExtractedFeatures.csv\""
   ]
  },
  {
   "cell_type": "code",
   "execution_count": 5,
   "id": "qualified-perth",
   "metadata": {},
   "outputs": [],
   "source": [
    "abt = pd.read_csv(os.path.join(data_dir, data_file))\n",
    "abt2 = pd.read_csv(os.path.join(data_dir, data_file2))"
   ]
  },
  {
   "cell_type": "markdown",
   "id": "fifty-category",
   "metadata": {},
   "source": [
    "---\n",
    "### Q1 (10 points)\n",
    "\n",
    "Just like you did with the previous assignment, you will be utilizing a few different types of feature selection to find subsets of descriptive features to use in the models we will be evaluating.  For this question you will again be utilizing the [SelectKBest](https://scikit-learn.org/stable/modules/generated/sklearn.feature_selection.SelectKBest.html#sklearn.feature_selection.SelectKBest) class from [scikit-learn Univariate Feature Selection](https://scikit-learn.org/stable/modules/feature_selection.html#univariate-feature-selection). You will then be using 3 diferent feature evaluation functions.\n",
    "\n",
    "-  [scikit-learn f_classif](https://scikit-learn.org/stable/modules/generated/sklearn.feature_selection.f_classif.html#sklearn.feature_selection.f_classif)\n",
    "\n",
    "- [scikit-learn mutual_info_classif](https://scikit-learn.org/stable/modules/generated/sklearn.feature_selection.mutual_info_classif.html#sklearn.feature_selection.mutual_info_classif)\n",
    "\n",
    "- [chi2](https://scikit-learn.org/stable/modules/generated/sklearn.feature_selection.chi2.html#sklearn.feature_selection.chi2)\n",
    "\n",
    "For each of these combinations of evaluation functions, you need to construct a 20 feature training and testing dataset. This will be done by:\n",
    "<ol>\n",
    "    <li>Use the `SelectKBest` class with each of the evaluation functions to perform feature selection using Partition 1 as your input data</li>\n",
    "    <li>Construct a new train `DataFrame` for each instance of `SelectKBest` from 1 with the `lab` class labels using Partition 1</li>\n",
    "    <li>Construct a new test `DataFrame` for each instance of `SelectKBest` from 1 with the `lab` class labels using Partition 2</li>\n",
    "</ol>\n",
    "\n",
    "After this question, you should have a total of 6 `DataFrame`s to use in later questions, a train and test pair for each feature selection method.\n",
    "\n",
    "---"
   ]
  },
  {
   "cell_type": "code",
   "execution_count": 7,
   "id": "relevant-stroke",
   "metadata": {},
   "outputs": [],
   "source": [
    "numFeat = 20\n",
    "abt_cpy = abt.copy()\n",
    "abt2_cpy = abt2.copy()"
   ]
  },
  {
   "cell_type": "code",
   "execution_count": 11,
   "id": "8eda86de",
   "metadata": {},
   "outputs": [],
   "source": [
    "# split train and test data from partition1, training set, and partition2, testing set\n",
    "X_train = abt_cpy.drop(['lab'], axis=1)\n",
    "y_train = abt_cpy['lab']\n",
    "X_test = abt2_cpy.drop(['lab'], axis=1)\n",
    "y_test = abt2_cpy['lab']\n",
    "\n",
    "#Use SelectKBest to create Dataframes for train and test models\n",
    "selector = SelectKBest(f_classif, k=numFeat)\n",
    "selector2 = SelectKBest(f_classif, k=numFeat)\n",
    "new_select = selector.fit_transform(X_train,y_train)\n",
    "new_select2 = selector2.fit_transform(X_test,y_test)\n",
    "select_feats = list(np.take((X_train.columns), np.where(selector.get_support()==True)[0]))\n",
    "select_feats2 = list(np.take((X_test.columns), np.where(selector.get_support()==True)[0]))\n",
    "temp_train_df = pd.DataFrame(new_select, columns = select_feats)\n",
    "temp_test_df = pd.DataFrame(new_select2, columns = select_feats2)\n",
    "y_db = pd.DataFrame(y_train)\n",
    "y2_db = pd.DataFrame(y_test)\n",
    "\n",
    "fclass_train1 = y_db.join(temp_train_df)\n",
    "fclass_test = y2_db.join(temp_test_df)\n",
    "\n",
    "selector = SelectKBest(mutual_info_classif, k=numFeat)\n",
    "selector2 = SelectKBest(mutual_info_classif, k=numFeat)\n",
    "new_select = selector.fit_transform(X_train,y_train)\n",
    "new_select2 = selector2.fit_transform(X_test,y_test)\n",
    "select_feats = list(np.take((X_train.columns), np.where(selector.get_support()==True)[0]))\n",
    "select_feats2 = list(np.take((X_test.columns), np.where(selector.get_support()==True)[0]))\n",
    "temp_train_df = pd.DataFrame(new_select, columns = select_feats)\n",
    "temp_test_df = pd.DataFrame(new_select2, columns = select_feats2)\n",
    "y_db = pd.DataFrame(y_train)\n",
    "y2_db = pd.DataFrame(y_test)\n",
    "\n",
    "mutaul_info_train = y_db.join(temp_train_df)\n",
    "mutaul_info_test = y2_db.join(temp_test_df)\n",
    "\n",
    "selector = SelectKBest(chi2, k=numFeat)\n",
    "selector2 = SelectKBest(chi2, k=numFeat)\n",
    "new_select = selector.fit_transform(X_train,y_train)\n",
    "new_select2 = selector2.fit_transform(X_test,y_test)\n",
    "select_feats = list(np.take((X_train.columns), np.where(selector.get_support()==True)[0]))\n",
    "select_feats2 = list(np.take((X_test.columns), np.where(selector.get_support()==True)[0]))\n",
    "temp_train_df = pd.DataFrame(new_select, columns = select_feats)\n",
    "temp_test_df = pd.DataFrame(new_select2, columns = select_feats2)\n",
    "y_db = pd.DataFrame(y_train)\n",
    "y2_db = pd.DataFrame(y_test)\n",
    "\n",
    "chi_train = y_db.join(temp_train_df)\n",
    "chi_test = y2_db.join(temp_test_df)\n",
    "\n",
    "    #----------------------------------------------\n",
    "    # TODO: Complete here.\n",
    "    #----------------------------------------------"
   ]
  },
  {
   "cell_type": "code",
   "execution_count": 12,
   "id": "6f19f9f8",
   "metadata": {},
   "outputs": [
    {
     "data": {
      "text/html": [
       "<div>\n",
       "<style scoped>\n",
       "    .dataframe tbody tr th:only-of-type {\n",
       "        vertical-align: middle;\n",
       "    }\n",
       "\n",
       "    .dataframe tbody tr th {\n",
       "        vertical-align: top;\n",
       "    }\n",
       "\n",
       "    .dataframe thead th {\n",
       "        text-align: right;\n",
       "    }\n",
       "</style>\n",
       "<table border=\"1\" class=\"dataframe\">\n",
       "  <thead>\n",
       "    <tr style=\"text-align: right;\">\n",
       "      <th></th>\n",
       "      <th>lab</th>\n",
       "      <th>TOTUSJH_min</th>\n",
       "      <th>TOTUSJH_max</th>\n",
       "      <th>TOTUSJH_median</th>\n",
       "      <th>TOTUSJH_mean</th>\n",
       "      <th>TOTUSJH_linear_weighted_average</th>\n",
       "      <th>TOTUSJH_quadratic_weighted_average</th>\n",
       "      <th>TOTUSJH_last_value</th>\n",
       "      <th>ABSNJZH_max</th>\n",
       "      <th>ABSNJZH_stddev</th>\n",
       "      <th>...</th>\n",
       "      <th>ABSNJZH_gderivative_stddev</th>\n",
       "      <th>ABSNJZH_average_absolute_change</th>\n",
       "      <th>ABSNJZH_average_absolute_derivative_change</th>\n",
       "      <th>ABSNJZH_avg_mono_increase_slope</th>\n",
       "      <th>SAVNCPP_avg_mono_decrease_slope</th>\n",
       "      <th>SAVNCPP_avg_mono_increase_slope</th>\n",
       "      <th>SAVNCPP_dderivative_stddev</th>\n",
       "      <th>SAVNCPP_average_absolute_change</th>\n",
       "      <th>SAVNCPP_gderivative_stddev</th>\n",
       "      <th>SAVNCPP_average_absolute_derivative_change</th>\n",
       "    </tr>\n",
       "  </thead>\n",
       "  <tbody>\n",
       "    <tr>\n",
       "      <th>0</th>\n",
       "      <td>NF</td>\n",
       "      <td>0.238758</td>\n",
       "      <td>0.275990</td>\n",
       "      <td>0.244674</td>\n",
       "      <td>0.249912</td>\n",
       "      <td>0.249364</td>\n",
       "      <td>0.250146</td>\n",
       "      <td>0.271143</td>\n",
       "      <td>0.129462</td>\n",
       "      <td>0.166475</td>\n",
       "      <td>...</td>\n",
       "      <td>0.166540</td>\n",
       "      <td>0.146038</td>\n",
       "      <td>0.138859</td>\n",
       "      <td>0.147190</td>\n",
       "      <td>0.917760</td>\n",
       "      <td>0.071006</td>\n",
       "      <td>0.080273</td>\n",
       "      <td>0.076320</td>\n",
       "      <td>0.111590</td>\n",
       "      <td>0.065199</td>\n",
       "    </tr>\n",
       "    <tr>\n",
       "      <th>1</th>\n",
       "      <td>NF</td>\n",
       "      <td>0.106759</td>\n",
       "      <td>0.123894</td>\n",
       "      <td>0.114227</td>\n",
       "      <td>0.114189</td>\n",
       "      <td>0.111154</td>\n",
       "      <td>0.109375</td>\n",
       "      <td>0.108247</td>\n",
       "      <td>0.081670</td>\n",
       "      <td>0.122735</td>\n",
       "      <td>...</td>\n",
       "      <td>0.108461</td>\n",
       "      <td>0.096518</td>\n",
       "      <td>0.091213</td>\n",
       "      <td>0.101681</td>\n",
       "      <td>0.973846</td>\n",
       "      <td>0.023172</td>\n",
       "      <td>0.025106</td>\n",
       "      <td>0.025291</td>\n",
       "      <td>0.031024</td>\n",
       "      <td>0.022525</td>\n",
       "    </tr>\n",
       "    <tr>\n",
       "      <th>2</th>\n",
       "      <td>NF</td>\n",
       "      <td>0.116361</td>\n",
       "      <td>0.141522</td>\n",
       "      <td>0.126501</td>\n",
       "      <td>0.128604</td>\n",
       "      <td>0.125150</td>\n",
       "      <td>0.123883</td>\n",
       "      <td>0.120471</td>\n",
       "      <td>0.092963</td>\n",
       "      <td>0.105429</td>\n",
       "      <td>...</td>\n",
       "      <td>0.118634</td>\n",
       "      <td>0.111193</td>\n",
       "      <td>0.106288</td>\n",
       "      <td>0.108718</td>\n",
       "      <td>0.966885</td>\n",
       "      <td>0.029407</td>\n",
       "      <td>0.029272</td>\n",
       "      <td>0.028676</td>\n",
       "      <td>0.035628</td>\n",
       "      <td>0.023937</td>\n",
       "    </tr>\n",
       "    <tr>\n",
       "      <th>3</th>\n",
       "      <td>NF</td>\n",
       "      <td>0.315587</td>\n",
       "      <td>0.328616</td>\n",
       "      <td>0.322563</td>\n",
       "      <td>0.321839</td>\n",
       "      <td>0.322904</td>\n",
       "      <td>0.322843</td>\n",
       "      <td>0.320618</td>\n",
       "      <td>0.170967</td>\n",
       "      <td>0.183616</td>\n",
       "      <td>...</td>\n",
       "      <td>0.167205</td>\n",
       "      <td>0.146319</td>\n",
       "      <td>0.132143</td>\n",
       "      <td>0.147689</td>\n",
       "      <td>0.940147</td>\n",
       "      <td>0.056448</td>\n",
       "      <td>0.060894</td>\n",
       "      <td>0.061220</td>\n",
       "      <td>0.073133</td>\n",
       "      <td>0.054571</td>\n",
       "    </tr>\n",
       "    <tr>\n",
       "      <th>4</th>\n",
       "      <td>NF</td>\n",
       "      <td>0.125745</td>\n",
       "      <td>0.140699</td>\n",
       "      <td>0.134145</td>\n",
       "      <td>0.134307</td>\n",
       "      <td>0.133530</td>\n",
       "      <td>0.132812</td>\n",
       "      <td>0.124584</td>\n",
       "      <td>0.117000</td>\n",
       "      <td>0.103106</td>\n",
       "      <td>...</td>\n",
       "      <td>0.115037</td>\n",
       "      <td>0.109309</td>\n",
       "      <td>0.104402</td>\n",
       "      <td>0.104563</td>\n",
       "      <td>0.966184</td>\n",
       "      <td>0.029922</td>\n",
       "      <td>0.032664</td>\n",
       "      <td>0.034008</td>\n",
       "      <td>0.034723</td>\n",
       "      <td>0.031312</td>\n",
       "    </tr>\n",
       "    <tr>\n",
       "      <th>...</th>\n",
       "      <td>...</td>\n",
       "      <td>...</td>\n",
       "      <td>...</td>\n",
       "      <td>...</td>\n",
       "      <td>...</td>\n",
       "      <td>...</td>\n",
       "      <td>...</td>\n",
       "      <td>...</td>\n",
       "      <td>...</td>\n",
       "      <td>...</td>\n",
       "      <td>...</td>\n",
       "      <td>...</td>\n",
       "      <td>...</td>\n",
       "      <td>...</td>\n",
       "      <td>...</td>\n",
       "      <td>...</td>\n",
       "      <td>...</td>\n",
       "      <td>...</td>\n",
       "      <td>...</td>\n",
       "      <td>...</td>\n",
       "      <td>...</td>\n",
       "    </tr>\n",
       "    <tr>\n",
       "      <th>73487</th>\n",
       "      <td>NF</td>\n",
       "      <td>0.038092</td>\n",
       "      <td>0.066916</td>\n",
       "      <td>0.057023</td>\n",
       "      <td>0.056257</td>\n",
       "      <td>0.053632</td>\n",
       "      <td>0.052391</td>\n",
       "      <td>0.047050</td>\n",
       "      <td>0.041284</td>\n",
       "      <td>0.057351</td>\n",
       "      <td>...</td>\n",
       "      <td>0.070496</td>\n",
       "      <td>0.065722</td>\n",
       "      <td>0.063366</td>\n",
       "      <td>0.068696</td>\n",
       "      <td>0.985687</td>\n",
       "      <td>0.014996</td>\n",
       "      <td>0.013708</td>\n",
       "      <td>0.012735</td>\n",
       "      <td>0.013920</td>\n",
       "      <td>0.011287</td>\n",
       "    </tr>\n",
       "    <tr>\n",
       "      <th>73488</th>\n",
       "      <td>NF</td>\n",
       "      <td>0.086322</td>\n",
       "      <td>0.134423</td>\n",
       "      <td>0.123106</td>\n",
       "      <td>0.120311</td>\n",
       "      <td>0.122114</td>\n",
       "      <td>0.121065</td>\n",
       "      <td>0.113201</td>\n",
       "      <td>0.105800</td>\n",
       "      <td>0.136841</td>\n",
       "      <td>...</td>\n",
       "      <td>0.133634</td>\n",
       "      <td>0.124009</td>\n",
       "      <td>0.118593</td>\n",
       "      <td>0.122110</td>\n",
       "      <td>0.962417</td>\n",
       "      <td>0.031565</td>\n",
       "      <td>0.032351</td>\n",
       "      <td>0.031525</td>\n",
       "      <td>0.036066</td>\n",
       "      <td>0.028234</td>\n",
       "    </tr>\n",
       "    <tr>\n",
       "      <th>73489</th>\n",
       "      <td>C</td>\n",
       "      <td>0.409456</td>\n",
       "      <td>0.429922</td>\n",
       "      <td>0.416225</td>\n",
       "      <td>0.417221</td>\n",
       "      <td>0.415499</td>\n",
       "      <td>0.414165</td>\n",
       "      <td>0.416328</td>\n",
       "      <td>0.165755</td>\n",
       "      <td>0.214363</td>\n",
       "      <td>...</td>\n",
       "      <td>0.219139</td>\n",
       "      <td>0.197064</td>\n",
       "      <td>0.182976</td>\n",
       "      <td>0.195310</td>\n",
       "      <td>0.909242</td>\n",
       "      <td>0.103355</td>\n",
       "      <td>0.111763</td>\n",
       "      <td>0.111319</td>\n",
       "      <td>0.117084</td>\n",
       "      <td>0.109788</td>\n",
       "    </tr>\n",
       "    <tr>\n",
       "      <th>73490</th>\n",
       "      <td>B</td>\n",
       "      <td>0.370843</td>\n",
       "      <td>0.395401</td>\n",
       "      <td>0.379373</td>\n",
       "      <td>0.382027</td>\n",
       "      <td>0.377390</td>\n",
       "      <td>0.374104</td>\n",
       "      <td>0.366209</td>\n",
       "      <td>0.142870</td>\n",
       "      <td>0.184096</td>\n",
       "      <td>...</td>\n",
       "      <td>0.205729</td>\n",
       "      <td>0.192532</td>\n",
       "      <td>0.185899</td>\n",
       "      <td>0.204119</td>\n",
       "      <td>0.881328</td>\n",
       "      <td>0.107276</td>\n",
       "      <td>0.104509</td>\n",
       "      <td>0.108241</td>\n",
       "      <td>0.111436</td>\n",
       "      <td>0.095988</td>\n",
       "    </tr>\n",
       "    <tr>\n",
       "      <th>73491</th>\n",
       "      <td>NF</td>\n",
       "      <td>0.027039</td>\n",
       "      <td>0.041070</td>\n",
       "      <td>0.032461</td>\n",
       "      <td>0.032777</td>\n",
       "      <td>0.033316</td>\n",
       "      <td>0.033653</td>\n",
       "      <td>0.033708</td>\n",
       "      <td>0.034412</td>\n",
       "      <td>0.044799</td>\n",
       "      <td>...</td>\n",
       "      <td>0.060583</td>\n",
       "      <td>0.058349</td>\n",
       "      <td>0.054879</td>\n",
       "      <td>0.056536</td>\n",
       "      <td>0.990638</td>\n",
       "      <td>0.009608</td>\n",
       "      <td>0.009792</td>\n",
       "      <td>0.010315</td>\n",
       "      <td>0.011085</td>\n",
       "      <td>0.009183</td>\n",
       "    </tr>\n",
       "  </tbody>\n",
       "</table>\n",
       "<p>73492 rows × 21 columns</p>\n",
       "</div>"
      ],
      "text/plain": [
       "      lab  TOTUSJH_min  TOTUSJH_max  TOTUSJH_median  TOTUSJH_mean  \\\n",
       "0      NF     0.238758     0.275990        0.244674      0.249912   \n",
       "1      NF     0.106759     0.123894        0.114227      0.114189   \n",
       "2      NF     0.116361     0.141522        0.126501      0.128604   \n",
       "3      NF     0.315587     0.328616        0.322563      0.321839   \n",
       "4      NF     0.125745     0.140699        0.134145      0.134307   \n",
       "...    ..          ...          ...             ...           ...   \n",
       "73487  NF     0.038092     0.066916        0.057023      0.056257   \n",
       "73488  NF     0.086322     0.134423        0.123106      0.120311   \n",
       "73489   C     0.409456     0.429922        0.416225      0.417221   \n",
       "73490   B     0.370843     0.395401        0.379373      0.382027   \n",
       "73491  NF     0.027039     0.041070        0.032461      0.032777   \n",
       "\n",
       "       TOTUSJH_linear_weighted_average  TOTUSJH_quadratic_weighted_average  \\\n",
       "0                             0.249364                            0.250146   \n",
       "1                             0.111154                            0.109375   \n",
       "2                             0.125150                            0.123883   \n",
       "3                             0.322904                            0.322843   \n",
       "4                             0.133530                            0.132812   \n",
       "...                                ...                                 ...   \n",
       "73487                         0.053632                            0.052391   \n",
       "73488                         0.122114                            0.121065   \n",
       "73489                         0.415499                            0.414165   \n",
       "73490                         0.377390                            0.374104   \n",
       "73491                         0.033316                            0.033653   \n",
       "\n",
       "       TOTUSJH_last_value  ABSNJZH_max  ABSNJZH_stddev  ...  \\\n",
       "0                0.271143     0.129462        0.166475  ...   \n",
       "1                0.108247     0.081670        0.122735  ...   \n",
       "2                0.120471     0.092963        0.105429  ...   \n",
       "3                0.320618     0.170967        0.183616  ...   \n",
       "4                0.124584     0.117000        0.103106  ...   \n",
       "...                   ...          ...             ...  ...   \n",
       "73487            0.047050     0.041284        0.057351  ...   \n",
       "73488            0.113201     0.105800        0.136841  ...   \n",
       "73489            0.416328     0.165755        0.214363  ...   \n",
       "73490            0.366209     0.142870        0.184096  ...   \n",
       "73491            0.033708     0.034412        0.044799  ...   \n",
       "\n",
       "       ABSNJZH_gderivative_stddev  ABSNJZH_average_absolute_change  \\\n",
       "0                        0.166540                         0.146038   \n",
       "1                        0.108461                         0.096518   \n",
       "2                        0.118634                         0.111193   \n",
       "3                        0.167205                         0.146319   \n",
       "4                        0.115037                         0.109309   \n",
       "...                           ...                              ...   \n",
       "73487                    0.070496                         0.065722   \n",
       "73488                    0.133634                         0.124009   \n",
       "73489                    0.219139                         0.197064   \n",
       "73490                    0.205729                         0.192532   \n",
       "73491                    0.060583                         0.058349   \n",
       "\n",
       "       ABSNJZH_average_absolute_derivative_change  \\\n",
       "0                                        0.138859   \n",
       "1                                        0.091213   \n",
       "2                                        0.106288   \n",
       "3                                        0.132143   \n",
       "4                                        0.104402   \n",
       "...                                           ...   \n",
       "73487                                    0.063366   \n",
       "73488                                    0.118593   \n",
       "73489                                    0.182976   \n",
       "73490                                    0.185899   \n",
       "73491                                    0.054879   \n",
       "\n",
       "       ABSNJZH_avg_mono_increase_slope  SAVNCPP_avg_mono_decrease_slope  \\\n",
       "0                             0.147190                         0.917760   \n",
       "1                             0.101681                         0.973846   \n",
       "2                             0.108718                         0.966885   \n",
       "3                             0.147689                         0.940147   \n",
       "4                             0.104563                         0.966184   \n",
       "...                                ...                              ...   \n",
       "73487                         0.068696                         0.985687   \n",
       "73488                         0.122110                         0.962417   \n",
       "73489                         0.195310                         0.909242   \n",
       "73490                         0.204119                         0.881328   \n",
       "73491                         0.056536                         0.990638   \n",
       "\n",
       "       SAVNCPP_avg_mono_increase_slope  SAVNCPP_dderivative_stddev  \\\n",
       "0                             0.071006                    0.080273   \n",
       "1                             0.023172                    0.025106   \n",
       "2                             0.029407                    0.029272   \n",
       "3                             0.056448                    0.060894   \n",
       "4                             0.029922                    0.032664   \n",
       "...                                ...                         ...   \n",
       "73487                         0.014996                    0.013708   \n",
       "73488                         0.031565                    0.032351   \n",
       "73489                         0.103355                    0.111763   \n",
       "73490                         0.107276                    0.104509   \n",
       "73491                         0.009608                    0.009792   \n",
       "\n",
       "       SAVNCPP_average_absolute_change  SAVNCPP_gderivative_stddev  \\\n",
       "0                             0.076320                    0.111590   \n",
       "1                             0.025291                    0.031024   \n",
       "2                             0.028676                    0.035628   \n",
       "3                             0.061220                    0.073133   \n",
       "4                             0.034008                    0.034723   \n",
       "...                                ...                         ...   \n",
       "73487                         0.012735                    0.013920   \n",
       "73488                         0.031525                    0.036066   \n",
       "73489                         0.111319                    0.117084   \n",
       "73490                         0.108241                    0.111436   \n",
       "73491                         0.010315                    0.011085   \n",
       "\n",
       "       SAVNCPP_average_absolute_derivative_change  \n",
       "0                                        0.065199  \n",
       "1                                        0.022525  \n",
       "2                                        0.023937  \n",
       "3                                        0.054571  \n",
       "4                                        0.031312  \n",
       "...                                           ...  \n",
       "73487                                    0.011287  \n",
       "73488                                    0.028234  \n",
       "73489                                    0.109788  \n",
       "73490                                    0.095988  \n",
       "73491                                    0.009183  \n",
       "\n",
       "[73492 rows x 21 columns]"
      ]
     },
     "metadata": {},
     "output_type": "display_data"
    },
    {
     "data": {
      "text/html": [
       "<div>\n",
       "<style scoped>\n",
       "    .dataframe tbody tr th:only-of-type {\n",
       "        vertical-align: middle;\n",
       "    }\n",
       "\n",
       "    .dataframe tbody tr th {\n",
       "        vertical-align: top;\n",
       "    }\n",
       "\n",
       "    .dataframe thead th {\n",
       "        text-align: right;\n",
       "    }\n",
       "</style>\n",
       "<table border=\"1\" class=\"dataframe\">\n",
       "  <thead>\n",
       "    <tr style=\"text-align: right;\">\n",
       "      <th></th>\n",
       "      <th>lab</th>\n",
       "      <th>TOTUSJH_min</th>\n",
       "      <th>TOTUSJH_max</th>\n",
       "      <th>TOTUSJH_median</th>\n",
       "      <th>TOTUSJH_mean</th>\n",
       "      <th>TOTUSJH_linear_weighted_average</th>\n",
       "      <th>TOTUSJH_quadratic_weighted_average</th>\n",
       "      <th>TOTUSJH_last_value</th>\n",
       "      <th>ABSNJZH_max</th>\n",
       "      <th>ABSNJZH_stddev</th>\n",
       "      <th>...</th>\n",
       "      <th>ABSNJZH_gderivative_stddev</th>\n",
       "      <th>ABSNJZH_average_absolute_change</th>\n",
       "      <th>ABSNJZH_average_absolute_derivative_change</th>\n",
       "      <th>ABSNJZH_avg_mono_increase_slope</th>\n",
       "      <th>SAVNCPP_avg_mono_decrease_slope</th>\n",
       "      <th>SAVNCPP_avg_mono_increase_slope</th>\n",
       "      <th>SAVNCPP_dderivative_stddev</th>\n",
       "      <th>SAVNCPP_average_absolute_change</th>\n",
       "      <th>SAVNCPP_gderivative_stddev</th>\n",
       "      <th>SAVNCPP_average_absolute_derivative_change</th>\n",
       "    </tr>\n",
       "  </thead>\n",
       "  <tbody>\n",
       "    <tr>\n",
       "      <th>0</th>\n",
       "      <td>NF</td>\n",
       "      <td>0.248654</td>\n",
       "      <td>0.264179</td>\n",
       "      <td>0.257628</td>\n",
       "      <td>0.257166</td>\n",
       "      <td>0.257336</td>\n",
       "      <td>0.255972</td>\n",
       "      <td>0.253303</td>\n",
       "      <td>0.246850</td>\n",
       "      <td>0.221667</td>\n",
       "      <td>...</td>\n",
       "      <td>0.219492</td>\n",
       "      <td>0.157880</td>\n",
       "      <td>0.175954</td>\n",
       "      <td>0.907985</td>\n",
       "      <td>0.099690</td>\n",
       "      <td>0.100066</td>\n",
       "      <td>0.102358</td>\n",
       "      <td>0.085923</td>\n",
       "      <td>0.087059</td>\n",
       "      <td>0.098160</td>\n",
       "    </tr>\n",
       "    <tr>\n",
       "      <th>1</th>\n",
       "      <td>NF</td>\n",
       "      <td>0.148949</td>\n",
       "      <td>0.161652</td>\n",
       "      <td>0.154316</td>\n",
       "      <td>0.154432</td>\n",
       "      <td>0.154392</td>\n",
       "      <td>0.154432</td>\n",
       "      <td>0.152454</td>\n",
       "      <td>0.080530</td>\n",
       "      <td>0.113363</td>\n",
       "      <td>...</td>\n",
       "      <td>0.051378</td>\n",
       "      <td>0.117204</td>\n",
       "      <td>0.121236</td>\n",
       "      <td>0.966180</td>\n",
       "      <td>0.031892</td>\n",
       "      <td>0.034760</td>\n",
       "      <td>0.034980</td>\n",
       "      <td>0.036871</td>\n",
       "      <td>0.026473</td>\n",
       "      <td>0.032019</td>\n",
       "    </tr>\n",
       "    <tr>\n",
       "      <th>2</th>\n",
       "      <td>NF</td>\n",
       "      <td>0.161101</td>\n",
       "      <td>0.174518</td>\n",
       "      <td>0.164688</td>\n",
       "      <td>0.165918</td>\n",
       "      <td>0.166817</td>\n",
       "      <td>0.167077</td>\n",
       "      <td>0.163801</td>\n",
       "      <td>0.134300</td>\n",
       "      <td>0.158542</td>\n",
       "      <td>...</td>\n",
       "      <td>0.104512</td>\n",
       "      <td>0.159358</td>\n",
       "      <td>0.163217</td>\n",
       "      <td>0.948398</td>\n",
       "      <td>0.049728</td>\n",
       "      <td>0.051331</td>\n",
       "      <td>0.052093</td>\n",
       "      <td>0.062940</td>\n",
       "      <td>0.057651</td>\n",
       "      <td>0.045289</td>\n",
       "    </tr>\n",
       "    <tr>\n",
       "      <th>3</th>\n",
       "      <td>NF</td>\n",
       "      <td>0.263200</td>\n",
       "      <td>0.292981</td>\n",
       "      <td>0.279195</td>\n",
       "      <td>0.278289</td>\n",
       "      <td>0.273310</td>\n",
       "      <td>0.270127</td>\n",
       "      <td>0.260010</td>\n",
       "      <td>0.141124</td>\n",
       "      <td>0.188205</td>\n",
       "      <td>...</td>\n",
       "      <td>0.123901</td>\n",
       "      <td>0.139561</td>\n",
       "      <td>0.138083</td>\n",
       "      <td>0.943507</td>\n",
       "      <td>0.059199</td>\n",
       "      <td>0.058710</td>\n",
       "      <td>0.059671</td>\n",
       "      <td>0.075896</td>\n",
       "      <td>0.070554</td>\n",
       "      <td>0.051173</td>\n",
       "    </tr>\n",
       "    <tr>\n",
       "      <th>4</th>\n",
       "      <td>NF</td>\n",
       "      <td>0.091531</td>\n",
       "      <td>0.104345</td>\n",
       "      <td>0.097824</td>\n",
       "      <td>0.098008</td>\n",
       "      <td>0.098146</td>\n",
       "      <td>0.097687</td>\n",
       "      <td>0.094275</td>\n",
       "      <td>0.063610</td>\n",
       "      <td>0.086037</td>\n",
       "      <td>...</td>\n",
       "      <td>0.035699</td>\n",
       "      <td>0.090478</td>\n",
       "      <td>0.089760</td>\n",
       "      <td>0.975876</td>\n",
       "      <td>0.022294</td>\n",
       "      <td>0.025694</td>\n",
       "      <td>0.025180</td>\n",
       "      <td>0.028386</td>\n",
       "      <td>0.017667</td>\n",
       "      <td>0.023367</td>\n",
       "    </tr>\n",
       "    <tr>\n",
       "      <th>...</th>\n",
       "      <td>...</td>\n",
       "      <td>...</td>\n",
       "      <td>...</td>\n",
       "      <td>...</td>\n",
       "      <td>...</td>\n",
       "      <td>...</td>\n",
       "      <td>...</td>\n",
       "      <td>...</td>\n",
       "      <td>...</td>\n",
       "      <td>...</td>\n",
       "      <td>...</td>\n",
       "      <td>...</td>\n",
       "      <td>...</td>\n",
       "      <td>...</td>\n",
       "      <td>...</td>\n",
       "      <td>...</td>\n",
       "      <td>...</td>\n",
       "      <td>...</td>\n",
       "      <td>...</td>\n",
       "      <td>...</td>\n",
       "      <td>...</td>\n",
       "    </tr>\n",
       "    <tr>\n",
       "      <th>88552</th>\n",
       "      <td>NF</td>\n",
       "      <td>0.181140</td>\n",
       "      <td>0.205758</td>\n",
       "      <td>0.190417</td>\n",
       "      <td>0.192371</td>\n",
       "      <td>0.188244</td>\n",
       "      <td>0.185497</td>\n",
       "      <td>0.180158</td>\n",
       "      <td>0.108809</td>\n",
       "      <td>0.137283</td>\n",
       "      <td>...</td>\n",
       "      <td>0.062360</td>\n",
       "      <td>0.140601</td>\n",
       "      <td>0.138010</td>\n",
       "      <td>0.939266</td>\n",
       "      <td>0.057497</td>\n",
       "      <td>0.065002</td>\n",
       "      <td>0.062841</td>\n",
       "      <td>0.056108</td>\n",
       "      <td>0.080029</td>\n",
       "      <td>0.061766</td>\n",
       "    </tr>\n",
       "    <tr>\n",
       "      <th>88553</th>\n",
       "      <td>NF</td>\n",
       "      <td>0.049787</td>\n",
       "      <td>0.058479</td>\n",
       "      <td>0.054282</td>\n",
       "      <td>0.054346</td>\n",
       "      <td>0.054770</td>\n",
       "      <td>0.055035</td>\n",
       "      <td>0.057382</td>\n",
       "      <td>0.048622</td>\n",
       "      <td>0.058834</td>\n",
       "      <td>...</td>\n",
       "      <td>0.024737</td>\n",
       "      <td>0.071568</td>\n",
       "      <td>0.073404</td>\n",
       "      <td>0.986529</td>\n",
       "      <td>0.014260</td>\n",
       "      <td>0.014678</td>\n",
       "      <td>0.013554</td>\n",
       "      <td>0.018163</td>\n",
       "      <td>0.009257</td>\n",
       "      <td>0.012104</td>\n",
       "    </tr>\n",
       "    <tr>\n",
       "      <th>88554</th>\n",
       "      <td>NF</td>\n",
       "      <td>0.047382</td>\n",
       "      <td>0.062495</td>\n",
       "      <td>0.054054</td>\n",
       "      <td>0.054722</td>\n",
       "      <td>0.054027</td>\n",
       "      <td>0.053349</td>\n",
       "      <td>0.053345</td>\n",
       "      <td>0.045427</td>\n",
       "      <td>0.061008</td>\n",
       "      <td>...</td>\n",
       "      <td>0.025985</td>\n",
       "      <td>0.078785</td>\n",
       "      <td>0.079521</td>\n",
       "      <td>0.987869</td>\n",
       "      <td>0.012566</td>\n",
       "      <td>0.012885</td>\n",
       "      <td>0.013014</td>\n",
       "      <td>0.015375</td>\n",
       "      <td>0.013978</td>\n",
       "      <td>0.011461</td>\n",
       "    </tr>\n",
       "    <tr>\n",
       "      <th>88555</th>\n",
       "      <td>NF</td>\n",
       "      <td>0.094972</td>\n",
       "      <td>0.115870</td>\n",
       "      <td>0.106425</td>\n",
       "      <td>0.106316</td>\n",
       "      <td>0.108176</td>\n",
       "      <td>0.107972</td>\n",
       "      <td>0.105768</td>\n",
       "      <td>0.101883</td>\n",
       "      <td>0.121610</td>\n",
       "      <td>...</td>\n",
       "      <td>0.072735</td>\n",
       "      <td>0.094667</td>\n",
       "      <td>0.097608</td>\n",
       "      <td>0.973282</td>\n",
       "      <td>0.022278</td>\n",
       "      <td>0.027569</td>\n",
       "      <td>0.024832</td>\n",
       "      <td>0.028041</td>\n",
       "      <td>0.030783</td>\n",
       "      <td>0.023464</td>\n",
       "    </tr>\n",
       "    <tr>\n",
       "      <th>88556</th>\n",
       "      <td>B</td>\n",
       "      <td>0.344644</td>\n",
       "      <td>0.365650</td>\n",
       "      <td>0.356484</td>\n",
       "      <td>0.356761</td>\n",
       "      <td>0.359311</td>\n",
       "      <td>0.359726</td>\n",
       "      <td>0.366120</td>\n",
       "      <td>0.166042</td>\n",
       "      <td>0.255197</td>\n",
       "      <td>...</td>\n",
       "      <td>0.124616</td>\n",
       "      <td>0.174548</td>\n",
       "      <td>0.184904</td>\n",
       "      <td>0.910494</td>\n",
       "      <td>0.093319</td>\n",
       "      <td>0.093930</td>\n",
       "      <td>0.089917</td>\n",
       "      <td>0.095506</td>\n",
       "      <td>0.066566</td>\n",
       "      <td>0.083846</td>\n",
       "    </tr>\n",
       "  </tbody>\n",
       "</table>\n",
       "<p>88557 rows × 21 columns</p>\n",
       "</div>"
      ],
      "text/plain": [
       "      lab  TOTUSJH_min  TOTUSJH_max  TOTUSJH_median  TOTUSJH_mean  \\\n",
       "0      NF     0.248654     0.264179        0.257628      0.257166   \n",
       "1      NF     0.148949     0.161652        0.154316      0.154432   \n",
       "2      NF     0.161101     0.174518        0.164688      0.165918   \n",
       "3      NF     0.263200     0.292981        0.279195      0.278289   \n",
       "4      NF     0.091531     0.104345        0.097824      0.098008   \n",
       "...    ..          ...          ...             ...           ...   \n",
       "88552  NF     0.181140     0.205758        0.190417      0.192371   \n",
       "88553  NF     0.049787     0.058479        0.054282      0.054346   \n",
       "88554  NF     0.047382     0.062495        0.054054      0.054722   \n",
       "88555  NF     0.094972     0.115870        0.106425      0.106316   \n",
       "88556   B     0.344644     0.365650        0.356484      0.356761   \n",
       "\n",
       "       TOTUSJH_linear_weighted_average  TOTUSJH_quadratic_weighted_average  \\\n",
       "0                             0.257336                            0.255972   \n",
       "1                             0.154392                            0.154432   \n",
       "2                             0.166817                            0.167077   \n",
       "3                             0.273310                            0.270127   \n",
       "4                             0.098146                            0.097687   \n",
       "...                                ...                                 ...   \n",
       "88552                         0.188244                            0.185497   \n",
       "88553                         0.054770                            0.055035   \n",
       "88554                         0.054027                            0.053349   \n",
       "88555                         0.108176                            0.107972   \n",
       "88556                         0.359311                            0.359726   \n",
       "\n",
       "       TOTUSJH_last_value  ABSNJZH_max  ABSNJZH_stddev  ...  \\\n",
       "0                0.253303     0.246850        0.221667  ...   \n",
       "1                0.152454     0.080530        0.113363  ...   \n",
       "2                0.163801     0.134300        0.158542  ...   \n",
       "3                0.260010     0.141124        0.188205  ...   \n",
       "4                0.094275     0.063610        0.086037  ...   \n",
       "...                   ...          ...             ...  ...   \n",
       "88552            0.180158     0.108809        0.137283  ...   \n",
       "88553            0.057382     0.048622        0.058834  ...   \n",
       "88554            0.053345     0.045427        0.061008  ...   \n",
       "88555            0.105768     0.101883        0.121610  ...   \n",
       "88556            0.366120     0.166042        0.255197  ...   \n",
       "\n",
       "       ABSNJZH_gderivative_stddev  ABSNJZH_average_absolute_change  \\\n",
       "0                        0.219492                         0.157880   \n",
       "1                        0.051378                         0.117204   \n",
       "2                        0.104512                         0.159358   \n",
       "3                        0.123901                         0.139561   \n",
       "4                        0.035699                         0.090478   \n",
       "...                           ...                              ...   \n",
       "88552                    0.062360                         0.140601   \n",
       "88553                    0.024737                         0.071568   \n",
       "88554                    0.025985                         0.078785   \n",
       "88555                    0.072735                         0.094667   \n",
       "88556                    0.124616                         0.174548   \n",
       "\n",
       "       ABSNJZH_average_absolute_derivative_change  \\\n",
       "0                                        0.175954   \n",
       "1                                        0.121236   \n",
       "2                                        0.163217   \n",
       "3                                        0.138083   \n",
       "4                                        0.089760   \n",
       "...                                           ...   \n",
       "88552                                    0.138010   \n",
       "88553                                    0.073404   \n",
       "88554                                    0.079521   \n",
       "88555                                    0.097608   \n",
       "88556                                    0.184904   \n",
       "\n",
       "       ABSNJZH_avg_mono_increase_slope  SAVNCPP_avg_mono_decrease_slope  \\\n",
       "0                             0.907985                         0.099690   \n",
       "1                             0.966180                         0.031892   \n",
       "2                             0.948398                         0.049728   \n",
       "3                             0.943507                         0.059199   \n",
       "4                             0.975876                         0.022294   \n",
       "...                                ...                              ...   \n",
       "88552                         0.939266                         0.057497   \n",
       "88553                         0.986529                         0.014260   \n",
       "88554                         0.987869                         0.012566   \n",
       "88555                         0.973282                         0.022278   \n",
       "88556                         0.910494                         0.093319   \n",
       "\n",
       "       SAVNCPP_avg_mono_increase_slope  SAVNCPP_dderivative_stddev  \\\n",
       "0                             0.100066                    0.102358   \n",
       "1                             0.034760                    0.034980   \n",
       "2                             0.051331                    0.052093   \n",
       "3                             0.058710                    0.059671   \n",
       "4                             0.025694                    0.025180   \n",
       "...                                ...                         ...   \n",
       "88552                         0.065002                    0.062841   \n",
       "88553                         0.014678                    0.013554   \n",
       "88554                         0.012885                    0.013014   \n",
       "88555                         0.027569                    0.024832   \n",
       "88556                         0.093930                    0.089917   \n",
       "\n",
       "       SAVNCPP_average_absolute_change  SAVNCPP_gderivative_stddev  \\\n",
       "0                             0.085923                    0.087059   \n",
       "1                             0.036871                    0.026473   \n",
       "2                             0.062940                    0.057651   \n",
       "3                             0.075896                    0.070554   \n",
       "4                             0.028386                    0.017667   \n",
       "...                                ...                         ...   \n",
       "88552                         0.056108                    0.080029   \n",
       "88553                         0.018163                    0.009257   \n",
       "88554                         0.015375                    0.013978   \n",
       "88555                         0.028041                    0.030783   \n",
       "88556                         0.095506                    0.066566   \n",
       "\n",
       "       SAVNCPP_average_absolute_derivative_change  \n",
       "0                                        0.098160  \n",
       "1                                        0.032019  \n",
       "2                                        0.045289  \n",
       "3                                        0.051173  \n",
       "4                                        0.023367  \n",
       "...                                           ...  \n",
       "88552                                    0.061766  \n",
       "88553                                    0.012104  \n",
       "88554                                    0.011461  \n",
       "88555                                    0.023464  \n",
       "88556                                    0.083846  \n",
       "\n",
       "[88557 rows x 21 columns]"
      ]
     },
     "metadata": {},
     "output_type": "display_data"
    }
   ],
   "source": [
    "display(fclass_train1)\n",
    "display(fclass_test)"
   ]
  },
  {
   "cell_type": "markdown",
   "id": "nuclear-reynolds",
   "metadata": {},
   "source": [
    "---\n",
    "### Q2 (10 points)\n",
    "\n",
    "Now that we have our training and testing datasets for each of our feature subsets, we need to attempt to perform hyperparameter tuning on our model for each of the datasets. We want to see which combination of dataset and parameter settings seem to provide the best results. \n",
    "\n",
    "In order to do this, we must first dichotomize the training and testing data. Lucky for you, a method has already been provided to do this. All you need to do is apply it to teach of the `DataFrame`s you constructed in Q1.  \n",
    "\n",
    "With your binary classification dataset constructed, now it's time to start training and testing some models. We will start with the simple [KNeighborsClassifer](https://scikit-learn.org/stable/modules/generated/sklearn.neighbors.KNeighborsClassifier.html), and try several different settings to see how/if using different settings will improve our score. So, for each of your three copies of the Partition 1 training datasets that have had their `lab` columns converted to a binary label, train 4 different instances with the following settings. **(see documentation to know what these are)** In total you will train and evaluate 12 model setting and feature selected data pairings. \n",
    "\n",
    "|Model Number| n_neighbors | p |\n",
    "|------------|-------------|---|\n",
    "|1|3|1|\n",
    "|2|3|2|\n",
    "|3|5|1|\n",
    "|4|5|2|\n",
    "\n",
    "\n",
    "Once you have done that, test each of your models using your binary classification copy of the Partition 2 testing dataset that was cunstructed with the same features the model was trained on. You shall then calculate and print the TSS score for each result. **NOTE: The model does take a little while to evaluate.**\n",
    "\n",
    "---"
   ]
  },
  {
   "cell_type": "code",
   "execution_count": 13,
   "id": "direct-thompson",
   "metadata": {},
   "outputs": [],
   "source": [
    "n_neighbors = [3, 5]\n",
    "p = [1,2]\n",
    "temp = [n_neighbors, p]\n",
    "params = list(itertools.product(*temp))"
   ]
  },
  {
   "cell_type": "code",
   "execution_count": 67,
   "id": "f6f5cee1",
   "metadata": {},
   "outputs": [
    {
     "name": "stdout",
     "output_type": "stream",
     "text": [
      "TN=85645\tFP=1511\tFN=882\tTP=519\n",
      "TN=85107\tFP=2049\tFN=907\tTP=494\n",
      "TN=85769\tFP=1387\tFN=890\tTP=511\n",
      "TN=85361\tFP=1795\tFN=900\tTP=501\n",
      "TN=86112\tFP=1044\tFN=1099\tTP=302\n",
      "TN=86382\tFP=774\tFN=1167\tTP=234\n",
      "TN=86276\tFP=880\tFN=1126\tTP=275\n",
      "TN=86477\tFP=679\tFN=1185\tTP=216\n",
      "TN=72234\tFP=4\tFN=7\tTP=1247\n",
      "TN=72227\tFP=11\tFN=14\tTP=1240\n",
      "TN=72226\tFP=12\tFN=27\tTP=1227\n",
      "TN=72218\tFP=20\tFN=42\tTP=1212\n"
     ]
    }
   ],
   "source": [
    "#fclass_train1, fclass_test, mutual_info_train, mutual_info_test, chi_train, chi_test\n",
    "fclass_train_X, fclass_train_y = dichotomize_X_y(fclass_train1)\n",
    "fclass_test_X, fclass_test_y = dichotomize_X_y(fclass_test)\n",
    "\n",
    "mutual_info_train_X, mutual_info_train_y = dichotomize_X_y(mutaul_info_train)\n",
    "mutual_info_test_X, mutual_info_test_y = dichotomize_X_y(mutaul_info_test)\n",
    "\n",
    "chi_train_X, chi_train_y = dichotomize_X_y(chi_train)\n",
    "chi_test_X, chi_test_y = dichotomize_X_y(chi_train)\n",
    "\n",
    "def get_tss(X_train, y_train, X_test, y_test, n, p_val):\n",
    "    model = kNN(n_neighbors = n, p = p_val)\n",
    "    model = model.fit(X_train, y_train)\n",
    "    y_pred = model.predict(X_test)\n",
    "    model_tss = calc_tss(y_test, y_pred)\n",
    "    return model_tss\n",
    "\n",
    "model1 = get_tss(fclass_train_X, fclass_train_y, fclass_test_X, fclass_test_y, 3, 1)\n",
    "model2 = get_tss(fclass_train_X, fclass_train_y, fclass_test_X, fclass_test_y, 3, 2)\n",
    "model3 = get_tss(fclass_train_X, fclass_train_y, fclass_test_X, fclass_test_y, 5, 1)\n",
    "model4 = get_tss(fclass_train_X, fclass_train_y, fclass_test_X, fclass_test_y, 5, 2)\n",
    "model5 = get_tss(mutual_info_train_X, mutual_info_train_y, mutual_info_test_X, mutual_info_test_y, 3, 1)\n",
    "model6 = get_tss(mutual_info_train_X, mutual_info_train_y, mutual_info_test_X, mutual_info_test_y, 3, 2)\n",
    "model7 = get_tss(mutual_info_train_X, mutual_info_train_y, mutual_info_test_X, mutual_info_test_y, 5, 1)\n",
    "model8 = get_tss(mutual_info_train_X, mutual_info_train_y, mutual_info_test_X, mutual_info_test_y, 5, 2)\n",
    "model9 = get_tss(chi_train_X, chi_train_y, chi_test_X, chi_test_y, 3, 1)\n",
    "model10 = get_tss(chi_train_X, chi_train_y, chi_test_X, chi_test_y, 3, 2)\n",
    "model11 = get_tss(chi_train_X, chi_train_y, chi_test_X, chi_test_y, 5, 1)\n",
    "model12 = get_tss(chi_train_X, chi_train_y, chi_test_X, chi_test_y, 5, 2)\n",
    "    \n",
    "    #----------------------------------------------\n",
    "    # TODO: Complete here.\n",
    "    #----------------------------------------------"
   ]
  },
  {
   "cell_type": "code",
   "execution_count": 68,
   "id": "817be750",
   "metadata": {},
   "outputs": [
    {
     "data": {
      "text/plain": [
       "0.3531129492584269"
      ]
     },
     "metadata": {},
     "output_type": "display_data"
    },
    {
     "data": {
      "text/plain": [
       "0.3290957128928679"
      ]
     },
     "metadata": {},
     "output_type": "display_data"
    },
    {
     "data": {
      "text/plain": [
       "0.3488254785064817"
      ]
     },
     "metadata": {},
     "output_type": "display_data"
    },
    {
     "data": {
      "text/plain": [
       "0.33700645857588984"
      ]
     },
     "metadata": {},
     "output_type": "display_data"
    },
    {
     "data": {
      "text/plain": [
       "0.20358179278918317"
      ]
     },
     "metadata": {},
     "output_type": "display_data"
    },
    {
     "data": {
      "text/plain": [
       "0.15814292676411876"
      ]
     },
     "metadata": {},
     "output_type": "display_data"
    },
    {
     "data": {
      "text/plain": [
       "0.18619152759928467"
      ]
     },
     "metadata": {},
     "output_type": "display_data"
    },
    {
     "data": {
      "text/plain": [
       "0.14638496056641354"
      ]
     },
     "metadata": {},
     "output_type": "display_data"
    },
    {
     "data": {
      "text/plain": [
       "0.9943624903202964"
      ]
     },
     "metadata": {},
     "output_type": "display_data"
    },
    {
     "data": {
      "text/plain": [
       "0.9886834512516287"
      ]
     },
     "metadata": {},
     "output_type": "display_data"
    },
    {
     "data": {
      "text/plain": [
       "0.9783027819656741"
      ]
     },
     "metadata": {},
     "output_type": "display_data"
    },
    {
     "data": {
      "text/plain": [
       "0.9662303144403979"
      ]
     },
     "metadata": {},
     "output_type": "display_data"
    }
   ],
   "source": [
    "display(model1)\n",
    "display(model2)\n",
    "display(model3)\n",
    "display(model4)\n",
    "display(model5)\n",
    "display(model6)\n",
    "display(model7)\n",
    "display(model8)\n",
    "display(model9)\n",
    "display(model10)\n",
    "display(model11)\n",
    "display(model12)"
   ]
  },
  {
   "cell_type": "markdown",
   "id": "textile-rating",
   "metadata": {},
   "source": [
    "---\n",
    "### Q3 (10 points)\n",
    "\n",
    "After evaluating the various results from Q2, you will notice that the results are not all that great with greater than 1000 false negatives for nearly all of our settings tried. But, what can be done to improve our results? If you read the documentation for the [KNeighborsClassifer](https://scikit-learn.org/stable/modules/generated/sklearn.neighbors.KNeighborsClassifier.html), which you certainly should have, you will see that we were only using the `MinkowskiDistance` metric with different values of `p`. If you look into the [DistanceMetric](https://scikit-learn.org/stable/modules/generated/sklearn.neighbors.DistanceMetric.html#sklearn.neighbors.DistanceMetric) documentation for the neighbors classifiers, you will see there are several others available to use.\n",
    "\n",
    "So, for this question, train and evaluate two more instances of [KNeighborsClassifer](https://scikit-learn.org/stable/modules/generated/sklearn.neighbors.KNeighborsClassifier.html) for each of our different feature selection train test datsets, but this time using the `ChebyshevDistance` metric instead of the `MinkowskiDistance` metric.  For these models you will only be changing the number neighbors to 3 and 5, as the values of `p` are not used for the `ChebyshevDistance` metric. \n",
    "\n",
    "---"
   ]
  },
  {
   "cell_type": "code",
   "execution_count": 28,
   "id": "dutch-pound",
   "metadata": {},
   "outputs": [],
   "source": [
    "n_neighbors = [3, 5]\n",
    "temp = [n_neighbors]\n",
    "params = list(itertools.product(*temp))"
   ]
  },
  {
   "cell_type": "code",
   "execution_count": 29,
   "id": "czech-germany",
   "metadata": {},
   "outputs": [
    {
     "name": "stdout",
     "output_type": "stream",
     "text": [
      "TN=86995\tFP=161\tFN=1322\tTP=79\n",
      "TN=86976\tFP=180\tFN=1310\tTP=91\n",
      "TN=87136\tFP=20\tFN=1395\tTP=6\n",
      "TN=87135\tFP=21\tFN=1395\tTP=6\n",
      "TN=72215\tFP=23\tFN=38\tTP=1216\n",
      "TN=72199\tFP=39\tFN=92\tTP=1162\n"
     ]
    }
   ],
   "source": [
    "def get_tss2(X_train, y_train, X_test, y_test, n):\n",
    "    model = kNN(n_neighbors = n, metric = 'chebyshev')\n",
    "    model.fit(X_train, y_train)\n",
    "    y_pred = model.predict(X_test)\n",
    "    model_tss = calc_tss(y_test, y_pred)\n",
    "    return model_tss\n",
    "\n",
    "model13 = get_tss2(fclass_train_X, fclass_train_y, fclass_test_X, fclass_test_y, 3)\n",
    "model14 = get_tss2(fclass_train_X, fclass_train_y, fclass_test_X, fclass_test_y, 5)\n",
    "model15 = get_tss2(mutual_info_train_X, mutual_info_train_y, mutual_info_test_X, mutual_info_test_y, 3)\n",
    "model16 = get_tss2(mutual_info_train_X, mutual_info_train_y, mutual_info_test_X, mutual_info_test_y, 5)\n",
    "model17 = get_tss2(chi_train_X, chi_train_y, chi_test_X, chi_test_y, 3)\n",
    "model18 = get_tss2(chi_train_X, chi_train_y, chi_test_X, chi_test_y, 5)\n",
    "\n",
    "    #----------------------------------------------\n",
    "    # TODO: Complete here.\n",
    "    #----------------------------------------------"
   ]
  },
  {
   "cell_type": "markdown",
   "id": "confirmed-large",
   "metadata": {},
   "source": [
    "---\n",
    "### Q4 (10 points)\n",
    "\n",
    "After evaluating the results from Q3, you will see that the results are no better than those we found for Q2. This leads to the thought that maybe the [KNeighborsClassifer](https://scikit-learn.org/stable/modules/generated/sklearn.neighbors.KNeighborsClassifier.html) is just not a good fit for the problem we are applying it to. So, let's move on to another classifier for this problem. \n",
    "\n",
    "In this question, you will utilize the [DecisionTreeClassifier](https://scikit-learn.org/stable/modules/generated/sklearn.tree.DecisionTreeClassifier.html), and try several different settings to see how/if using different settings will improve our score. So, continuing to use our training/testing pairs constructed with different feature selection methods that have had their `lab` column converted to a binary label, train 8 different instances with the following settings. **(see documentation to know what these are)**\n",
    "\n",
    "|Model Number| criterion | max_depth | splitter |\n",
    "|------------|---------|-------------|---|\n",
    "|1|gini|5|best|\n",
    "|2|gini|5|random|\n",
    "|3|gini|None|best|\n",
    "|4|gini|None|random|\n",
    "|5|entropy|5|best|\n",
    "|6|entropy|5|random|\n",
    "|7|entropy|None|best|\n",
    "|8|entropy|None|random|\n",
    "\n",
    "\n",
    "\n",
    "Once you have done that, test each of your models using your binary classification copy of the Partition 2 testing dataset that was cunstructed with the same features the model was trained on. You shall then calculate and print the TSS score for each result.\n",
    "\n",
    "---"
   ]
  },
  {
   "cell_type": "code",
   "execution_count": 30,
   "id": "accredited-credit",
   "metadata": {},
   "outputs": [],
   "source": [
    "criterion = ['gini', 'entropy']\n",
    "depth = [5, None]\n",
    "splitter = ['best', 'random']\n",
    "temp = [criterion, depth, splitter]\n",
    "params = list(itertools.product(*temp))"
   ]
  },
  {
   "cell_type": "code",
   "execution_count": 37,
   "id": "documented-operations",
   "metadata": {},
   "outputs": [
    {
     "name": "stdout",
     "output_type": "stream",
     "text": [
      "TN=86478\tFP=678\tFN=1090\tTP=311\n",
      "TN=86898\tFP=258\tFN=1200\tTP=201\n",
      "TN=84006\tFP=3150\tFN=702\tTP=699\n",
      "TN=84430\tFP=2726\tFN=771\tTP=630\n",
      "TN=86504\tFP=652\tFN=1094\tTP=307\n",
      "TN=86844\tFP=312\tFN=1172\tTP=229\n",
      "TN=85355\tFP=1801\tFN=1020\tTP=381\n",
      "TN=84872\tFP=2284\tFN=954\tTP=447\n",
      "TN=85113\tFP=2043\tFN=932\tTP=469\n",
      "TN=87037\tFP=119\tFN=1368\tTP=33\n",
      "TN=81200\tFP=5956\tFN=806\tTP=595\n",
      "TN=84624\tFP=2532\tFN=1023\tTP=378\n",
      "TN=85518\tFP=1638\tFN=788\tTP=613\n",
      "TN=87151\tFP=5\tFN=1400\tTP=1\n",
      "TN=85518\tFP=1638\tFN=917\tTP=484\n",
      "TN=81063\tFP=6093\tFN=661\tTP=740\n",
      "TN=71994\tFP=244\tFN=616\tTP=638\n",
      "TN=72041\tFP=197\tFN=812\tTP=442\n",
      "TN=72238\tFP=0\tFN=0\tTP=1254\n",
      "TN=72238\tFP=0\tFN=0\tTP=1254\n",
      "TN=72104\tFP=134\tFN=862\tTP=392\n",
      "TN=72166\tFP=72\tFN=1060\tTP=194\n",
      "TN=72238\tFP=0\tFN=0\tTP=1254\n",
      "TN=72238\tFP=0\tFN=0\tTP=1254\n"
     ]
    }
   ],
   "source": [
    "def get_tss3(X_train, y_train, X_test, y_test, c_val, d_val, s_val):\n",
    "    model = DecisionTreeClassifier(criterion = c_val, max_depth = d_val, splitter = s_val)\n",
    "    model.fit(X_train, y_train)\n",
    "    y_pred = model.predict(X_test)\n",
    "    model_tss = calc_tss(y_test, y_pred)\n",
    "    return model_tss\n",
    "\n",
    "model19 = get_tss3(fclass_train_X, fclass_train_y, fclass_test_X, fclass_test_y, 'gini', 5, 'best')\n",
    "model20 = get_tss3(fclass_train_X, fclass_train_y, fclass_test_X, fclass_test_y, 'gini', 5, 'random')\n",
    "model21 = get_tss3(fclass_train_X, fclass_train_y, fclass_test_X, fclass_test_y, 'gini', None, 'best')\n",
    "model22 = get_tss3(fclass_train_X, fclass_train_y, fclass_test_X, fclass_test_y, 'gini', None, 'random')\n",
    "model23 = get_tss3(fclass_train_X, fclass_train_y, fclass_test_X, fclass_test_y, 'entropy', 5, 'best')\n",
    "model24 = get_tss3(fclass_train_X, fclass_train_y, fclass_test_X, fclass_test_y, 'entropy', 5, 'random')\n",
    "model25 = get_tss3(fclass_train_X, fclass_train_y, fclass_test_X, fclass_test_y, 'entropy', None, 'best')\n",
    "model26 = get_tss3(fclass_train_X, fclass_train_y, fclass_test_X, fclass_test_y, 'entropy', None, 'random')\n",
    "model27 = get_tss3(mutual_info_train_X, mutual_info_train_y, mutual_info_test_X, mutual_info_test_y, 'gini', 5, 'best')\n",
    "model28 = get_tss3(mutual_info_train_X, mutual_info_train_y, mutual_info_test_X, mutual_info_test_y, 'gini', 5, 'random')\n",
    "model29 = get_tss3(mutual_info_train_X, mutual_info_train_y, mutual_info_test_X, mutual_info_test_y, 'gini', None, 'best')\n",
    "model30 = get_tss3(mutual_info_train_X, mutual_info_train_y, mutual_info_test_X, mutual_info_test_y, 'gini', None, 'random')\n",
    "model31 = get_tss3(mutual_info_train_X, mutual_info_train_y, mutual_info_test_X, mutual_info_test_y, 'entropy', 5, 'best')\n",
    "model32 = get_tss3(mutual_info_train_X, mutual_info_train_y, mutual_info_test_X, mutual_info_test_y, 'entropy', 5, 'random')\n",
    "model33 = get_tss3(mutual_info_train_X, mutual_info_train_y, mutual_info_test_X, mutual_info_test_y, 'entropy', None, 'best')\n",
    "model34 = get_tss3(mutual_info_train_X, mutual_info_train_y, mutual_info_test_X, mutual_info_test_y, 'entropy', None, 'random')\n",
    "model35 = get_tss3(chi_train_X, chi_train_y, chi_test_X, chi_test_y, 'gini', 5, 'best')\n",
    "model36 = get_tss3(chi_train_X, chi_train_y, chi_test_X, chi_test_y, 'gini', 5, 'random')\n",
    "model37 = get_tss3(chi_train_X, chi_train_y, chi_test_X, chi_test_y, 'gini', None, 'best')\n",
    "model38 = get_tss3(chi_train_X, chi_train_y, chi_test_X, chi_test_y, 'gini', None, 'random')\n",
    "model39 = get_tss3(chi_train_X, chi_train_y, chi_test_X, chi_test_y, 'entropy', 5, 'best')\n",
    "model40 = get_tss3(chi_train_X, chi_train_y, chi_test_X, chi_test_y, 'entropy', 5, 'random')\n",
    "model41 = get_tss3(chi_train_X, chi_train_y, chi_test_X, chi_test_y, 'entropy', None, 'best')\n",
    "model42 = get_tss3(chi_train_X, chi_train_y, chi_test_X, chi_test_y, 'entropy', None, 'random')\n",
    "    \n",
    "    #----------------------------------------------\n",
    "    # TODO: Complete here.\n",
    "    #----------------------------------------------"
   ]
  },
  {
   "cell_type": "code",
   "execution_count": 38,
   "id": "2282a5e7",
   "metadata": {},
   "outputs": [
    {
     "data": {
      "text/plain": [
       "0.21420514231146043"
      ]
     },
     "metadata": {},
     "output_type": "display_data"
    },
    {
     "data": {
      "text/plain": [
       "0.14050874146955278"
      ]
     },
     "metadata": {},
     "output_type": "display_data"
    },
    {
     "data": {
      "text/plain": [
       "0.46278724614300104"
      ]
     },
     "metadata": {},
     "output_type": "display_data"
    },
    {
     "data": {
      "text/plain": [
       "0.41840155086800473"
      ]
     },
     "metadata": {},
     "output_type": "display_data"
    },
    {
     "data": {
      "text/plain": [
       "0.21164835447782573"
      ]
     },
     "metadata": {},
     "output_type": "display_data"
    },
    {
     "data": {
      "text/plain": [
       "0.15987488726557209"
      ]
     },
     "metadata": {},
     "output_type": "display_data"
    },
    {
     "data": {
      "text/plain": [
       "0.25128451157455933"
      ]
     },
     "metadata": {},
     "output_type": "display_data"
    },
    {
     "data": {
      "text/plain": [
       "0.2928519321430386"
      ]
     },
     "metadata": {},
     "output_type": "display_data"
    },
    {
     "data": {
      "text/plain": [
       "0.31132015810975877"
      ]
     },
     "metadata": {},
     "output_type": "display_data"
    },
    {
     "data": {
      "text/plain": [
       "0.022189236008228815"
      ]
     },
     "metadata": {},
     "output_type": "display_data"
    },
    {
     "data": {
      "text/plain": [
       "0.3563594108690681"
      ]
     },
     "metadata": {},
     "output_type": "display_data"
    },
    {
     "data": {
      "text/plain": [
       "0.24075592432501597"
      ]
     },
     "metadata": {},
     "output_type": "display_data"
    },
    {
     "data": {
      "text/plain": [
       "0.4187507241685219"
      ]
     },
     "metadata": {},
     "output_type": "display_data"
    },
    {
     "data": {
      "text/plain": [
       "0.0006564074774779291"
      ]
     },
     "metadata": {},
     "output_type": "display_data"
    },
    {
     "data": {
      "text/plain": [
       "0.3266736363740893"
      ]
     },
     "metadata": {},
     "output_type": "display_data"
    },
    {
     "data": {
      "text/plain": [
       "0.4582850185785157"
      ]
     },
     "metadata": {},
     "output_type": "display_data"
    },
    {
     "data": {
      "text/plain": [
       "0.5053942061888018"
      ]
     },
     "metadata": {},
     "output_type": "display_data"
    },
    {
     "data": {
      "text/plain": [
       "0.3497449927722084"
      ]
     },
     "metadata": {},
     "output_type": "display_data"
    },
    {
     "data": {
      "text/plain": [
       "1.0"
      ]
     },
     "metadata": {},
     "output_type": "display_data"
    },
    {
     "data": {
      "text/plain": [
       "1.0"
      ]
     },
     "metadata": {},
     "output_type": "display_data"
    },
    {
     "data": {
      "text/plain": [
       "0.31074470164699686"
      ]
     },
     "metadata": {},
     "output_type": "display_data"
    },
    {
     "data": {
      "text/plain": [
       "0.15370823884348622"
      ]
     },
     "metadata": {},
     "output_type": "display_data"
    },
    {
     "data": {
      "text/plain": [
       "1.0"
      ]
     },
     "metadata": {},
     "output_type": "display_data"
    },
    {
     "data": {
      "text/plain": [
       "1.0"
      ]
     },
     "metadata": {},
     "output_type": "display_data"
    }
   ],
   "source": [
    "display(model19)\n",
    "display(model20)\n",
    "display(model21)\n",
    "display(model22)\n",
    "display(model23)\n",
    "display(model24)\n",
    "display(model25)\n",
    "display(model26)\n",
    "display(model27)\n",
    "display(model28)\n",
    "display(model29)\n",
    "display(model30)\n",
    "display(model31)\n",
    "display(model32)\n",
    "display(model33)\n",
    "display(model34)\n",
    "display(model35)\n",
    "display(model36)\n",
    "display(model37)\n",
    "display(model38)\n",
    "display(model39)\n",
    "display(model40)\n",
    "display(model41)\n",
    "display(model42)\n"
   ]
  },
  {
   "cell_type": "markdown",
   "id": "split-finder",
   "metadata": {},
   "source": [
    "---\n",
    "### Q5 (10 points)\n",
    "\n",
    "After evaluating results from Q4, you will see that the [DecisionTreeClassifier](https://scikit-learn.org/stable/modules/generated/sklearn.tree.DecisionTreeClassifier.html) was able to accomplish a bit of an improvement over the best resutls we found for the [KNeighborsClassifer](https://scikit-learn.org/stable/modules/generated/sklearn.neighbors.KNeighborsClassifier.html).  This is indeed great, but can we do better than this if we use yet another classifier? Let's move on to yet another and find out.\n",
    "\n",
    "For this question you will be utilizing the [GaussianNB](https://scikit-learn.org/stable/modules/generated/sklearn.naive_bayes.GaussianNB.html) classifier. We won't be changing any of the default settings, just train 1 model for each of our feature selected data subsets. You will again be using your training/testing pairs constructed with different feature selection methods that have had their `lab` column converted to a binary label. You will then test each of your models using your binary classification copy of the Partition 2 testing dataset that was cunstructed with the same features the model was trained on. You shall then calculate and print the TSS score for each result.\n",
    "\n",
    "---"
   ]
  },
  {
   "cell_type": "code",
   "execution_count": 46,
   "id": "legitimate-alabama",
   "metadata": {},
   "outputs": [
    {
     "name": "stdout",
     "output_type": "stream",
     "text": [
      "TN=0\tFP=87156\tFN=0\tTP=1401\n",
      "TN=87156\tFP=0\tFN=1401\tTP=0\n",
      "TN=63679\tFP=8559\tFN=81\tTP=1173\n"
     ]
    }
   ],
   "source": [
    "def get_tss4(X_train, y_train, X_test, y_test):\n",
    "    clf = GaussianNB()\n",
    "    clf.fit(X_train, y_train)\n",
    "    y_pred = clf.predict(X_test)\n",
    "    clf_tss = calc_tss(y_test, y_pred)\n",
    "    return clf_tss\n",
    "\n",
    "model43 = get_tss4(fclass_train_X, fclass_train_y, fclass_test_X, fclass_test_y)\n",
    "model44 = get_tss4(mutual_info_train_X, mutual_info_train_y, mutual_info_test_X, mutual_info_test_y)\n",
    "model45 = get_tss4(chi_train_X, chi_train_y, chi_test_X, chi_test_y)\n",
    "    #----------------------------------------------\n",
    "    # TODO: Complete here.\n",
    "    #----------------------------------------------"
   ]
  },
  {
   "cell_type": "code",
   "execution_count": 47,
   "id": "46282407",
   "metadata": {},
   "outputs": [
    {
     "data": {
      "text/plain": [
       "0.0"
      ]
     },
     "metadata": {},
     "output_type": "display_data"
    },
    {
     "data": {
      "text/plain": [
       "0"
      ]
     },
     "metadata": {},
     "output_type": "display_data"
    },
    {
     "data": {
      "text/plain": [
       "0.816923351849568"
      ]
     },
     "metadata": {},
     "output_type": "display_data"
    }
   ],
   "source": [
    "display(model43)\n",
    "display(model44)\n",
    "display(model45)"
   ]
  },
  {
   "cell_type": "markdown",
   "id": "small-religion",
   "metadata": {},
   "source": [
    "---\n",
    "### Q6 (10 points)\n",
    "\n",
    "If you recall from a lecture some time back, it was shown that another way of improving the results of classification is to perform some form of sampling to balance the number of samples there are for the various classes. The reason why this works for specific classifiers, and methods for doing the sampling, are numerious and we don't have enough time to cover all of them in this course.  However, it is still beneficial to know this works and that it is something that you should be considering when you are training models.  \n",
    "\n",
    "So, for this question, we will implement a very naive method for sampling so we can use the results for training our models again.  Below you will find a function stub, complete the function and have it return a copy of the input dataframe where each class (except for the smallest one) have been undersampled to match the size of the smallest class in the dataset. In this function you should assume the `lab` column is the class label and not the dicotomized binary classification converted label.\n",
    "\n",
    "To do this you may want to use the [groupby](https://pandas.pydata.org/docs/reference/api/pandas.DataFrame.groupby.html) function of the DataFrame to get groups of rows from your DataFrame.  You may also wish to use the [sample](https://pandas.pydata.org/docs/reference/api/pandas.DataFrame.sample.html) function to select a number of rows from a group. You can also use the [apply](https://pandas.pydata.org/docs/reference/api/pandas.DataFrame.apply.html) method to process each group from your grouped rows. These are just hints, you can solve the problem how you see fit.\n",
    "\n",
    "Once this function is complete, apply it to each of your training datasets that have been constructed with different feature selection methods from partition 1 (the ones with all the NF, C, .., X labels). You will not be applying this to your testing sets. After you have your sampled feature selected datasets, you will then apply your function that converts the multi-class problem to a binary problem to each of the resultant selected subsets so we can use these new undersampled data for the next several questions.\n",
    "\n",
    "---"
   ]
  },
  {
   "cell_type": "code",
   "execution_count": 48,
   "id": "qualified-picnic",
   "metadata": {},
   "outputs": [],
   "source": [
    "def perform_under_sample(data:DataFrame)->DataFrame:\n",
    "    df_copy = data.copy()\n",
    "    group_df = df_copy.groupby(['lab'])\n",
    "    group_df = group_df.sample(frac = 0.5)\n",
    "    return group_df\n",
    "    #----------------------------------------------\n",
    "    # TODO: Complete here.\n",
    "    #----------------------------------------------"
   ]
  },
  {
   "cell_type": "code",
   "execution_count": 52,
   "id": "d1a47c6b",
   "metadata": {},
   "outputs": [],
   "source": [
    "#fclass_train1, fclass_test, mutual_info_train, mutual_info_test, chi_train, chi_test\n",
    "usample_fclass_train = perform_under_sample(fclass_train1)\n",
    "usample_mutual_info_train = perform_under_sample(mutaul_info_train)\n",
    "usample_chi_train = perform_under_sample(chi_train)\n",
    "    #----------------------------------------------\n",
    "    # TODO: Complete here.\n",
    "    #----------------------------------------------"
   ]
  },
  {
   "cell_type": "code",
   "execution_count": 57,
   "id": "d527f8ed",
   "metadata": {},
   "outputs": [],
   "source": [
    "fclass_train_X, fclass_train_y = dichotomize_X_y(usample_fclass_train)\n",
    "#fclass_test_X, fclass_test_y = dichotomize_X_y(fclass_test)\n",
    "\n",
    "mutual_info_train_X, mutual_info_train_y = dichotomize_X_y(usample_mutual_info_train)\n",
    "#mutual_info_test_X, mutual_info_test_y = dichotomize_X_y(mutaul_info_test)\n",
    "\n",
    "chi_train_X, chi_train_y = dichotomize_X_y(usample_chi_train)\n",
    "#chi_test_X, chi_test_y = dichotomize_X_y(chi_train)"
   ]
  },
  {
   "cell_type": "markdown",
   "id": "attempted-signal",
   "metadata": {},
   "source": [
    "---\n",
    "### Q7\n",
    "\n",
    "For this question repeat what you did for Q2, but with your balanced binary classification datasets constructed in Q6, uese the [KNeighborsClassifer](https://scikit-learn.org/stable/modules/generated/sklearn.neighbors.KNeighborsClassifier.html), and try several different settings to see how/if using different settings will improve our score. \n",
    "\n",
    "So, train 4 different instances with the following settings for each of your feature selected subsets, for a total of 12 different evaluations. **(see documentation to know what these are)**\n",
    "\n",
    "|Model Number| n_neighbors | p |\n",
    "|------------|-------------|---|\n",
    "|1|3|1|\n",
    "|2|3|2|\n",
    "|3|5|1|\n",
    "|4|5|2|\n",
    "\n",
    "\n",
    "Once you have done that, test each of your models using your binary classification copy of Partition 2 testing dataset that was cunstructed with the same features the model was trained on (these should not have been balanced). You shall then calculate and print the TSS score for each result. **NOTE: The model now takes less time to evaluate!**\n",
    "\n",
    "---"
   ]
  },
  {
   "cell_type": "code",
   "execution_count": 60,
   "id": "reported-philosophy",
   "metadata": {},
   "outputs": [],
   "source": [
    "n_neighbors = [3, 5]\n",
    "p = [1,2]\n",
    "temp = [n_neighbors, p]\n",
    "params = list(itertools.product(*temp))"
   ]
  },
  {
   "cell_type": "code",
   "execution_count": 58,
   "id": "oriental-permit",
   "metadata": {},
   "outputs": [
    {
     "name": "stdout",
     "output_type": "stream",
     "text": [
      "TN=85722\tFP=1434\tFN=950\tTP=451\n",
      "TN=85462\tFP=1694\tFN=931\tTP=470\n",
      "TN=85934\tFP=1222\tFN=960\tTP=441\n",
      "TN=85418\tFP=1738\tFN=890\tTP=511\n",
      "TN=86263\tFP=893\tFN=1131\tTP=270\n",
      "TN=86468\tFP=688\tFN=1178\tTP=223\n",
      "TN=86496\tFP=660\tFN=1194\tTP=207\n",
      "TN=86472\tFP=684\tFN=1211\tTP=190\n",
      "TN=72188\tFP=50\tFN=74\tTP=1180\n",
      "TN=72177\tFP=61\tFN=80\tTP=1174\n",
      "TN=72174\tFP=64\tFN=133\tTP=1121\n",
      "TN=72171\tFP=67\tFN=147\tTP=1107\n"
     ]
    }
   ],
   "source": [
    "model46 = get_tss(fclass_train_X, fclass_train_y, fclass_test_X, fclass_test_y, 3, 1)\n",
    "model47 = get_tss(fclass_train_X, fclass_train_y, fclass_test_X, fclass_test_y, 3, 2)\n",
    "model48 = get_tss(fclass_train_X, fclass_train_y, fclass_test_X, fclass_test_y, 5, 1)\n",
    "model49 = get_tss(fclass_train_X, fclass_train_y, fclass_test_X, fclass_test_y, 5, 2)\n",
    "model50 = get_tss(mutual_info_train_X, mutual_info_train_y, mutual_info_test_X, mutual_info_test_y, 3, 1)\n",
    "model51 = get_tss(mutual_info_train_X, mutual_info_train_y, mutual_info_test_X, mutual_info_test_y, 3, 2)\n",
    "model52 = get_tss(mutual_info_train_X, mutual_info_train_y, mutual_info_test_X, mutual_info_test_y, 5, 1)\n",
    "model53 = get_tss(mutual_info_train_X, mutual_info_train_y, mutual_info_test_X, mutual_info_test_y, 5, 2)\n",
    "model54 = get_tss(chi_train_X, chi_train_y, chi_test_X, chi_test_y, 3, 1)\n",
    "model55 = get_tss(chi_train_X, chi_train_y, chi_test_X, chi_test_y, 3, 2)\n",
    "model56 = get_tss(chi_train_X, chi_train_y, chi_test_X, chi_test_y, 5, 1)\n",
    "model57 = get_tss(chi_train_X, chi_train_y, chi_test_X, chi_test_y, 5, 2)    \n",
    "    #----------------------------------------------\n",
    "    # TODO: Complete here.\n",
    "    #----------------------------------------------"
   ]
  },
  {
   "cell_type": "code",
   "execution_count": 59,
   "id": "9b6f7a0a",
   "metadata": {},
   "outputs": [
    {
     "data": {
      "text/plain": [
       "0.30545966311311834"
      ]
     },
     "metadata": {},
     "output_type": "display_data"
    },
    {
     "data": {
      "text/plain": [
       "0.31603824808758085"
      ]
     },
     "metadata": {},
     "output_type": "display_data"
    },
    {
     "data": {
      "text/plain": [
       "0.3007543243978186"
      ]
     },
     "metadata": {},
     "output_type": "display_data"
    },
    {
     "data": {
      "text/plain": [
       "0.34479821704427605"
      ]
     },
     "metadata": {},
     "output_type": "display_data"
    },
    {
     "data": {
      "text/plain": [
       "0.18247349039547392"
      ]
     },
     "metadata": {},
     "output_type": "display_data"
    },
    {
     "data": {
      "text/plain": [
       "0.15127812857262612"
      ]
     },
     "metadata": {},
     "output_type": "display_data"
    },
    {
     "data": {
      "text/plain": [
       "0.1401789776052451"
      ]
     },
     "metadata": {},
     "output_type": "display_data"
    },
    {
     "data": {
      "text/plain": [
       "0.12776941943575443"
      ]
     },
     "metadata": {},
     "output_type": "display_data"
    },
    {
     "data": {
      "text/plain": [
       "0.9402966792429402"
      ]
     },
     "metadata": {},
     "output_type": "display_data"
    },
    {
     "data": {
      "text/plain": [
       "0.9353597158215226"
      ]
     },
     "metadata": {},
     "output_type": "display_data"
    },
    {
     "data": {
      "text/plain": [
       "0.8930534336414898"
      ]
     },
     "metadata": {},
     "output_type": "display_data"
    },
    {
     "data": {
      "text/plain": [
       "0.8818476299303565"
      ]
     },
     "metadata": {},
     "output_type": "display_data"
    }
   ],
   "source": [
    "display(model46)\n",
    "display(model47)\n",
    "display(model48)\n",
    "display(model49)\n",
    "display(model50)\n",
    "display(model51)\n",
    "display(model52)\n",
    "display(model53)\n",
    "display(model54)\n",
    "display(model55)\n",
    "display(model56)\n",
    "display(model57)"
   ]
  },
  {
   "cell_type": "markdown",
   "id": "colored-finland",
   "metadata": {},
   "source": [
    "---\n",
    "### Q8\n",
    "\n",
    "After evaluating the various results from Q7, you will notice that some of the results are improved over the same experiments we conducted in Q2. Additionally, you should also notice a improvement in the speed at which the results were obtained. The question now is will we continue to see these improvements for all of our experiments? So, let's move on and see.\n",
    "\n",
    "For this question, you will repeat the experiments from Q3, but using the balanced binary classification datasets constructed in Q6. You will still be using the [KNeighborsClassifer](https://scikit-learn.org/stable/modules/generated/sklearn.neighbors.KNeighborsClassifier.html) like you did in Q7, but you will again be changing from using the `MinkowskiDistance` metric with different values of `p` to using the `ChebyshevDistance` metric. You will construct two models for each of your feature selected datasets by changing the number neighbors to 3 and 5.\n",
    "\n",
    "Once you have done that, test each of your models using your binary classification copy of Partition 2 testing dataset that was cunstructed with the same features the model was trained on (these should not have been balanced), then calculate and print the TSS score for each result. \n",
    "\n",
    "---"
   ]
  },
  {
   "cell_type": "code",
   "execution_count": 61,
   "id": "flush-dictionary",
   "metadata": {},
   "outputs": [],
   "source": [
    "n_neighbors = [3, 5]\n",
    "temp = [n_neighbors]\n",
    "params = list(itertools.product(*temp))"
   ]
  },
  {
   "cell_type": "code",
   "execution_count": 62,
   "id": "better-upper",
   "metadata": {},
   "outputs": [
    {
     "name": "stdout",
     "output_type": "stream",
     "text": [
      "TN=87014\tFP=142\tFN=1318\tTP=83\n",
      "TN=87000\tFP=156\tFN=1291\tTP=110\n",
      "TN=87136\tFP=20\tFN=1395\tTP=6\n",
      "TN=87137\tFP=19\tFN=1395\tTP=6\n",
      "TN=72164\tFP=74\tFN=140\tTP=1114\n",
      "TN=72135\tFP=103\tFN=230\tTP=1024\n"
     ]
    }
   ],
   "source": [
    "model158 = get_tss2(fclass_train_X, fclass_train_y, fclass_test_X, fclass_test_y, 3)\n",
    "model159 = get_tss2(fclass_train_X, fclass_train_y, fclass_test_X, fclass_test_y, 5)\n",
    "model160 = get_tss2(mutual_info_train_X, mutual_info_train_y, mutual_info_test_X, mutual_info_test_y, 3)\n",
    "model161 = get_tss2(mutual_info_train_X, mutual_info_train_y, mutual_info_test_X, mutual_info_test_y, 5)\n",
    "model162 = get_tss2(chi_train_X, chi_train_y, chi_test_X, chi_test_y, 3)\n",
    "model162 = get_tss2(chi_train_X, chi_train_y, chi_test_X, chi_test_y, 5)    \n",
    "    #----------------------------------------------\n",
    "    # TODO: Complete here.\n",
    "    #----------------------------------------------"
   ]
  },
  {
   "cell_type": "markdown",
   "id": "unnecessary-journey",
   "metadata": {},
   "source": [
    "---\n",
    "### Q9\n",
    "\n",
    "After evaluating the results of Q8 things are looking a little less encouraging, since none of those results look to be better than the results of Q7. However, the results from Q3 weren't really any better than Q2 in the first place, so not all is lost.  Let's continue on and see how things turn out with models like we used in Q4 since those were actaully an improvement over Q2 originally.\n",
    "\n",
    "So, in this question, you will utilize the [DecisionTreeClassifier](https://scikit-learn.org/stable/modules/generated/sklearn.tree.DecisionTreeClassifier.html), like you did in Q4, and try several different settings to see how/if using different settings will improve our score. The difference will again be that you are now using the balanced binary classification datasets constructed in Q6 to train 8 different instances for each of your feature selected datasets using the following settings. **(see documentation to know what these are)**\n",
    "\n",
    "|Model Number| criterion | max_depth | splitter |\n",
    "|------------|---------|-------------|---|\n",
    "|1|gini|5|best|\n",
    "|2|gini|5|random|\n",
    "|3|gini|None|best|\n",
    "|4|gini|None|random|\n",
    "|5|entropy|5|best|\n",
    "|6|entropy|5|random|\n",
    "|7|entropy|None|best|\n",
    "|8|entropy|None|random|\n",
    "\n",
    "\n",
    "\n",
    "Once you have done that, test each of your models using your binary classification copy of copy of Partition 2 testing dataset that was cunstructed with the same features the model was trained on (this should not have been balanced), then calculate and print the TSS score for each result. \n",
    "\n",
    "---"
   ]
  },
  {
   "cell_type": "code",
   "execution_count": 63,
   "id": "level-daughter",
   "metadata": {},
   "outputs": [],
   "source": [
    "criterion = ['gini', 'entropy']\n",
    "depth = [5, None]\n",
    "splitter = ['best', 'random']\n",
    "temp = [criterion, depth, splitter]\n",
    "params = list(itertools.product(*temp))"
   ]
  },
  {
   "cell_type": "code",
   "execution_count": 64,
   "id": "caroline-monster",
   "metadata": {},
   "outputs": [
    {
     "name": "stdout",
     "output_type": "stream",
     "text": [
      "TN=86593\tFP=563\tFN=1259\tTP=142\n",
      "TN=86994\tFP=162\tFN=1360\tTP=41\n",
      "TN=83602\tFP=3554\tFN=685\tTP=716\n",
      "TN=84690\tFP=2466\tFN=841\tTP=560\n",
      "TN=86286\tFP=870\tFN=1086\tTP=315\n",
      "TN=86815\tFP=341\tFN=1196\tTP=205\n",
      "TN=84006\tFP=3150\tFN=840\tTP=561\n",
      "TN=85267\tFP=1889\tFN=1009\tTP=392\n",
      "TN=86152\tFP=1004\tFN=1088\tTP=313\n",
      "TN=86869\tFP=287\tFN=1290\tTP=111\n",
      "TN=83094\tFP=4062\tFN=910\tTP=491\n",
      "TN=82283\tFP=4873\tFN=989\tTP=412\n",
      "TN=86864\tFP=292\tFN=1289\tTP=112\n",
      "TN=87107\tFP=49\tFN=1382\tTP=19\n",
      "TN=84967\tFP=2189\tFN=916\tTP=485\n",
      "TN=84796\tFP=2360\tFN=1030\tTP=371\n",
      "TN=72054\tFP=184\tFN=643\tTP=611\n",
      "TN=72077\tFP=161\tFN=819\tTP=435\n",
      "TN=72145\tFP=93\tFN=105\tTP=1149\n",
      "TN=72107\tFP=131\tFN=103\tTP=1151\n",
      "TN=72057\tFP=181\tFN=810\tTP=444\n",
      "TN=72026\tFP=212\tFN=860\tTP=394\n",
      "TN=72142\tFP=96\tFN=103\tTP=1151\n",
      "TN=72120\tFP=118\tFN=113\tTP=1141\n"
     ]
    }
   ],
   "source": [
    "model63 = get_tss3(fclass_train_X, fclass_train_y, fclass_test_X, fclass_test_y, 'gini', 5, 'best')\n",
    "model64 = get_tss3(fclass_train_X, fclass_train_y, fclass_test_X, fclass_test_y, 'gini', 5, 'random')\n",
    "model65 = get_tss3(fclass_train_X, fclass_train_y, fclass_test_X, fclass_test_y, 'gini', None, 'best')\n",
    "model66 = get_tss3(fclass_train_X, fclass_train_y, fclass_test_X, fclass_test_y, 'gini', None, 'random')\n",
    "model67 = get_tss3(fclass_train_X, fclass_train_y, fclass_test_X, fclass_test_y, 'entropy', 5, 'best')\n",
    "model68 = get_tss3(fclass_train_X, fclass_train_y, fclass_test_X, fclass_test_y, 'entropy', 5, 'random')\n",
    "model69 = get_tss3(fclass_train_X, fclass_train_y, fclass_test_X, fclass_test_y, 'entropy', None, 'best')\n",
    "model70 = get_tss3(fclass_train_X, fclass_train_y, fclass_test_X, fclass_test_y, 'entropy', None, 'random')\n",
    "model71 = get_tss3(mutual_info_train_X, mutual_info_train_y, mutual_info_test_X, mutual_info_test_y, 'gini', 5, 'best')\n",
    "model72 = get_tss3(mutual_info_train_X, mutual_info_train_y, mutual_info_test_X, mutual_info_test_y, 'gini', 5, 'random')\n",
    "model73 = get_tss3(mutual_info_train_X, mutual_info_train_y, mutual_info_test_X, mutual_info_test_y, 'gini', None, 'best')\n",
    "model74 = get_tss3(mutual_info_train_X, mutual_info_train_y, mutual_info_test_X, mutual_info_test_y, 'gini', None, 'random')\n",
    "model75 = get_tss3(mutual_info_train_X, mutual_info_train_y, mutual_info_test_X, mutual_info_test_y, 'entropy', 5, 'best')\n",
    "model76 = get_tss3(mutual_info_train_X, mutual_info_train_y, mutual_info_test_X, mutual_info_test_y, 'entropy', 5, 'random')\n",
    "model77 = get_tss3(mutual_info_train_X, mutual_info_train_y, mutual_info_test_X, mutual_info_test_y, 'entropy', None, 'best')\n",
    "model78 = get_tss3(mutual_info_train_X, mutual_info_train_y, mutual_info_test_X, mutual_info_test_y, 'entropy', None, 'random')\n",
    "model79 = get_tss3(chi_train_X, chi_train_y, chi_test_X, chi_test_y, 'gini', 5, 'best')\n",
    "model80 = get_tss3(chi_train_X, chi_train_y, chi_test_X, chi_test_y, 'gini', 5, 'random')\n",
    "model81 = get_tss3(chi_train_X, chi_train_y, chi_test_X, chi_test_y, 'gini', None, 'best')\n",
    "model82 = get_tss3(chi_train_X, chi_train_y, chi_test_X, chi_test_y, 'gini', None, 'random')\n",
    "model83 = get_tss3(chi_train_X, chi_train_y, chi_test_X, chi_test_y, 'entropy', 5, 'best')\n",
    "model84 = get_tss3(chi_train_X, chi_train_y, chi_test_X, chi_test_y, 'entropy', 5, 'random')\n",
    "model85 = get_tss3(chi_train_X, chi_train_y, chi_test_X, chi_test_y, 'entropy', None, 'best')\n",
    "model86 = get_tss3(chi_train_X, chi_train_y, chi_test_X, chi_test_y, 'entropy', None, 'random')    \n",
    "    #----------------------------------------------\n",
    "    # TODO: Complete here.\n",
    "    #----------------------------------------------"
   ]
  },
  {
   "cell_type": "code",
   "execution_count": 65,
   "id": "41b392a1",
   "metadata": {},
   "outputs": [
    {
     "data": {
      "text/plain": [
       "0.09489649267065292"
      ]
     },
     "metadata": {},
     "output_type": "display_data"
    },
    {
     "data": {
      "text/plain": [
       "0.027406074789913738"
      ]
     },
     "metadata": {},
     "output_type": "display_data"
    },
    {
     "data": {
      "text/plain": [
       "0.4702860695380643"
      ]
     },
     "metadata": {},
     "output_type": "display_data"
    },
    {
     "data": {
      "text/plain": [
       "0.37142039630039436"
      ]
     },
     "metadata": {},
     "output_type": "display_data"
    },
    {
     "data": {
      "text/plain": [
       "0.21485729936809755"
      ]
     },
     "metadata": {},
     "output_type": "display_data"
    },
    {
     "data": {
      "text/plain": [
       "0.1424115295785558"
      ]
     },
     "metadata": {},
     "output_type": "display_data"
    },
    {
     "data": {
      "text/plain": [
       "0.3642861754791895"
      ]
     },
     "metadata": {},
     "output_type": "display_data"
    },
    {
     "data": {
      "text/plain": [
       "0.2581263624072929"
      ]
     },
     "metadata": {},
     "output_type": "display_data"
    },
    {
     "data": {
      "text/plain": [
       "0.2118922745824932"
      ]
     },
     "metadata": {},
     "output_type": "display_data"
    },
    {
     "data": {
      "text/plain": [
       "0.07593617607375704"
      ]
     },
     "metadata": {},
     "output_type": "display_data"
    },
    {
     "data": {
      "text/plain": [
       "0.30385786867880116"
      ]
     },
     "metadata": {},
     "output_type": "display_data"
    },
    {
     "data": {
      "text/plain": [
       "0.23816442062636362"
      ]
     },
     "metadata": {},
     "output_type": "display_data"
    },
    {
     "data": {
      "text/plain": [
       "0.07659258355123497"
      ]
     },
     "metadata": {},
     "output_type": "display_data"
    },
    {
     "data": {
      "text/plain": [
       "0.01299953132353781"
      ]
     },
     "metadata": {},
     "output_type": "display_data"
    },
    {
     "data": {
      "text/plain": [
       "0.3210654149103584"
      ]
     },
     "metadata": {},
     "output_type": "display_data"
    },
    {
     "data": {
      "text/plain": [
       "0.23773296605766245"
      ]
     },
     "metadata": {},
     "output_type": "display_data"
    },
    {
     "data": {
      "text/plain": [
       "0.4846936934896181"
      ]
     },
     "metadata": {},
     "output_type": "display_data"
    },
    {
     "data": {
      "text/plain": [
       "0.3446612082786949"
      ]
     },
     "metadata": {},
     "output_type": "display_data"
    },
    {
     "data": {
      "text/plain": [
       "0.91498053152584"
      ]
     },
     "metadata": {},
     "output_type": "display_data"
    },
    {
     "data": {
      "text/plain": [
       "0.916049388930698"
      ]
     },
     "metadata": {},
     "output_type": "display_data"
    },
    {
     "data": {
      "text/plain": [
       "0.35156137917842284"
      ]
     },
     "metadata": {},
     "output_type": "display_data"
    },
    {
     "data": {
      "text/plain": [
       "0.3112598338656646"
      ]
     },
     "metadata": {},
     "output_type": "display_data"
    },
    {
     "data": {
      "text/plain": [
       "0.9165338984686142"
      ]
     },
     "metadata": {},
     "output_type": "display_data"
    },
    {
     "data": {
      "text/plain": [
       "0.9082548679575175"
      ]
     },
     "metadata": {},
     "output_type": "display_data"
    }
   ],
   "source": [
    "display(model63)\n",
    "display(model64)\n",
    "display(model65)\n",
    "display(model66)\n",
    "display(model67)\n",
    "display(model68)\n",
    "display(model69)\n",
    "display(model70)\n",
    "display(model71)\n",
    "display(model72)\n",
    "display(model73)\n",
    "display(model74)\n",
    "display(model75)\n",
    "display(model76)\n",
    "display(model77)\n",
    "display(model78)\n",
    "display(model79)\n",
    "display(model80)\n",
    "display(model81)\n",
    "display(model82)\n",
    "display(model83)\n",
    "display(model84)\n",
    "display(model85)\n",
    "display(model86)"
   ]
  },
  {
   "cell_type": "markdown",
   "id": "empty-bulgaria",
   "metadata": {},
   "source": [
    "---\n",
    "### Q10\n",
    "\n",
    "Unlike with [KNeighborsClassifer](https://scikit-learn.org/stable/modules/generated/sklearn.neighbors.KNeighborsClassifier.html), it seems that the sampling didn't really help much for the [DecisionTreeClassifier](https://scikit-learn.org/stable/modules/generated/sklearn.tree.DecisionTreeClassifier.html).  Where before we saw a 3X improvement with the Decision Tree over the KNN classifier, we now see similar results for both classifiers.  Let's see how switching to the sampled data affectes our best performing classifier when we were using the full dataset.\n",
    "\n",
    "For this question you will again be utilizing the [GaussianNB](https://scikit-learn.org/stable/modules/generated/sklearn.naive_bayes.GaussianNB.html) classifier as you did in Q5 but using your balanced binary classification dataset constructed in Q6 to train just 1 model for each feature selected dataset. Once you have done that, test the model using your binary classification copy of Partition 2 testing dataset that was cunstructed with the same features the model was trained on (this should not have been balanced), then calculate and print the TSS score. \n",
    "\n",
    "---"
   ]
  },
  {
   "cell_type": "code",
   "execution_count": 66,
   "id": "indirect-albert",
   "metadata": {},
   "outputs": [
    {
     "name": "stdout",
     "output_type": "stream",
     "text": [
      "TN=0\tFP=87156\tFN=0\tTP=1401\n",
      "TN=87156\tFP=0\tFN=1401\tTP=0\n",
      "TN=63387\tFP=8851\tFN=71\tTP=1183\n"
     ]
    }
   ],
   "source": [
    "model87 = get_tss4(fclass_train_X, fclass_train_y, fclass_test_X, fclass_test_y)\n",
    "model88 = get_tss4(mutual_info_train_X, mutual_info_train_y, mutual_info_test_X, mutual_info_test_y)\n",
    "model89 = get_tss4(chi_train_X, chi_train_y, chi_test_X, chi_test_y)    \n",
    "    #----------------------------------------------\n",
    "    # TODO: Complete here.\n",
    "    #----------------------------------------------"
   ]
  },
  {
   "cell_type": "markdown",
   "id": "b5dbbeda",
   "metadata": {},
   "source": [
    "Unfortunately, we don't see much improvement for our [GaussianNB](https://scikit-learn.org/stable/modules/generated/sklearn.naive_bayes.GaussianNB.html) classifier. \n",
    "\n",
    "**Note:The TA would like you to turn in assignments that have been run and have results, so make sure to do a restart and run all from the kernel menu. Then make sure to save before you turn it in. You might find it necessary to use the toy dataset if you have time constraints.**"
   ]
  }
 ],
 "metadata": {
  "kernelspec": {
   "display_name": "Python 3",
   "language": "python",
   "name": "python3"
  },
  "language_info": {
   "codemirror_mode": {
    "name": "ipython",
    "version": 3
   },
   "file_extension": ".py",
   "mimetype": "text/x-python",
   "name": "python",
   "nbconvert_exporter": "python",
   "pygments_lexer": "ipython3",
   "version": "3.8.8"
  }
 },
 "nbformat": 4,
 "nbformat_minor": 5
}
